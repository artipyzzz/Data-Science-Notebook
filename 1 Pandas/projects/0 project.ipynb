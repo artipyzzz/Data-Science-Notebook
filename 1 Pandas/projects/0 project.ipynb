{
 "cells": [
  {
   "cell_type": "markdown",
   "metadata": {},
   "source": [
    "# Выполним небольшой проект на проверку знаний из модуля 1 Pandas\n",
    "\n",
    "У нас есть файл files/shoefly.csv в котором содержится информация по покупателям обуви из нашего магазина"
   ]
  },
  {
   "cell_type": "code",
   "execution_count": 1,
   "metadata": {},
   "outputs": [
    {
     "name": "stdout",
     "output_type": "stream",
     "text": [
      "      id first_name last_name                         email     shoe_type  \\\n",
      "0  54791    Rebecca   Lindsay  RebeccaLindsay57@hotmail.com         clogs   \n",
      "1  53450      Emily     Joyce        EmilyJoyce25@gmail.com  ballet flats   \n",
      "2  91987      Joyce    Waller        Joyce.Waller@gmail.com       sandals   \n",
      "3  14437     Justin  Erickson   Justin.Erickson@outlook.com         clogs   \n",
      "4  79357     Andrew     Banks              AB4318@gmail.com         boots   \n",
      "\n",
      "  shoe_material shoe_color  \n",
      "0  faux-leather      black  \n",
      "1  faux-leather       navy  \n",
      "2        fabric      black  \n",
      "3  faux-leather        red  \n",
      "4       leather      brown  \n"
     ]
    }
   ],
   "source": [
    "# Прочитаем данные из файла\n",
    "import pandas as pd\n",
    "\n",
    "orders = pd.read_csv('../files/shoefly.csv')\n",
    "\n",
    "# выведем на экран несколько строк датасета\n",
    "print(orders.head())"
   ]
  },
  {
   "cell_type": "code",
   "execution_count": 2,
   "metadata": {},
   "outputs": [
    {
     "name": "stdout",
     "output_type": "stream",
     "text": [
      "0     RebeccaLindsay57@hotmail.com\n",
      "1           EmilyJoyce25@gmail.com\n",
      "2           Joyce.Waller@gmail.com\n",
      "3      Justin.Erickson@outlook.com\n",
      "4                 AB4318@gmail.com\n",
      "5           JulieMarsh59@gmail.com\n",
      "6                 TJ5470@gmail.com\n",
      "7           Janice.Hicks@gmail.com\n",
      "8        GabrielPorter24@gmail.com\n",
      "9        FrancesPalmer50@gmail.com\n",
      "10         JessicaHale25@gmail.com\n",
      "11      LawrenceParker44@gmail.com\n",
      "12         SusanDennis58@gmail.com\n",
      "13                DO2680@gmail.com\n",
      "14       Rebecca.Charles@gmail.com\n",
      "15              JC2072@hotmail.com\n",
      "16              VS4753@outlook.com\n",
      "17          RoyTillman20@gmail.com\n",
      "18       Thomas.Roberson@gmail.com\n",
      "19         ANewton1977@outlook.com\n",
      "Name: email, dtype: object\n"
     ]
    }
   ],
   "source": [
    "# Давайте попробуем получить список электронных почт клиентов и запишем ее в переменную emails\n",
    "emails = orders.email\n",
    "\n",
    "print(emails)"
   ]
  },
  {
   "cell_type": "code",
   "execution_count": 3,
   "metadata": {},
   "outputs": [
    {
     "name": "stdout",
     "output_type": "stream",
     "text": [
      "      id first_name last_name                      email shoe_type  \\\n",
      "9  62083    Frances    Palmer  FrancesPalmer50@gmail.com    wedges   \n",
      "\n",
      "  shoe_material shoe_color  \n",
      "9       leather      white  \n"
     ]
    }
   ],
   "source": [
    "# Попробуем получить строку по условию\n",
    "filtered_row = orders[(orders.first_name == 'Frances') & (orders.last_name == 'Palmer')]\n",
    "print(filtered_row)"
   ]
  },
  {
   "cell_type": "code",
   "execution_count": 4,
   "metadata": {},
   "outputs": [
    {
     "name": "stdout",
     "output_type": "stream",
     "text": [
      "      id first_name last_name                         email     shoe_type  \\\n",
      "0  54791    Rebecca   Lindsay  RebeccaLindsay57@hotmail.com         clogs   \n",
      "1  53450      Emily     Joyce        EmilyJoyce25@gmail.com  ballet flats   \n",
      "2  14437     Justin  Erickson   Justin.Erickson@outlook.com         clogs   \n",
      "3  79357     Andrew     Banks              AB4318@gmail.com         boots   \n",
      "4  20487     Thomas    Jensen              TJ5470@gmail.com         clogs   \n",
      "\n",
      "  shoe_material shoe_color  \n",
      "0  faux-leather      black  \n",
      "1  faux-leather       navy  \n",
      "2  faux-leather        red  \n",
      "3       leather      brown  \n",
      "4        fabric       navy  \n"
     ]
    }
   ],
   "source": [
    "# Создадим новый набор данных который будет содержать данные обуви категории комфортных\n",
    "comfy_shoes = orders[orders.shoe_type.isin(['clogs','boots','ballet flats'])]\n",
    "# чтобы сразу корректно проиндексировать данные в новом наборе воспользуемся методом reset_index() с параметрами\n",
    "comfy_shoes.reset_index(drop=True, inplace=True)\n",
    "print(comfy_shoes.head())"
   ]
  }
 ],
 "metadata": {
  "kernelspec": {
   "display_name": "Python 3",
   "language": "python",
   "name": "python3"
  },
  "language_info": {
   "codemirror_mode": {
    "name": "ipython",
    "version": 3
   },
   "file_extension": ".py",
   "mimetype": "text/x-python",
   "name": "python",
   "nbconvert_exporter": "python",
   "pygments_lexer": "ipython3",
   "version": "3.12.5"
  }
 },
 "nbformat": 4,
 "nbformat_minor": 2
}
