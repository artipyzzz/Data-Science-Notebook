{
 "cells": [
  {
   "cell_type": "markdown",
   "metadata": {},
   "source": [
    "# Описание\n",
    "\n",
    "Проект на проверку знаний по изменению DataFrame-ов и работой с ним\n",
    "\n",
    "Файл набора данных: *../files/inventory.csv*"
   ]
  },
  {
   "cell_type": "code",
   "execution_count": 1,
   "metadata": {},
   "outputs": [
    {
     "name": "stdout",
     "output_type": "stream",
     "text": [
      "        location  product_type product_description  quantity  price\n",
      "0  Staten Island         seeds               daisy         4   6.99\n",
      "1  Staten Island         seeds          calla lily        46  19.99\n",
      "2  Staten Island         seeds              tomato        85  13.99\n",
      "3  Staten Island  garden tools                rake         4  13.99\n",
      "4  Staten Island  garden tools         wheelbarrow         0  89.99\n"
     ]
    }
   ],
   "source": [
    "# импортируем библиотеку pandas\n",
    "import pandas as pd\n",
    "\n",
    "# загружаем данные в переменную\n",
    "inventory = pd.read_csv('../files/inventory.csv')\n",
    "\n",
    "# отобразим первые пару строк набора данных\n",
    "print(inventory.head())"
   ]
  },
  {
   "cell_type": "code",
   "execution_count": 3,
   "metadata": {},
   "outputs": [
    {
     "name": "stdout",
     "output_type": "stream",
     "text": [
      "        location  product_type product_description  quantity  price\n",
      "0  Staten Island         seeds               daisy         4   6.99\n",
      "1  Staten Island         seeds          calla lily        46  19.99\n",
      "2  Staten Island         seeds              tomato        85  13.99\n",
      "3  Staten Island  garden tools                rake         4  13.99\n",
      "4  Staten Island  garden tools         wheelbarrow         0  89.99\n",
      "['Staten Island']\n"
     ]
    }
   ],
   "source": [
    "# Сохраним в переменную staten_island все строки значения которых в колонке location ему равны\n",
    "staten_island = inventory[inventory.location == 'Staten Island']\n",
    "\n",
    "# выведем полученный результат\n",
    "print(staten_island.head())\n",
    "\n",
    "# проверим действительно ли в столбце location находятся только те строки которые равны staten island\n",
    "print(staten_island.location.unique())"
   ]
  },
  {
   "cell_type": "code",
   "execution_count": 4,
   "metadata": {},
   "outputs": [
    {
     "name": "stdout",
     "output_type": "stream",
     "text": [
      "    location product_type product_description  quantity  price\n",
      "10  Brooklyn        seeds               daisy        50   6.99\n",
      "11  Brooklyn        seeds          calla lily         0  19.99\n",
      "12  Brooklyn        seeds              tomato         0  13.99\n"
     ]
    }
   ],
   "source": [
    "# Теперь получим выборку из данных значения которых\n",
    "# location - Brooklyn\n",
    "# product_type - seeds\n",
    "# переменную назовем seed_request\n",
    "\n",
    "seed_request = inventory[(inventory.location == 'Brooklyn') & (inventory.product_type == 'seeds')]\n",
    "\n",
    "# выведем результат\n",
    "print(seed_request)"
   ]
  },
  {
   "cell_type": "code",
   "execution_count": 5,
   "metadata": {},
   "outputs": [
    {
     "name": "stdout",
     "output_type": "stream",
     "text": [
      "        location  product_type product_description  quantity  price  in_stock\n",
      "0  Staten Island         seeds               daisy         4   6.99      True\n",
      "1  Staten Island         seeds          calla lily        46  19.99      True\n",
      "2  Staten Island         seeds              tomato        85  13.99      True\n",
      "3  Staten Island  garden tools                rake         4  13.99      True\n",
      "4  Staten Island  garden tools         wheelbarrow         0  89.99     False\n"
     ]
    }
   ],
   "source": [
    "# Добавим колонку in_stock которая будет содеражть булевое значение\n",
    "# True если кол-во quantity больше 0\n",
    "# False если равно 0\n",
    "\n",
    "inventory['in_stock'] = inventory.apply(lambda row: True if row.quantity > 0 else False, axis =1)\n",
    "\n",
    "# результат\n",
    "print(inventory.head())"
   ]
  },
  {
   "cell_type": "code",
   "execution_count": 7,
   "metadata": {},
   "outputs": [
    {
     "name": "stdout",
     "output_type": "stream",
     "text": [
      "        location  product_type product_description  quantity  price  in_stock  \\\n",
      "0  Staten Island         seeds               daisy         4   6.99      True   \n",
      "1  Staten Island         seeds          calla lily        46  19.99      True   \n",
      "2  Staten Island         seeds              tomato        85  13.99      True   \n",
      "3  Staten Island  garden tools                rake         4  13.99      True   \n",
      "4  Staten Island  garden tools         wheelbarrow         0  89.99     False   \n",
      "\n",
      "   total_value  \n",
      "0        27.96  \n",
      "1       919.54  \n",
      "2      1189.15  \n",
      "3        55.96  \n",
      "4         0.00  \n"
     ]
    }
   ],
   "source": [
    "# создадим новую колонку которая будет равно результату умножения значения price и quantity\n",
    "# данную колонку назовем total_value\n",
    "\n",
    "inventory['total_value'] = inventory.apply(lambda x: x.price * x.quantity, axis=1)\n",
    "\n",
    "print(inventory.head())"
   ]
  },
  {
   "cell_type": "code",
   "execution_count": 8,
   "metadata": {},
   "outputs": [
    {
     "name": "stdout",
     "output_type": "stream",
     "text": [
      "        location  product_type product_description  quantity  price  in_stock  \\\n",
      "0  Staten Island         seeds               daisy         4   6.99      True   \n",
      "1  Staten Island         seeds          calla lily        46  19.99      True   \n",
      "2  Staten Island         seeds              tomato        85  13.99      True   \n",
      "3  Staten Island  garden tools                rake         4  13.99      True   \n",
      "4  Staten Island  garden tools         wheelbarrow         0  89.99     False   \n",
      "\n",
      "   total_value            full_description  \n",
      "0        27.96               seeds - daisy  \n",
      "1       919.54          seeds - calla lily  \n",
      "2      1189.15              seeds - tomato  \n",
      "3        55.96         garden tools - rake  \n",
      "4         0.00  garden tools - wheelbarrow  \n"
     ]
    }
   ],
   "source": [
    "# Создади новую колонку которая будет содержать строку данных состоящую из значений колонок product_type и product_description\n",
    "# колонку назовем full_description\n",
    "# на этот раз lambda функцию следует создать не методе apply()\n",
    "combine_lambda = lambda x: f'{x.product_type} - {x.product_description}' \n",
    "\n",
    "inventory['full_description'] = inventory.apply(combine_lambda, axis=1)\n",
    "\n",
    "print(inventory.head())"
   ]
  }
 ],
 "metadata": {
  "kernelspec": {
   "display_name": "Python 3",
   "language": "python",
   "name": "python3"
  },
  "language_info": {
   "codemirror_mode": {
    "name": "ipython",
    "version": 3
   },
   "file_extension": ".py",
   "mimetype": "text/x-python",
   "name": "python",
   "nbconvert_exporter": "python",
   "pygments_lexer": "ipython3",
   "version": "3.12.5"
  }
 },
 "nbformat": 4,
 "nbformat_minor": 2
}
