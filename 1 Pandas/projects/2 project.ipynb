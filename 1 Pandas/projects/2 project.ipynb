{
 "cells": [
  {
   "cell_type": "markdown",
   "metadata": {},
   "source": [
    "# Описание\n",
    "\n",
    "Выполним небольшой проект на усвоенные знания в модуле 3 Aggregates\n",
    "\n",
    "Для выполнения задания создали набор данных которых хранится в файле *../files/ad_clicks.csv*\n",
    "\n",
    "Проект будет заключаться в проведении **A/B Тестирования**"
   ]
  },
  {
   "cell_type": "code",
   "execution_count": 21,
   "metadata": {},
   "outputs": [
    {
     "name": "stdout",
     "output_type": "stream",
     "text": [
      "                                user_id utm_source           day  \\\n",
      "0  008b7c6c-7272-471e-b90e-930d548bd8d7     google  6 - Saturday   \n",
      "1  009abb94-5e14-4b6c-bb1c-4f4df7aa7557   facebook    7 - Sunday   \n",
      "2  00f5d532-ed58-4570-b6d2-768df5f41aed    twitter   2 - Tuesday   \n",
      "3  011adc64-0f44-4fd9-a0bb-f1506d2ad439     google   2 - Tuesday   \n",
      "4  012137e6-7ae7-4649-af68-205b4702169c   facebook    7 - Sunday   \n",
      "\n",
      "  ad_click_timestamp experimental_group  \n",
      "0               7:18                  A  \n",
      "1                NaN                  B  \n",
      "2                NaN                  A  \n",
      "3                NaN                  B  \n",
      "4                NaN                  B  \n"
     ]
    }
   ],
   "source": [
    "import pandas as pd\n",
    "\n",
    "ad_click = pd.read_csv('../files/ad_clicks.csv')\n",
    "\n",
    "print(ad_click.head())"
   ]
  },
  {
   "cell_type": "code",
   "execution_count": 22,
   "metadata": {},
   "outputs": [
    {
     "name": "stdout",
     "output_type": "stream",
     "text": [
      "  utm_source  user_id\n",
      "2     google      680\n",
      "1   facebook      504\n",
      "0      email      255\n",
      "3    twitter      215\n"
     ]
    }
   ],
   "source": [
    "# Давайте посмотрим из какого источника приходит больше всего пользователей (utm_source)\n",
    "\n",
    "the_most_clicks_from_source = ad_click.groupby('utm_source').user_id.count().reset_index()\n",
    "\n",
    "print(the_most_clicks_from_source.sort_values(by='user_id', ascending=False))"
   ]
  },
  {
   "cell_type": "code",
   "execution_count": 23,
   "metadata": {},
   "outputs": [
    {
     "name": "stdout",
     "output_type": "stream",
     "text": [
      "                                user_id utm_source           day  \\\n",
      "0  008b7c6c-7272-471e-b90e-930d548bd8d7     google  6 - Saturday   \n",
      "1  009abb94-5e14-4b6c-bb1c-4f4df7aa7557   facebook    7 - Sunday   \n",
      "2  00f5d532-ed58-4570-b6d2-768df5f41aed    twitter   2 - Tuesday   \n",
      "3  011adc64-0f44-4fd9-a0bb-f1506d2ad439     google   2 - Tuesday   \n",
      "4  012137e6-7ae7-4649-af68-205b4702169c   facebook    7 - Sunday   \n",
      "\n",
      "  ad_click_timestamp experimental_group  is_click  \n",
      "0               7:18                  A      True  \n",
      "1                NaN                  B     False  \n",
      "2                NaN                  A     False  \n",
      "3                NaN                  B     False  \n",
      "4                NaN                  B     False  \n"
     ]
    }
   ],
   "source": [
    "# создайте новую колонку которая будет содержать булевые значения в зависимости от наличия данных в колонке ad_click_timestamp\n",
    "# дайте новое имя колонки is_click\n",
    "\n",
    "ad_click['is_click'] = ad_click.ad_click_timestamp.notna()\n",
    "\n",
    "print(ad_click.head())\n"
   ]
  },
  {
   "cell_type": "code",
   "execution_count": 33,
   "metadata": {},
   "outputs": [
    {
     "name": "stdout",
     "output_type": "stream",
     "text": [
      "  utm_source  is_click  user_id\n",
      "0      email     False      175\n",
      "1      email      True       80\n",
      "2   facebook     False      324\n",
      "3   facebook      True      180\n",
      "4     google     False      441\n",
      "5     google      True      239\n",
      "6    twitter     False      149\n",
      "7    twitter      True       66\n",
      "\n",
      "is_click utm_source  False  True\n",
      "0             email    175    80\n",
      "1          facebook    324   180\n",
      "2            google    441   239\n",
      "3           twitter    149    66\n",
      "\n",
      "is_click utm_source  False  True  percent_clicked\n",
      "0             email    175    80        31.372549\n",
      "1          facebook    324   180        35.714286\n",
      "2            google    441   239        35.147059\n",
      "3           twitter    149    66        30.697674\n"
     ]
    }
   ],
   "source": [
    "# Теперь рассчитайте процент кликнувших пользователей по рекламе в разрезе каждого источника трафика\n",
    "\n",
    "# для начала аггрегируем значения по двум колонкам utm_source и is_click\n",
    "\n",
    "clicks_by_source = ad_click.groupby(['utm_source','is_click']).user_id.count().reset_index()\n",
    "\n",
    "print(clicks_by_source)\n",
    "\n",
    "# теперь сформируем пивотную таблицу\n",
    "\n",
    "clicks_pivot = clicks_by_source.pivot(\n",
    "    index='utm_source',\n",
    "    columns='is_click',\n",
    "    values='user_id'\n",
    ").reset_index()\n",
    "\n",
    "print()\n",
    "print(clicks_pivot)\n",
    "\n",
    "# добавим дополнительную колонку значения которой будет результат вычисления процента кликнувших пользователей\n",
    "# для рассчета процента используется формула True * 100 / (False + True)\n",
    "\n",
    "clicks_pivot['percent_clicked'] = clicks_pivot.iloc[:,2] * 100 / (clicks_pivot.iloc[:,2] + clicks_pivot.iloc[:,1])\n",
    "\n",
    "print()\n",
    "print(clicks_pivot)\n"
   ]
  },
  {
   "cell_type": "code",
   "execution_count": 34,
   "metadata": {},
   "outputs": [
    {
     "name": "stdout",
     "output_type": "stream",
     "text": [
      "  experimental_group  user_id\n",
      "0                  A      827\n",
      "1                  B      827\n"
     ]
    }
   ],
   "source": [
    "# также в наборе данных содержится колонка experimental_group которая показывает какая реклама была показа А или B\n",
    "# давайте посмотрим дествительно ли реклама A и B была показана одинаковому кол-ву пользователей сайта\n",
    "\n",
    "print(ad_click.groupby('experimental_group').user_id.count().reset_index())"
   ]
  },
  {
   "cell_type": "code",
   "execution_count": 36,
   "metadata": {},
   "outputs": [
    {
     "name": "stdout",
     "output_type": "stream",
     "text": [
      "  experimental_group  is_click  user_id\n",
      "0                  A     False      517\n",
      "1                  A      True      310\n",
      "2                  B     False      572\n",
      "3                  B      True      255\n"
     ]
    }
   ],
   "source": [
    "# Используя ранее созданную колонку is_click определите на какую рекламу нажимали чаще на А или В\n",
    "\n",
    "print(ad_click.groupby(['experimental_group','is_click']).user_id.count().reset_index())"
   ]
  },
  {
   "cell_type": "code",
   "execution_count": 37,
   "metadata": {},
   "outputs": [],
   "source": [
    "# Создайте два отдельных dataframe a_clicks и b_clicks\n",
    "a_clicks = ad_click[ad_click.experimental_group == 'A']\n",
    "b_clicks = ad_click[ad_click.experimental_group == 'B']"
   ]
  },
  {
   "cell_type": "code",
   "execution_count": 41,
   "metadata": {},
   "outputs": [
    {
     "name": "stdout",
     "output_type": "stream",
     "text": [
      "is_click            day  False  True  percent_click\n",
      "0            1 - Monday     70    43      38.053097\n",
      "1           2 - Tuesday     76    43      36.134454\n",
      "2         3 - Wednesday     86    38      30.645161\n",
      "3          4 - Thursday     69    47      40.517241\n",
      "4            5 - Friday     77    51      39.843750\n",
      "5          6 - Saturday     73    45      38.135593\n",
      "6            7 - Sunday     66    43      39.449541\n",
      "\n",
      "is_click            day  False  True  percent_click\n",
      "0            1 - Monday     81    32      28.318584\n",
      "1           2 - Tuesday     74    45      37.815126\n",
      "2         3 - Wednesday     89    35      28.225806\n",
      "3          4 - Thursday     87    29      25.000000\n",
      "4            5 - Friday     90    38      29.687500\n",
      "5          6 - Saturday     76    42      35.593220\n",
      "6            7 - Sunday     75    34      31.192661\n"
     ]
    }
   ],
   "source": [
    "# Для каждой группы расчитайте процент пользователей которые нажимали на рекламу в разрезе дней\n",
    "a_pivot = a_clicks.groupby(['day', 'is_click']).user_id.count().reset_index().pivot(\n",
    "    index='day',\n",
    "    columns='is_click',\n",
    "    values='user_id'\n",
    ").reset_index()\n",
    "\n",
    "b_pivot = b_clicks.groupby(['day', 'is_click']).user_id.count().reset_index().pivot(\n",
    "    index='day',\n",
    "    columns='is_click',\n",
    "    values='user_id'\n",
    ").reset_index()\n",
    "\n",
    "a_pivot['percent_click'] = a_pivot.iloc[:,2] * 100 / (a_pivot.iloc[:,2] + a_pivot.iloc[:,1])\n",
    "b_pivot['percent_click'] = b_pivot.iloc[:,2] * 100 / (b_pivot.iloc[:,2] + b_pivot.iloc[:,1])\n",
    "\n",
    "\n",
    "print(a_pivot)\n",
    "print()\n",
    "print(b_pivot)"
   ]
  }
 ],
 "metadata": {
  "kernelspec": {
   "display_name": "Python 3",
   "language": "python",
   "name": "python3"
  },
  "language_info": {
   "codemirror_mode": {
    "name": "ipython",
    "version": 3
   },
   "file_extension": ".py",
   "mimetype": "text/x-python",
   "name": "python",
   "nbconvert_exporter": "python",
   "pygments_lexer": "ipython3",
   "version": "3.12.5"
  }
 },
 "nbformat": 4,
 "nbformat_minor": 2
}
