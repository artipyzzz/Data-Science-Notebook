{
 "cells": [
  {
   "cell_type": "markdown",
   "metadata": {},
   "source": [
    "# Pandas\n",
    "\n",
    "Специальная библиотека которая позволяет удобно работать с данными обрабатывать их и получать полезную информацию\n",
    "\n",
    "Для того чтобы импортировать библиотеку используется оператор import\n",
    "\n",
    "`import pandas as pd`\n",
    "\n",
    "## Объекты pandas\n",
    "\n",
    "Pandas управляет dataframe-ами и объектами класса series\n",
    "\n",
    "DataFrame-ом является словарь состоящий из ключей (наименования колонок) и значений (списки значений)"
   ]
  },
  {
   "cell_type": "code",
   "execution_count": 2,
   "metadata": {},
   "outputs": [
    {
     "name": "stdout",
     "output_type": "stream",
     "text": [
      "   name\n",
      "0  John\n",
      "1   Sam\n",
      "2   Max\n",
      "   name  age\n",
      "0  John   10\n",
      "1   Sam   20\n",
      "2   Max   30\n"
     ]
    }
   ],
   "source": [
    "# импортируем библиотеку\n",
    "import pandas as pd\n",
    "\n",
    "# для того чтобы создать dataframe используется специальный класс\n",
    "df = pd.DataFrame({\n",
    "    'name':['John','Sam','Max']\n",
    "})\n",
    "\n",
    "# создали объект класса dataframe которая содержит колонку с именем name в которой содержаться значения John, Sam, Max\n",
    "print(df)\n",
    "\n",
    "# мы можем добавить колонку используя простую конструкцию как в словарях\n",
    "df['age'] = [10,20,30]\n",
    "\n",
    "# появилась новая колонка с именем age которая содержит возраст\n",
    "print(df)"
   ]
  },
  {
   "cell_type": "markdown",
   "metadata": {},
   "source": [
    "### Очень важно длинна всех колонок для создания DataFrame должна быть одинаковой"
   ]
  },
  {
   "cell_type": "code",
   "execution_count": 3,
   "metadata": {},
   "outputs": [
    {
     "name": "stdout",
     "output_type": "stream",
     "text": [
      "   name  age   address\n",
      "0  John   20  Street 1\n",
      "1   Sam   21  Street 2\n",
      "2  Alex   31  Street 3\n"
     ]
    }
   ],
   "source": [
    "# Также dataframe можно создать и используя другую конструкцию где сначала указываются список из каждой строки, а далее в параметр columns указаывается список с наименованием колонок\n",
    "df2 = pd.DataFrame([\n",
    "    ['John', 20, 'Street 1'],\n",
    "    ['Sam', 21, 'Street 2'],\n",
    "    ['Alex', 31, 'Street 3']\n",
    "], columns=['name','age','address'])\n",
    "\n",
    "print(df2)"
   ]
  },
  {
   "cell_type": "markdown",
   "metadata": {},
   "source": [
    "## Чтение файлов csv с помощью pandas\n",
    "\n",
    "У библиотеки padnas есть специальный метод который позволяет сформироваться dataframe из файла\n",
    "\n",
    "`pd.read_csv(path_to_csv_file)`"
   ]
  },
  {
   "cell_type": "code",
   "execution_count": 4,
   "metadata": {},
   "outputs": [
    {
     "name": "stdout",
     "output_type": "stream",
     "text": [
      "            City  Population  Median Age\n",
      "0      Maplewood      100000          40\n",
      "1          Wayne      350000          33\n",
      "2  Forrest Hills      300000          35\n",
      "3        Paramus      400000          55\n",
      "4     Hackensack      290000          39\n"
     ]
    }
   ],
   "source": [
    "# попробуем сформировать dataframe из файла csv\n",
    "import pandas as pd\n",
    "\n",
    "df_from_file = pd.read_csv('./files/sample.csv')\n",
    "\n",
    "print(df_from_file)"
   ]
  },
  {
   "cell_type": "markdown",
   "metadata": {},
   "source": [
    "## Методы pandas"
   ]
  },
  {
   "cell_type": "markdown",
   "metadata": {},
   "source": [
    "### info()\n",
    "\n",
    "Данный метод предоставялет общую информацию по dataframe такую как:\n",
    "- column - наименования колонок\n",
    "- Non-Null Count - кол-во строк данных которые не содержат Null\n",
    "- Dtype - тип данных колонки\n",
    "\n",
    "### head()\n",
    "\n",
    "Метод который позволяет просмотреть первые n (5 строк по умолчанию) переданных методу"
   ]
  },
  {
   "cell_type": "code",
   "execution_count": 6,
   "metadata": {},
   "outputs": [
    {
     "name": "stdout",
     "output_type": "stream",
     "text": [
      "   id                                       name   genre  year  imdb_rating\n",
      "0   1                                     Avatar  action  2009          7.9\n",
      "1   2                             Jurassic World  action  2015          7.3\n",
      "2   3                               The Avengers  action  2012          8.1\n",
      "3   4                            The Dark Knight  action  2008          9.0\n",
      "4   5  Star Wars: Episode I - The Phantom Menace  action  1999          6.6\n",
      "<class 'pandas.core.frame.DataFrame'>\n",
      "RangeIndex: 220 entries, 0 to 219\n",
      "Data columns (total 5 columns):\n",
      " #   Column       Non-Null Count  Dtype  \n",
      "---  ------       --------------  -----  \n",
      " 0   id           220 non-null    int64  \n",
      " 1   name         220 non-null    object \n",
      " 2   genre        220 non-null    object \n",
      " 3   year         220 non-null    int64  \n",
      " 4   imdb_rating  220 non-null    float64\n",
      "dtypes: float64(1), int64(2), object(2)\n",
      "memory usage: 8.7+ KB\n",
      "None\n"
     ]
    }
   ],
   "source": [
    "# для того чтобы посмотреть информацию о dataframe используется метод info()\n",
    "\n",
    "import pandas as pd\n",
    "\n",
    "df_from_imdb = pd.read_csv('./files/imdb.csv')\n",
    "print(df_from_imdb.head())\n",
    "print(df_from_imdb.info())"
   ]
  },
  {
   "cell_type": "markdown",
   "metadata": {},
   "source": [
    "### Выбор колонок\n",
    "\n",
    "Для того чтобы выбрать колонку достаточно передать ее наименование в поле индекса\n",
    "\n",
    "Либо в случае если наименование колонки является один словом то можно вызвать ее через точку после наименования dataframe"
   ]
  },
  {
   "cell_type": "code",
   "execution_count": 8,
   "metadata": {},
   "outputs": [
    {
     "name": "stdout",
     "output_type": "stream",
     "text": [
      "NAME\n",
      "0                                         Avatar\n",
      "1                                 Jurassic World\n",
      "2                                   The Avengers\n",
      "3                                The Dark Knight\n",
      "4      Star Wars: Episode I - The Phantom Menace\n",
      "                         ...                    \n",
      "215                                     Hannibal\n",
      "216                          Catch Me If You Can\n",
      "217                                    Big Daddy\n",
      "218                                        Se7en\n",
      "219                                        Seven\n",
      "Name: name, Length: 220, dtype: object\n",
      "\n",
      "ID\n",
      "0        1\n",
      "1        2\n",
      "2        3\n",
      "3        4\n",
      "4        5\n",
      "      ... \n",
      "215    216\n",
      "216    217\n",
      "217    218\n",
      "218    219\n",
      "219    220\n",
      "Name: id, Length: 220, dtype: int64\n"
     ]
    }
   ],
   "source": [
    "print('NAME')\n",
    "print(df_from_imdb['name'])\n",
    "print('\\nID')\n",
    "print(df_from_imdb.id)"
   ]
  },
  {
   "cell_type": "code",
   "execution_count": 14,
   "metadata": {},
   "outputs": [
    {
     "name": "stdout",
     "output_type": "stream",
     "text": [
      "<class 'pandas.core.frame.DataFrame'>\n",
      "<class 'pandas.core.series.Series'>\n"
     ]
    }
   ],
   "source": [
    "# В случае если мы присвоим значение колонки другой переменной то ее тип данных измениться с dataframe на series\n",
    "names = df_from_imdb.name\n",
    "print(type(df_from_imdb))\n",
    "print(type(names))"
   ]
  },
  {
   "cell_type": "code",
   "execution_count": 17,
   "metadata": {},
   "outputs": [
    {
     "name": "stdout",
     "output_type": "stream",
     "text": [
      "   id                                       name\n",
      "0   1                                     Avatar\n",
      "1   2                             Jurassic World\n",
      "2   3                               The Avengers\n",
      "3   4                            The Dark Knight\n",
      "4   5  Star Wars: Episode I - The Phantom Menace\n",
      "<class 'pandas.core.frame.DataFrame'>\n"
     ]
    }
   ],
   "source": [
    "# Для того чтобы выбрать несколько колонок в поле индекса указывается список с наименованием колонок\n",
    "mult_columns = df_from_imdb[['id','name']]\n",
    "print(mult_columns.head())\n",
    "# тип данных при этом сохраняется\n",
    "print(type(mult_columns))"
   ]
  },
  {
   "cell_type": "markdown",
   "metadata": {},
   "source": [
    "### Выбор строк\n",
    "\n",
    "Для того чтобы выбрать строку по определенному индексы или срез строк используется метод **iloc** в который по правилам индексирования списков указываются среды или индекс отдельной строки\n",
    "\n",
    "Структура метода .iloc[]\n",
    "\n",
    "`df.iloc[row_index | row_ind_start:row_ind_stop:row_ind_step, column_index | col_ind_start:col_ind_stop:col_ind_step]`\n",
    "\n",
    "Где:\n",
    "- row_index - возможность указать только одно значение которое будет обозначать индекс интересующей строки\n",
    "- row_ind_start - индекс первой строки среза (включая ее)\n",
    "- row_ind_stop - индекс крайней строки среза (НЕ включая ее)\n",
    "- row_ind_step - шаг иттарации по индексам строк\n",
    "- column_index - возможность указать только одно значение которое будет обозначать индекс интересующей колонки\n",
    "- col_ind_start - индекс первой колонки среза (включая ее)\n",
    "- col_ind_stop - индекс крайней колонки среза (НЕ включая ее)\n",
    "- col_ind_step - шаг иттерации по индексам колонки\n",
    "\n",
    "### Важно метод iloc должен принимать минимум одно значение\n",
    "### В случае если нужно указать только срез из столбцов то срез указывается по запятой"
   ]
  },
  {
   "cell_type": "code",
   "execution_count": 26,
   "metadata": {},
   "outputs": [
    {
     "name": "stdout",
     "output_type": "stream",
     "text": [
      "   id            name   genre  year  imdb_rating\n",
      "0   1          Avatar  action  2009          7.9\n",
      "1   2  Jurassic World  action  2015          7.3\n",
      "2   3    The Avengers  action  2012          8.1\n",
      "id                                 8\n",
      "name           The Dark Knight Rises\n",
      "genre                         action\n",
      "year                            2012\n",
      "imdb_rating                      8.5\n",
      "Name: 7, dtype: object\n",
      "      id                                       name   genre  year  imdb_rating\n",
      "0      1                                     Avatar  action  2009          7.9\n",
      "2      3                               The Avengers  action  2012          8.1\n",
      "4      5  Star Wars: Episode I - The Phantom Menace  action  1999          6.6\n",
      "6      7                    Avengers: Age of Ultron  action  2015          7.9\n",
      "8      9  Pirates of the Caribbean: Dead Mans Chest  action  2006          7.3\n",
      "..   ...                                        ...     ...   ...          ...\n",
      "210  211                           A Beautiful Mind   drama  2001          8.2\n",
      "212  213                           3 Men and a Baby   drama  1987          5.9\n",
      "214  215                            Kung Fu Panda 2   drama  2011          7.3\n",
      "216  217                        Catch Me If You Can   drama  2002          8.0\n",
      "218  219                                      Se7en   drama  1995          8.6\n",
      "\n",
      "[110 rows x 5 columns]\n",
      "      id                                       name\n",
      "0      1                                     Avatar\n",
      "1      2                             Jurassic World\n",
      "2      3                               The Avengers\n",
      "3      4                            The Dark Knight\n",
      "4      5  Star Wars: Episode I - The Phantom Menace\n",
      "..   ...                                        ...\n",
      "215  216                                   Hannibal\n",
      "216  217                        Catch Me If You Can\n",
      "217  218                                  Big Daddy\n",
      "218  219                                      Se7en\n",
      "219  220                                      Seven\n",
      "\n",
      "[220 rows x 2 columns]\n"
     ]
    }
   ],
   "source": [
    "# вывести на экран первые три строки\n",
    "print(df_from_imdb.iloc[:3])\n",
    "# вывести на экран строку с индексом 7\n",
    "print(df_from_imdb.iloc[7])\n",
    "# вывести на экран каждую вторую строку\n",
    "print(df_from_imdb.iloc[::2])\n",
    "\n",
    "# все строки но только первые две колонки\n",
    "print(df_from_imdb.iloc[:,:2])"
   ]
  },
  {
   "cell_type": "markdown",
   "metadata": {},
   "source": [
    "### Выбор строк с логикой\n",
    "\n",
    "Для выбора строк с логикой, т.е. другими словами выбрать только те строки которые соответствуют какому либо условию, используется конструкция \n",
    "\n",
    "`df[df.column condition value]`\n",
    "\n",
    "Более подробней рассмотри далее на примерах"
   ]
  },
  {
   "cell_type": "code",
   "execution_count": 31,
   "metadata": {},
   "outputs": [
    {
     "name": "stdout",
     "output_type": "stream",
     "text": [
      "   id                                       name   genre  year  imdb_rating\n",
      "0   1                                     Avatar  action  2009          7.9\n",
      "1   2                             Jurassic World  action  2015          7.3\n",
      "2   3                               The Avengers  action  2012          8.1\n",
      "3   4                            The Dark Knight  action  2008          9.0\n",
      "4   5  Star Wars: Episode I - The Phantom Menace  action  1999          6.6\n",
      "----------\n",
      "Year 2009\n",
      "      id                                     name    genre  year  imdb_rating\n",
      "0      1                                   Avatar   action  2009          7.9\n",
      "11    12      Transformers: Revenge of the Fallen   action  2009          6.0\n",
      "37    38                                Star Trek   action  2009          8.0\n",
      "58    59                                       Up   comedy  2009          8.3\n",
      "62    63                             The Hangover   comedy  2009          7.8\n",
      "78    79  Alvin and the Chipmunks: The Squeakquel   comedy  2009          4.4\n",
      "93    94                      Monsters vs. Aliens   comedy  2009          6.6\n",
      "95    96           Ice Age: Dawn of the Dinosaurs   comedy  2009          7.0\n",
      "129  130                               Zombieland   horror  2009          7.7\n",
      "140  141                    The Final Destination   horror  2009          5.2\n",
      "144  145                          Friday the 13th   horror  2009          5.6\n",
      "149  150              The Twilight Saga: New Moon  romance  2009          4.6\n",
      "172  173                             The Proposal  romance  2009          6.7\n",
      "195  196                           The Blind Side    drama  2009          7.7\n",
      "      id                                               name   genre  year  \\\n",
      "4      5          Star Wars: Episode I - The Phantom Menace  action  1999   \n",
      "11    12                Transformers: Revenge of the Fallen  action  2009   \n",
      "14    15                     Transformers: Dark of the Moon  action  2011   \n",
      "17    18                                       Spider-Man 3  action  2007   \n",
      "21    22  Indiana Jones and the Kingdom of the Crystal S...  action  2008   \n",
      "..   ...                                                ...     ...   ...   \n",
      "208  209                                      Air Force One   drama  1997   \n",
      "212  213                                   3 Men and a Baby   drama  1987   \n",
      "215  216                                           Hannibal   drama  2001   \n",
      "217  218                                          Big Daddy   drama  1999   \n",
      "219  220                                              Seven   drama  1979   \n",
      "\n",
      "     imdb_rating  \n",
      "4            6.6  \n",
      "11           6.0  \n",
      "14           6.3  \n",
      "17           6.2  \n",
      "21           6.2  \n",
      "..           ...  \n",
      "208          6.4  \n",
      "212          5.9  \n",
      "215          6.7  \n",
      "217          6.4  \n",
      "219          6.1  \n",
      "\n",
      "[99 rows x 5 columns]\n"
     ]
    }
   ],
   "source": [
    "# посмотрим первые несколько строк df_from_imdb чтобы решить какое условие можно проверить\n",
    "print(df_from_imdb.head())\n",
    "\n",
    "# Допустим мы хотим получить только те строки год выпуска фильма которого равен 2009 году\n",
    "print('-' * 10)\n",
    "print('Year 2009')\n",
    "print(df_from_imdb[df_from_imdb.year == 2009])\n",
    "\n",
    "# Или получить набор данных состоящий из фильмов рейтинг imdb которых между 5 и 7\n",
    "print(df_from_imdb[(df_from_imdb.imdb_rating >= 5) & (df_from_imdb.imdb_rating <= 7)])"
   ]
  },
  {
   "cell_type": "markdown",
   "metadata": {},
   "source": [
    "#### Важно обратите внимание когда я использовал комплексное условие что рейтинг фильма должен быть между 5 и 7 я использовал скобки и это условие обязательное каждое отдельное условие должно быть обрамленно круглыми скобками. Между условиями можно использовать логические операторы в виде символов:\n",
    "- | - pipeline / or / ИЛИ\n",
    "- & - амперсант / and / И\n",
    "\n",
    "#### Также очень важно понимать какой тип данных используется при сравнении"
   ]
  },
  {
   "cell_type": "markdown",
   "metadata": {},
   "source": [
    "Также есть специальные методы которые позволяют отфильтровать данные в строках\n",
    "- isin(list | tuple | dict) - проверяет вхождение значения каждого элемента в передаваемый объект\n",
    "- isna - проверяет является ли значение элемента NaN\n",
    "- notna - проверяет не является ли значение элемента NaN (not NaN)"
   ]
  },
  {
   "cell_type": "code",
   "execution_count": 33,
   "metadata": {},
   "outputs": [
    {
     "name": "stdout",
     "output_type": "stream",
     "text": [
      "      id                                     name    genre  year  imdb_rating\n",
      "0      1                                   Avatar   action  2009          7.9\n",
      "11    12      Transformers: Revenge of the Fallen   action  2009          6.0\n",
      "22    23                               Iron Man 2   action  2010          7.1\n",
      "29    30                                Inception   action  2010          8.8\n",
      "37    38                                Star Trek   action  2009          8.0\n",
      "51    52                              Toy Story 3   comedy  2010          8.4\n",
      "58    59                                       Up   comedy  2009          8.3\n",
      "62    63                             The Hangover   comedy  2009          7.8\n",
      "67    68                            Despicable Me   comedy  2010          7.7\n",
      "73    74                      Shrek Forever After   comedy  2010          6.4\n",
      "78    79  Alvin and the Chipmunks: The Squeakquel   comedy  2009          4.4\n",
      "92    93                                  Tangled   comedy  2010          7.8\n",
      "93    94                      Monsters vs. Aliens   comedy  2009          6.6\n",
      "95    96           Ice Age: Dawn of the Dinosaurs   comedy  2009          7.0\n",
      "117  118                    Paranormal Activity 2   horror  2010          5.7\n",
      "129  130                               Zombieland   horror  2009          7.7\n",
      "140  141                    The Final Destination   horror  2009          5.2\n",
      "144  145                          Friday the 13th   horror  2009          5.6\n",
      "148  149               The Twilight Saga: Eclipse  romance  2010          4.9\n",
      "149  150              The Twilight Saga: New Moon  romance  2009          4.6\n",
      "172  173                             The Proposal  romance  2009          6.7\n",
      "179  180                           Little Fockers  romance  2010          5.5\n",
      "195  196                           The Blind Side    drama  2009          7.7\n",
      "206  207                           The Karate Kid    drama  2010          6.2\n",
      "209  210                                True Grit    drama  2010          7.7\n"
     ]
    }
   ],
   "source": [
    "print(df_from_imdb[df_from_imdb.year.isin([2009, 2010])])"
   ]
  },
  {
   "cell_type": "code",
   "execution_count": 34,
   "metadata": {},
   "outputs": [
    {
     "name": "stdout",
     "output_type": "stream",
     "text": [
      "Empty DataFrame\n",
      "Columns: [id, name, genre, year, imdb_rating]\n",
      "Index: []\n"
     ]
    }
   ],
   "source": [
    "print(df_from_imdb[df_from_imdb.year.isna()])"
   ]
  },
  {
   "cell_type": "code",
   "execution_count": 36,
   "metadata": {},
   "outputs": [
    {
     "name": "stdout",
     "output_type": "stream",
     "text": [
      "      id                                       name   genre  year  imdb_rating\n",
      "0      1                                     Avatar  action  2009          7.9\n",
      "1      2                             Jurassic World  action  2015          7.3\n",
      "2      3                               The Avengers  action  2012          8.1\n",
      "3      4                            The Dark Knight  action  2008          9.0\n",
      "4      5  Star Wars: Episode I - The Phantom Menace  action  1999          6.6\n",
      "..   ...                                        ...     ...   ...          ...\n",
      "215  216                                   Hannibal   drama  2001          6.7\n",
      "216  217                        Catch Me If You Can   drama  2002          8.0\n",
      "217  218                                  Big Daddy   drama  1999          6.4\n",
      "218  219                                      Se7en   drama  1995          8.6\n",
      "219  220                                      Seven   drama  1979          6.1\n",
      "\n",
      "[220 rows x 5 columns]\n"
     ]
    }
   ],
   "source": [
    "print(df_from_imdb[df_from_imdb.year.notna()])"
   ]
  },
  {
   "cell_type": "markdown",
   "metadata": {},
   "source": [
    "### Установка индекса\n",
    "\n",
    "Не редко происходят случаи когда при формировании нового DataFrame из имеющегося получается что его индексы сохранились или даже присвоенны другие индексы поверх индексов старого набора\n",
    "\n",
    "В таких случаях лучшей практикой будет сбрасывать индекс и переназначать его\n",
    "\n",
    "Для этого используется специальный метод **.reset_index()** с параметрами **drop** который принимает булевые значения и **inplace** который также принимает булевые значения"
   ]
  },
  {
   "cell_type": "code",
   "execution_count": 44,
   "metadata": {},
   "outputs": [
    {
     "name": "stdout",
     "output_type": "stream",
     "text": [
      "   id                     name   genre  year  imdb_rating\n",
      "0   1                   Avatar  action  2009          7.9\n",
      "1   2           Jurassic World  action  2015          7.3\n",
      "2   3             The Avengers  action  2012          8.1\n",
      "6   7  Avengers: Age of Ultron  action  2015          7.9\n",
      "7   8    The Dark Knight Rises  action  2012          8.5\n",
      "   id                     name   genre  year  imdb_rating\n",
      "0   1                   Avatar  action  2009          7.9\n",
      "1   2           Jurassic World  action  2015          7.3\n",
      "2   3             The Avengers  action  2012          8.1\n",
      "6   7  Avengers: Age of Ultron  action  2015          7.9\n",
      "7   8    The Dark Knight Rises  action  2012          8.5\n",
      "   index  id                     name   genre  year  imdb_rating\n",
      "0      0   1                   Avatar  action  2009          7.9\n",
      "1      1   2           Jurassic World  action  2015          7.3\n",
      "2      2   3             The Avengers  action  2012          8.1\n",
      "3      6   7  Avengers: Age of Ultron  action  2015          7.9\n",
      "4      7   8    The Dark Knight Rises  action  2012          8.5\n"
     ]
    }
   ],
   "source": [
    "# создадим новый dataframe путем выборки строк из старого набора по условию\n",
    "new_df = df_from_imdb[df_from_imdb.year.isin([2009, 2012, 2015])]\n",
    "# выведем несколько первых строк нового df\n",
    "print(new_df.head())\n",
    "# как можно заметить колонка индекса которая расположена слева от колонки id не верно пронумерована\n",
    "# Используем метод reset_index() пока без параметров\n",
    "new_df.reset_index()\n",
    "print(new_df.head())\n",
    "# как можно заметить из вывода ничего не поменялось\n",
    "# попробуем переназначить переменную\n",
    "new_df = new_df.reset_index()\n",
    "print(new_df.head())\n",
    "# теперь мы видем что слева появилась еще одна колонка которая теперь стала index-ом нового df но это не есть хорошо так как добавляет нам большей действий и увеличивает df в объеме"
   ]
  },
  {
   "cell_type": "code",
   "execution_count": 45,
   "metadata": {},
   "outputs": [
    {
     "name": "stdout",
     "output_type": "stream",
     "text": [
      "   id                     name   genre  year  imdb_rating\n",
      "0   1                   Avatar  action  2009          7.9\n",
      "1   2           Jurassic World  action  2015          7.3\n",
      "2   3             The Avengers  action  2012          8.1\n",
      "6   7  Avengers: Age of Ultron  action  2015          7.9\n",
      "7   8    The Dark Knight Rises  action  2012          8.5\n",
      "   index  id                     name   genre  year  imdb_rating\n",
      "0      0   1                   Avatar  action  2009          7.9\n",
      "1      1   2           Jurassic World  action  2015          7.3\n",
      "2      2   3             The Avengers  action  2012          8.1\n",
      "3      6   7  Avengers: Age of Ultron  action  2015          7.9\n",
      "4      7   8    The Dark Knight Rises  action  2012          8.5\n"
     ]
    }
   ],
   "source": [
    "# снова переназначим переменную\n",
    "new_df = df_from_imdb[df_from_imdb.year.isin([2009, 2012, 2015])]\n",
    "# и при методе reset_index() укажем параметр inplace = True\n",
    "print(new_df.head())\n",
    "\n",
    "new_df.reset_index(inplace=True)\n",
    "print(new_df.head())\n",
    "# ИЗ результата можно сделать вывод что параметр inplace позволяет нам переназначать индекс сразу в новом DF без необходимости переназначать переменную"
   ]
  },
  {
   "cell_type": "code",
   "execution_count": 46,
   "metadata": {},
   "outputs": [
    {
     "name": "stdout",
     "output_type": "stream",
     "text": [
      "   id                     name   genre  year  imdb_rating\n",
      "0   1                   Avatar  action  2009          7.9\n",
      "1   2           Jurassic World  action  2015          7.3\n",
      "2   3             The Avengers  action  2012          8.1\n",
      "6   7  Avengers: Age of Ultron  action  2015          7.9\n",
      "7   8    The Dark Knight Rises  action  2012          8.5\n",
      "   id                     name   genre  year  imdb_rating\n",
      "0   1                   Avatar  action  2009          7.9\n",
      "1   2           Jurassic World  action  2015          7.3\n",
      "2   3             The Avengers  action  2012          8.1\n",
      "3   7  Avengers: Age of Ultron  action  2015          7.9\n",
      "4   8    The Dark Knight Rises  action  2012          8.5\n"
     ]
    }
   ],
   "source": [
    "# Теперь добавим второй параметр и посмотрим на результат\n",
    "# снова переназначим переменную\n",
    "new_df = df_from_imdb[df_from_imdb.year.isin([2009, 2012, 2015])]\n",
    "# и при методе reset_index() укажем параметр inplace = True и drop = True\n",
    "print(new_df.head())\n",
    "\n",
    "new_df.reset_index(inplace=True, drop=True)\n",
    "print(new_df.head())\n",
    "# Теперь у нас получился идеальный результат\n",
    "# Параметр drop позволил нам избавить от старых индексов и вместо них обозначил новые значения"
   ]
  }
 ],
 "metadata": {
  "kernelspec": {
   "display_name": "Python 3",
   "language": "python",
   "name": "python3"
  },
  "language_info": {
   "codemirror_mode": {
    "name": "ipython",
    "version": 3
   },
   "file_extension": ".py",
   "mimetype": "text/x-python",
   "name": "python",
   "nbconvert_exporter": "python",
   "pygments_lexer": "ipython3",
   "version": "3.12.5"
  }
 },
 "nbformat": 4,
 "nbformat_minor": 2
}
