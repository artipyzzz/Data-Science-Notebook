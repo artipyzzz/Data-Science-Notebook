{
 "cells": [
  {
   "cell_type": "markdown",
   "metadata": {},
   "source": [
    "# Multiple DataFrames\n",
    "\n",
    "Не всегда бывает так что все данные помещаются в один набор, не редко полный набор разбивают на несколько частей (полная идентичность реляционным базам данных)\n",
    "\n",
    "В таком случае у библиотеки Pandas существует специальный метод позволяющий нам объединять наборы данных в один по каким либо столбцам\n",
    "\n",
    "Данный метод называется merge()\n",
    "\n",
    "Метод можно вызвать как из класса pd так и из объекта класса DataFrame\n",
    "\n",
    "`pd.merge(df1, df2)`\n",
    "\n",
    "`df1.merge(df2)`\n",
    "\n",
    "Если не указывать никакие дополнительные параметры то объединение будет произведенно по одноименным колонкам и одинаковым значениям в них\n",
    "\n",
    "Существует различные виды merge:\n",
    "- inner - внутреннее объединение\n",
    "    - объединяет строки только с совпадающими значениями столбцов\n",
    "- left - левое соединение\n",
    "    - отображает все строки первого набора и только те строки значения которых совпали из второго набора. Все значения которые не совпали заполняет значением NaN\n",
    "- rigth - правое соединение\n",
    "    - отображает все строки второго набора и только те строки значения которых совпали из первого набора. Все значения которые не воспали заполняет значением NaN\n",
    "- outer - внешнее соединение\n",
    "    - отображает все строки как из первого так и из второго набора сопостовляет те строки значения столбцов которых совпали остальные значеия заполняет NaN\n",
    "\n",
    "Правила идентичные правилам join в SQL"
   ]
  },
  {
   "cell_type": "code",
   "execution_count": 2,
   "metadata": {},
   "outputs": [
    {
     "name": "stdout",
     "output_type": "stream",
     "text": [
      "      month  revenue\n",
      "0   January      300\n",
      "1  February      290\n",
      "2     March      310\n",
      "3     April      325\n",
      "4       May      475\n",
      "\n",
      "      month  target\n",
      "0   January     310\n",
      "1  February     270\n",
      "2     March     300\n",
      "3     April     350\n",
      "4       May     475\n"
     ]
    }
   ],
   "source": [
    "# Рассмотрим все на практических примерах\n",
    "# для проверки будут использованы наборы данных расположенных по пути\n",
    "# sales.csv; targets.csv\n",
    "\n",
    "import pandas as pd\n",
    "\n",
    "# загрузим данные\n",
    "sales = pd.read_csv('./files/sales.csv')\n",
    "targets = pd.read_csv('./files/targets.csv')\n",
    "\n",
    "print(sales.head(), targets.head(), sep='\\n\\n')"
   ]
  },
  {
   "cell_type": "code",
   "execution_count": 3,
   "metadata": {},
   "outputs": [
    {
     "name": "stdout",
     "output_type": "stream",
     "text": [
      "      month  revenue  target\n",
      "0   January      300     310\n",
      "1  February      290     270\n",
      "2     March      310     300\n",
      "3     April      325     350\n",
      "4       May      475     475\n"
     ]
    }
   ],
   "source": [
    "# Объединим два набора используя метод merge()\n",
    "# новый набор назовем sales_vs_targets\n",
    "\n",
    "sales_vs_targets = pd.merge(sales, targets)\n",
    "\n",
    "print(sales_vs_targets.head())\n",
    "# судя по результату все получилось отлично\n",
    "# pandas сам понял по какой колонке объединить два набора данных (одинаковые наименования и значения) и сформировал результат"
   ]
  },
  {
   "cell_type": "code",
   "execution_count": 5,
   "metadata": {},
   "outputs": [
    {
     "name": "stdout",
     "output_type": "stream",
     "text": [
      "      month  revenue  target\n",
      "0  February      290     270\n",
      "1     March      310     300\n"
     ]
    }
   ],
   "source": [
    "# давайте сравним показатели двух наборот и сохраним переменную в crushin_it\n",
    "# переменная будет содержать только те строки где значение revenue больше target\n",
    "\n",
    "crushin_it = sales_vs_targets[sales_vs_targets.revenue > sales_vs_targets.target].reset_index(drop=True)\n",
    "\n",
    "print(crushin_it)"
   ]
  },
  {
   "cell_type": "code",
   "execution_count": 6,
   "metadata": {},
   "outputs": [
    {
     "name": "stdout",
     "output_type": "stream",
     "text": [
      "      month  men  women\n",
      "0   January   30     35\n",
      "1  February   29     35\n",
      "2     March   31     29\n",
      "3     April   32     28\n",
      "4       May   47     50\n"
     ]
    }
   ],
   "source": [
    "# Добавим еще один набор данных men_women_sales.csv который будет находится по тому же пути что и остальные наборы\n",
    "# загрузим данные в переменную men_women\n",
    "\n",
    "men_women = pd.read_csv('./files/men_women_sales.csv')\n",
    "\n",
    "print(men_women.head())"
   ]
  },
  {
   "cell_type": "code",
   "execution_count": 8,
   "metadata": {},
   "outputs": [
    {
     "name": "stdout",
     "output_type": "stream",
     "text": [
      "      month  revenue  target  men  women\n",
      "0   January      300     310   30     35\n",
      "1  February      290     270   29     35\n",
      "2     March      310     300   31     29\n",
      "3     April      325     350   32     28\n",
      "4       May      475     475   47     50\n"
     ]
    }
   ],
   "source": [
    "# использовать merge можно друг за другом\n",
    "# давайте попробуем объединить все наборы данных в один большой и назовем перменную all_data\n",
    "\n",
    "all_data = pd.merge(sales, targets).merge(men_women).reset_index(drop=True)\n",
    "\n",
    "print(all_data.head())\n",
    "# как видим все получилось отлично"
   ]
  },
  {
   "cell_type": "code",
   "execution_count": 9,
   "metadata": {},
   "outputs": [
    {
     "name": "stdout",
     "output_type": "stream",
     "text": [
      "      month  revenue  target  men  women\n",
      "0  February      290     270   29     35\n"
     ]
    }
   ],
   "source": [
    "# давайте попробуем получить из данных какую нибудь полезную информацию\n",
    "# допустим получи месяца в которых revenue больше target и показатель women больше men\n",
    "# сохраним данные в переменную results\n",
    "\n",
    "results = all_data[(all_data.revenue > all_data.target) & (all_data.women > all_data.men)].reset_index(drop=True)\n",
    "\n",
    "print(results.head())\n"
   ]
  },
  {
   "cell_type": "markdown",
   "metadata": {},
   "source": [
    "## Объединение наборов по определенным столбцам\n",
    "\n",
    "Ранее мы производили объединение не выбирая определенные столбца и pandas по одинаковым названиям и значениям в столбцах предполагал как следует произвести объединение.\n",
    "\n",
    "Но что если одинаковых наименований не будет?\n",
    "\n",
    "В таком случае pandas не поймет что с чем соединять\n",
    "\n",
    "Поэтому у метода merge() есть параметры которые мы можем использовать чтобы более конкретно указать что и как объединять\n",
    "\n",
    "Параметры:\n",
    "- left_on - колонка первого набора (первым набором считается тот что указан первым или от которого вызывается метод) (строковые данные)\n",
    "- right_on - колонка второго набора (вторым набором считатется тот что указан вторым или который передается в метод) (строковые данные)\n",
    "- how - тип объединения (см список выше) (строковые данные)\n",
    "- suffixes - добавление идентификатора к одинаково названным столбцам (список строковых данных)\n",
    "\n",
    "Для практической работы с параметрами создали дополнительные наборы orders_1.csv, products.csv"
   ]
  },
  {
   "cell_type": "code",
   "execution_count": 10,
   "metadata": {},
   "outputs": [
    {
     "name": "stdout",
     "output_type": "stream",
     "text": [
      "   id  product_id  customer_id  quantity   timestamp\n",
      "0   1           3            2         1  2017-01-01\n",
      "1   2           2            2         3  2017-01-01\n",
      "2   3           1            3         1  2017-01-01\n",
      "3   4           2            3         2  2016-02-01\n",
      "4   5           3            3         3  2017-02-01\n",
      "\n",
      "   id         description  price\n",
      "0   1      thing-a-ma-jig      5\n",
      "1   2  whatcha-ma-call-it     10\n",
      "2   3          doo-hickey      7\n",
      "3   4               gizmo      3\n"
     ]
    }
   ],
   "source": [
    "# Загрузим данные в перерменные\n",
    "orders = pd.read_csv('./files/orders_1.csv')\n",
    "products = pd.read_csv('./files/products.csv')\n",
    "\n",
    "print(orders.head(), products.head(), sep='\\n\\n')"
   ]
  },
  {
   "cell_type": "markdown",
   "metadata": {},
   "source": [
    "Мы видим в что в наборе присутствуют одинаково называнные колонки но то что подразумевают данные значения отличается\n",
    "\n",
    "- колонка id в таблице orders - обозначает идентификатор заказа\n",
    "- колонка id в таблице products - обозначает идентификатор продукта\n",
    "\n",
    "Если мы попробуем их объединить все получиться но данные сопоставяться не верно что сильно повлияет на дальнейший анализ\n",
    "\n",
    "Можно заметить что таблица orders содержит еще две колонки с добавочным словом id\n",
    "\n",
    "- product_id\n",
    "- customer_id\n",
    "\n",
    "Из наименований можно предположить что они относятся к одно именным наборам данных. Получается что логичней и правильней следует объединять колонки id из таблицы products и колонку product_id из таблицы orders, в таком случае мы уже с большей уверенностью можем сказать что сопоставление пройдет более достоверно\n",
    "\n",
    "По мимо использования параметров можно также просто переименовать столбец в таблице products (id на product_id) и произвести merge"
   ]
  },
  {
   "cell_type": "code",
   "execution_count": 13,
   "metadata": {},
   "outputs": [
    {
     "name": "stdout",
     "output_type": "stream",
     "text": [
      "   id_x  product_id  customer_id  quantity   timestamp  id_y  \\\n",
      "0     1           3            2         1  2017-01-01     3   \n",
      "1     2           2            2         3  2017-01-01     2   \n",
      "2     3           1            3         1  2017-01-01     1   \n",
      "3     4           2            3         2  2016-02-01     2   \n",
      "4     5           3            3         3  2017-02-01     3   \n",
      "\n",
      "          description  price  \n",
      "0          doo-hickey      7  \n",
      "1  whatcha-ma-call-it     10  \n",
      "2      thing-a-ma-jig      5  \n",
      "3  whatcha-ma-call-it     10  \n",
      "4          doo-hickey      7  \n",
      "\n",
      "   id  product_id  customer_id  quantity   timestamp         description  \\\n",
      "0   1           3            2         1  2017-01-01          doo-hickey   \n",
      "1   2           2            2         3  2017-01-01  whatcha-ma-call-it   \n",
      "2   3           1            3         1  2017-01-01      thing-a-ma-jig   \n",
      "3   4           2            3         2  2016-02-01  whatcha-ma-call-it   \n",
      "4   5           3            3         3  2017-02-01          doo-hickey   \n",
      "\n",
      "   price  \n",
      "0      7  \n",
      "1     10  \n",
      "2      5  \n",
      "3     10  \n",
      "4      7  \n",
      "   id_orders  product_id  customer_id  quantity   timestamp  id_products  \\\n",
      "0          1           3            2         1  2017-01-01            3   \n",
      "1          2           2            2         3  2017-01-01            2   \n",
      "2          3           1            3         1  2017-01-01            1   \n",
      "3          4           2            3         2  2016-02-01            2   \n",
      "4          5           3            3         3  2017-02-01            3   \n",
      "\n",
      "          description  price  \n",
      "0          doo-hickey      7  \n",
      "1  whatcha-ma-call-it     10  \n",
      "2      thing-a-ma-jig      5  \n",
      "3  whatcha-ma-call-it     10  \n",
      "4          doo-hickey      7  \n"
     ]
    }
   ],
   "source": [
    "# давайте проверим теорию\n",
    "use_param = pd.merge(orders, products, left_on='product_id', right_on='id').reset_index(drop=True)\n",
    "use_rename = pd.merge(orders, products.rename(columns={'id':'product_id'})).reset_index(drop=True)\n",
    "\n",
    "print(use_param.head(), use_rename.head(), sep='\\n\\n')\n",
    "\n",
    "# два полученных не отличаются сопоставление данных\n",
    "# но отличаются наименованием столбцов в первом примере есть столбцы id_x и id_y хотя в начальных наборах их не было\n",
    "# это произошло потому что они сохранились после объединения и чтобы не возникало ошибок pandas дал им suffixes-ы\n",
    "# суффиксы мы можем указать и сами\n",
    "\n",
    "add_suffixes = pd.merge(orders, products, left_on='product_id', right_on='id', suffixes=['_orders', '_products']).reset_index(drop=True)\n",
    "print(add_suffixes.head())"
   ]
  },
  {
   "cell_type": "markdown",
   "metadata": {},
   "source": [
    "Для проверки различных типов соединений используем дополнительные наборы\n",
    "\n",
    "store_a.csv, store_b.csv"
   ]
  },
  {
   "cell_type": "code",
   "execution_count": 14,
   "metadata": {},
   "outputs": [
    {
     "name": "stdout",
     "output_type": "stream",
     "text": [
      "          item  store_a_inventory\n",
      "0       hammer                 12\n",
      "1  screwdriver                 15\n",
      "2        nails                200\n",
      "3       screws                350\n",
      "4          saw                  6\n",
      "\n",
      "        item  store_b_inventory\n",
      "0     hammer                  6\n",
      "1      nails                250\n",
      "2        saw                  6\n",
      "3  duct tape                150\n",
      "4   pvc pipe                 54\n"
     ]
    }
   ],
   "source": [
    "# загрузим данные и проверим тип соединение outer\n",
    "store_a = pd.read_csv('./files/store_a.csv')\n",
    "store_b = pd.read_csv('./files/store_b.csv')\n",
    "\n",
    "print(store_a.head(), store_b.head(), sep='\\n\\n')"
   ]
  },
  {
   "cell_type": "code",
   "execution_count": 17,
   "metadata": {},
   "outputs": [
    {
     "name": "stdout",
     "output_type": "stream",
     "text": [
      "             item  store_a_inventory  store_b_inventory\n",
      "0       duct tape              150.0              150.0\n",
      "1          hammer               12.0                6.0\n",
      "2           nails              200.0              250.0\n",
      "3        pvc pipe               54.0               54.0\n",
      "4            rake                NaN               10.0\n",
      "5             saw                6.0                6.0\n",
      "6     screwdriver               15.0                NaN\n",
      "7          screws              350.0                NaN\n",
      "8          shovel                NaN               15.0\n",
      "9   wooden dowels                NaN              192.0\n",
      "10         wrench               12.0                NaN\n",
      "\n",
      "          item  store_a_inventory  store_b_inventory\n",
      "0       hammer                 12                6.0\n",
      "1  screwdriver                 15                NaN\n",
      "2        nails                200              250.0\n",
      "3       screws                350                NaN\n",
      "4          saw                  6                6.0\n",
      "5    duct tape                150              150.0\n",
      "6       wrench                 12                NaN\n",
      "7     pvc pipe                 54               54.0\n",
      "\n",
      "            item  store_a_inventory  store_b_inventory\n",
      "0         hammer               12.0                  6\n",
      "1          nails              200.0                250\n",
      "2            saw                6.0                  6\n",
      "3      duct tape              150.0                150\n",
      "4       pvc pipe               54.0                 54\n",
      "5           rake                NaN                 10\n",
      "6         shovel                NaN                 15\n",
      "7  wooden dowels                NaN                192\n"
     ]
    }
   ],
   "source": [
    "# объединим два набора типом соединения outer, left, right\n",
    "\n",
    "outer_merge = pd.merge(store_a, store_b, how='outer').reset_index(drop=True)\n",
    "left_merge = pd.merge(store_a, store_b, how='left').reset_index(drop=True)\n",
    "right_merge = pd.merge(store_a, store_b, how='right').reset_index(drop=True)\n",
    "\n",
    "print(outer_merge, left_merge, right_merge, sep='\\n\\n')\n",
    "# внимательно посмотрите на полученные наборы и обратите внимание на строки в которых имеются значения NaN"
   ]
  },
  {
   "cell_type": "markdown",
   "metadata": {},
   "source": [
    "## Concatenate DataFrame\n",
    "\n",
    "Существует еще один вид соединения не построчный а по столбцам\n",
    "\n",
    "Не редко бывает что одна большая таблица разбивается на 3 части в каждой из которых по 100 строк\n",
    "\n",
    "Чтобы собрать их обратно используется метод concat()\n",
    "\n",
    "Методу передается список dataframe-ов\n",
    "\n",
    "Есть одно условие при котором это может сработать и оно заключается в том чтобы кол-во столбцов в каждом наборе данных должно быть одинаково как и их названия с последовательность. В противном случае новый набор получть очень \"широким\""
   ]
  },
  {
   "cell_type": "code",
   "execution_count": 22,
   "metadata": {},
   "outputs": [
    {
     "name": "stdout",
     "output_type": "stream",
     "text": [
      "             item  store_a_inventory  store_b_inventory\n",
      "0          hammer               12.0                NaN\n",
      "1     screwdriver               15.0                NaN\n",
      "2           nails              200.0                NaN\n",
      "3          screws              350.0                NaN\n",
      "4             saw                6.0                NaN\n",
      "5       duct tape              150.0                NaN\n",
      "6          wrench               12.0                NaN\n",
      "7        pvc pipe               54.0                NaN\n",
      "8          hammer                NaN                6.0\n",
      "9           nails                NaN              250.0\n",
      "10            saw                NaN                6.0\n",
      "11      duct tape                NaN              150.0\n",
      "12       pvc pipe                NaN               54.0\n",
      "13           rake                NaN               10.0\n",
      "14         shovel                NaN               15.0\n",
      "15  wooden dowels                NaN              192.0\n",
      "\n",
      "             item  inventory\n",
      "0          hammer         12\n",
      "1     screwdriver         15\n",
      "2           nails        200\n",
      "3          screws        350\n",
      "4             saw          6\n",
      "5       duct tape        150\n",
      "6          wrench         12\n",
      "7        pvc pipe         54\n",
      "8          hammer          6\n",
      "9           nails        250\n",
      "10            saw          6\n",
      "11      duct tape        150\n",
      "12       pvc pipe         54\n",
      "13           rake         10\n",
      "14         shovel         15\n",
      "15  wooden dowels        192\n"
     ]
    }
   ],
   "source": [
    "concat_df = pd.concat([store_a, store_b]).reset_index(drop=True)\n",
    "concat_df_rename = pd.concat([store_a.rename(columns={'store_a_inventory':'inventory'}), store_b.rename(columns={'store_b_inventory':'inventory'})]).reset_index(drop=True)\n",
    "\n",
    "print(concat_df, concat_df_rename, sep='\\n\\n')"
   ]
  }
 ],
 "metadata": {
  "kernelspec": {
   "display_name": "Python 3",
   "language": "python",
   "name": "python3"
  },
  "language_info": {
   "codemirror_mode": {
    "name": "ipython",
    "version": 3
   },
   "file_extension": ".py",
   "mimetype": "text/x-python",
   "name": "python",
   "nbconvert_exporter": "python",
   "pygments_lexer": "ipython3",
   "version": "3.12.5"
  }
 },
 "nbformat": 4,
 "nbformat_minor": 2
}
