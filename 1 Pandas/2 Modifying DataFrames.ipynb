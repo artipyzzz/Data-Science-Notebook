{
 "cells": [
  {
   "cell_type": "markdown",
   "metadata": {},
   "source": [
    "# Adding a column\n",
    "\n",
    "Добавление колонок к DataFrame\n",
    "\n",
    "Добавление колонок производится по тойже констуркции что и добавления пары ключ значение в словарь с тем лишь отличием что кол-во значений в новом столбце должно соответствовать общей длинне датафрейма"
   ]
  },
  {
   "cell_type": "code",
   "execution_count": 2,
   "metadata": {},
   "outputs": [
    {
     "name": "stdout",
     "output_type": "stream",
     "text": [
      "   Product ID   Description  Cost to Manufacture  Price\n",
      "0           1  3 inch screw                  0.5   0.75\n",
      "1           2   2 inch nail                  0.1   0.25\n",
      "2           3        hammer                  3.0   5.50\n",
      "3           4   screwdriver                  2.5   3.00\n"
     ]
    }
   ],
   "source": [
    "# Другими словами допустим у нас есть df\n",
    "\n",
    "import pandas as pd\n",
    "\n",
    "df = pd.DataFrame([\n",
    "  [1, '3 inch screw', 0.5, 0.75],\n",
    "  [2, '2 inch nail', 0.10, 0.25],\n",
    "  [3, 'hammer', 3.00, 5.50],\n",
    "  [4, 'screwdriver', 2.50, 3.00]\n",
    "],\n",
    "  columns=['Product ID', 'Description', 'Cost to Manufacture', 'Price']\n",
    ")\n",
    "\n",
    "print(df)"
   ]
  },
  {
   "cell_type": "code",
   "execution_count": 4,
   "metadata": {},
   "outputs": [
    {
     "name": "stdout",
     "output_type": "stream",
     "text": [
      "   Product ID   Description  Cost to Manufacture  Price  new_column\n",
      "0           1  3 inch screw                  0.5   0.75           1\n",
      "1           2   2 inch nail                  0.1   0.25           1\n",
      "2           3        hammer                  3.0   5.50           1\n",
      "3           4   screwdriver                  2.5   3.00           1\n"
     ]
    }
   ],
   "source": [
    "# если мы вдруг захотим добавить новую колонку и укажем кол-во значений ее меньше чем в остальных то получим ошибку\n",
    "# df['new_column'] = [1]\n",
    "# Чтобы код не вызывал ошибок\n",
    "# 1. Можно указать значения в кол-ве которое равно остальным столбцам\n",
    "# 2. Присвоить одно значение новой колонке в таком случае все значения новой колонки будут равны данному значению\n",
    "df['new_column'] = 1\n",
    "print(df.head())"
   ]
  },
  {
   "cell_type": "markdown",
   "metadata": {},
   "source": [
    "Но не часто бывают случаю когда все значения каждой строки равны одному и томе же значению\n",
    "\n",
    "Общей практикой добавления колонок является добавление колонок со значеями которые были вычисленны на основе имеющихся данных"
   ]
  },
  {
   "cell_type": "code",
   "execution_count": 5,
   "metadata": {},
   "outputs": [
    {
     "name": "stdout",
     "output_type": "stream",
     "text": [
      "   Product ID   Description  Cost to Manufacture  Price  new_column  Diff\n",
      "0           1  3 inch screw                  0.5   0.75           1  0.25\n",
      "1           2   2 inch nail                  0.1   0.25           1  0.15\n",
      "2           3        hammer                  3.0   5.50           1  2.50\n",
      "3           4   screwdriver                  2.5   3.00           1  0.50\n"
     ]
    }
   ],
   "source": [
    "# в таком случае используются простые математические действия \n",
    "# например разница между значениями колонки Price и Cost to Manufacture записанной в колонке с именем Diff запишется следующим образом\n",
    "df['Diff'] = df.Price - df[\"Cost to Manufacture\"]\n",
    "print(df.head())"
   ]
  },
  {
   "cell_type": "markdown",
   "metadata": {},
   "source": [
    "## Использование функций для формирования новой колонки\n",
    "\n",
    "А еще чаще бывает что требуется рассчитать значения новой колонки исходя из более сложной логики чем вычитание одного значения из другого\n",
    "\n",
    "В таком случае используется метод **apply()** внутрь которого передается функция которая будет применена к каждому значению колонки из которой функция была вызвана"
   ]
  },
  {
   "cell_type": "code",
   "execution_count": 6,
   "metadata": {},
   "outputs": [
    {
     "name": "stdout",
     "output_type": "stream",
     "text": [
      "   Product ID   Description  Cost to Manufacture  Price  new_column  Diff  \\\n",
      "0           1  3 inch screw                  0.5   0.75           1  0.25   \n",
      "1           2   2 inch nail                  0.1   0.25           1  0.15   \n",
      "2           3        hammer                  3.0   5.50           1  2.50   \n",
      "3           4   screwdriver                  2.5   3.00           1  0.50   \n",
      "\n",
      "  Title_Description  \n",
      "0      3 Inch Screw  \n",
      "1       2 Inch Nail  \n",
      "2            Hammer  \n",
      "3       Screwdriver  \n"
     ]
    }
   ],
   "source": [
    "# Например мы хотим чтобы значение новой колонки являлось равной значениям из колонки Description но чтобы каждое слово начиналось в заглавной буквы\n",
    "# И назовем данную колонку Title_Description\n",
    "df['Title_Description'] = df.Description.apply(str.title)\n",
    "print(df.head())"
   ]
  },
  {
   "cell_type": "markdown",
   "metadata": {},
   "source": [
    "Но если можно применять встроенные методы различных классов то следовательно можно применять и свои функции в том числе и **lambda** функции"
   ]
  },
  {
   "cell_type": "code",
   "execution_count": 8,
   "metadata": {},
   "outputs": [
    {
     "name": "stdout",
     "output_type": "stream",
     "text": [
      "   Product ID   Description  Cost to Manufacture  Price  new_column  Diff  \\\n",
      "0           1  3 inch screw                  0.5   0.75           1  0.25   \n",
      "1           2   2 inch nail                  0.1   0.25           1  0.15   \n",
      "2           3        hammer                  3.0   5.50           1  2.50   \n",
      "3           4   screwdriver                  2.5   3.00           1  0.50   \n",
      "\n",
      "  Title_Description Upper_Description  \n",
      "0      3 Inch Screw      3 INCH SCREW  \n",
      "1       2 Inch Nail       2 INCH NAIL  \n",
      "2            Hammer            HAMMER  \n",
      "3       Screwdriver       SCREWDRIVER  \n"
     ]
    }
   ],
   "source": [
    "# Тот же самый эффект с колонкой Description можно добиться и через Lambda функцию\n",
    "# создадим переменную которая будет содержать lambda функцию\n",
    "change_des_upper = lambda x: x.upper()\n",
    "\n",
    "df['Upper_Description'] = df.Description.apply(change_des_upper)\n",
    "\n",
    "print(df.head())"
   ]
  },
  {
   "cell_type": "code",
   "execution_count": 9,
   "metadata": {},
   "outputs": [
    {
     "name": "stdout",
     "output_type": "stream",
     "text": [
      "   Product ID   Description  Cost to Manufacture  Price  new_column  Diff  \\\n",
      "0           1  3 inch screw                  0.5   0.75           1  0.25   \n",
      "1           2   2 inch nail                  0.1   0.25           1  0.15   \n",
      "2           3        hammer                  3.0   5.50           1  2.50   \n",
      "3           4   screwdriver                  2.5   3.00           1  0.50   \n",
      "\n",
      "  Title_Description Upper_Description Even_Odd_Product_ID  \n",
      "0      3 Inch Screw      3 INCH SCREW                 odd  \n",
      "1       2 Inch Nail       2 INCH NAIL                even  \n",
      "2            Hammer            HAMMER                 odd  \n",
      "3       Screwdriver       SCREWDRIVER                even  \n"
     ]
    }
   ],
   "source": [
    "# Можно создавать и более сложные условия для вывода например является ли идентификатор продукта (Product ID) четным или не четным\n",
    "even_odd_prod_id = lambda x: 'even' if x % 2 == 0 else 'odd'\n",
    "\n",
    "df['Even_Odd_Product_ID'] = df['Product ID'].apply(even_odd_prod_id)\n",
    "\n",
    "print(df.head())"
   ]
  },
  {
   "cell_type": "markdown",
   "metadata": {},
   "source": [
    "Метод apply() применяет функцию внутри метода к каждому значению в столбце, но что если нам необходимо получать значения в зависимости от значений нескольких колонок\n",
    "\n",
    "В таком случае указывается параметр метода apply() - axis = 1 (данная переменная может принимать два значения 0 или 1. По умолчанию используется 0)\n",
    "\n",
    "И метод применяется ко всему df"
   ]
  },
  {
   "cell_type": "code",
   "execution_count": 10,
   "metadata": {},
   "outputs": [
    {
     "name": "stdout",
     "output_type": "stream",
     "text": [
      "   Product ID   Description  Cost to Manufacture  Price  new_column  Diff  \\\n",
      "0           1  3 inch screw                  0.5   0.75           1  0.25   \n",
      "1           2   2 inch nail                  0.1   0.25           1  0.15   \n",
      "2           3        hammer                  3.0   5.50           1  2.50   \n",
      "3           4   screwdriver                  2.5   3.00           1  0.50   \n",
      "\n",
      "  Title_Description Upper_Description Even_Odd_Product_ID  even_odd_price_cost  \n",
      "0      3 Inch Screw      3 INCH SCREW                 odd                 0.25  \n",
      "1       2 Inch Nail       2 INCH NAIL                even                -0.15  \n",
      "2            Hammer            HAMMER                 odd                 2.50  \n",
      "3       Screwdriver       SCREWDRIVER                even                -0.50  \n"
     ]
    }
   ],
   "source": [
    "# Допустим если значение product id четное то мы Cost of Manufacture отнимаем от Price а если не четное то наборот\n",
    "check = lambda x: x['Cost to Manufacture'] - x.Price if x['Even_Odd_Product_ID'] == 'even' else x.Price - x['Cost to Manufacture']\n",
    "df['even_odd_price_cost'] = df.apply(check, axis=1)\n",
    "\n",
    "print(df.head())"
   ]
  },
  {
   "cell_type": "markdown",
   "metadata": {},
   "source": [
    "## Переименовать колонку\n",
    "\n",
    "Для того чтобы переименовать колонку используется два метода\n",
    "- Вызывается переменная columns объекта класса DataFrame и присваивается новое значение которое является списком новых наименований\n",
    "    - но у данного способа есть ряд недостатков\n",
    "        - если мы его используем то в обязательном порядке следует указать наименования всех колонок. Получается даже в случае если нам требуется переименовать только одну колонку чтобы метод сработал надо будет в списке указать все старые наименования колонок в список"
   ]
  },
  {
   "cell_type": "code",
   "execution_count": 15,
   "metadata": {},
   "outputs": [
    {
     "name": "stdout",
     "output_type": "stream",
     "text": [
      "Index(['Product ID', 'Description', 'Cost to Manufacture', 'Price',\n",
      "       'new_column', 'Diff', 'Title_Description', 'Upper_Description',\n",
      "       'Even_Odd_Product_ID', 'EOPC'],\n",
      "      dtype='object')\n",
      "   Product ID   Description  Cost to Manufacture  Price  new_column  Diff  \\\n",
      "0           1  3 inch screw                  0.5   0.75           1  0.25   \n",
      "1           2   2 inch nail                  0.1   0.25           1  0.15   \n",
      "2           3        hammer                  3.0   5.50           1  2.50   \n",
      "3           4   screwdriver                  2.5   3.00           1  0.50   \n",
      "\n",
      "  Title_Description Upper_Description Even_Odd_Product_ID  EOPC  \n",
      "0      3 Inch Screw      3 INCH SCREW                 odd  0.25  \n",
      "1       2 Inch Nail       2 INCH NAIL                even -0.15  \n",
      "2            Hammer            HAMMER                 odd  2.50  \n",
      "3       Screwdriver       SCREWDRIVER                even -0.50  \n"
     ]
    }
   ],
   "source": [
    "# Допустим нам надо переименовать колонку even_odd_price_cost и сделать ее просто абревиатурой EOPC\n",
    "# В таком случае процесс будет выглядет так\n",
    "\n",
    "old_column_name = list(df.columns)\n",
    "old_column_name[-1] = 'EOPC'\n",
    "df.columns = old_column_name\n",
    "\n",
    "print(df.columns)\n",
    "print(df.head())"
   ]
  },
  {
   "cell_type": "code",
   "execution_count": null,
   "metadata": {},
   "outputs": [],
   "source": [
    "# что будет если мы попробуем переименовать таким способом только одну колонку\n",
    "# ну во первых вам и самому будет не понят что и на что вы переименовывайте а во вторых давайте попробуем =)\n",
    "df.columns = ['first column']\n",
    "\n",
    "# выйдет ошибка valueError\n",
    "# ValueError: Length mismatch: Expected axis has 10 elements, new values have 1 elements"
   ]
  },
  {
   "cell_type": "markdown",
   "metadata": {},
   "source": [
    "Второй способ переименовать колонку намного более лаконичный и правильный и позволяет переименовывать только те колонки которые необходимы.\n",
    "\n",
    "Способ заключается в использовании метода rename(columns={}, inplace = True) внутрь которого передается словарь с парой ключ:значение\n",
    "\n",
    "Где\n",
    "- ключ - это наименование старой колонки\n",
    "- значение - наименование новой колонки \n",
    "- с параметром inplace мы уже знакомы"
   ]
  },
  {
   "cell_type": "code",
   "execution_count": 19,
   "metadata": {},
   "outputs": [
    {
     "name": "stdout",
     "output_type": "stream",
     "text": [
      "   Product ID   Description  Cost to Manufacture  Price  new_column  Diff  \\\n",
      "0           1  3 inch screw                  0.5   0.75           1  0.25   \n",
      "1           2   2 inch nail                  0.1   0.25           1  0.15   \n",
      "2           3        hammer                  3.0   5.50           1  2.50   \n",
      "3           4   screwdriver                  2.5   3.00           1  0.50   \n",
      "\n",
      "  Title_Description            UD Even_Odd_Product_ID  EOPC  \n",
      "0      3 Inch Screw  3 INCH SCREW                 odd  0.25  \n",
      "1       2 Inch Nail   2 INCH NAIL                even -0.15  \n",
      "2            Hammer        HAMMER                 odd  2.50  \n",
      "3       Screwdriver   SCREWDRIVER                even -0.50  \n"
     ]
    }
   ],
   "source": [
    "# Переименнуем колонку Upper_Description просто в UD\n",
    "df.rename(columns={'Upper_Description':'UD'}, inplace=True)\n",
    "\n",
    "print(df.head())"
   ]
  }
 ],
 "metadata": {
  "kernelspec": {
   "display_name": "Python 3",
   "language": "python",
   "name": "python3"
  },
  "language_info": {
   "codemirror_mode": {
    "name": "ipython",
    "version": 3
   },
   "file_extension": ".py",
   "mimetype": "text/x-python",
   "name": "python",
   "nbconvert_exporter": "python",
   "pygments_lexer": "ipython3",
   "version": "3.12.5"
  }
 },
 "nbformat": 4,
 "nbformat_minor": 2
}
