{
 "cells": [
  {
   "cell_type": "markdown",
   "metadata": {},
   "source": [
    "# Lambda function\n",
    "\n",
    "Лямбда функции или еще такие функции называют безымянные функции так как создаются и вызываются в рамках одной программы и не могут быть вызвана в других программах\n",
    "\n",
    "Данные функции очень полезны в случае если требуется произвести вычисления, изменения или сравнения в разрезе иттераций или быстро составить функцию действия которой в данный момент времени нужно вызвать несколько раз и она больше не будет вызвана ни в какой другой программе.\n",
    "\n",
    "Структура lambda функции\n",
    "\n",
    "`lambda x: x action`"
   ]
  },
  {
   "cell_type": "code",
   "execution_count": 1,
   "metadata": {},
   "outputs": [
    {
     "name": "stdout",
     "output_type": "stream",
     "text": [
      "True\n",
      "False\n",
      "True\n"
     ]
    }
   ],
   "source": [
    "# Допустим мы хотим быстро понять содержит ли слово букву 'a'\n",
    "# Мы можем написать lambda функцию которая будет возвращать булевое значение\n",
    "\n",
    "contains_a = lambda x: 'a' in x\n",
    "\n",
    "print(contains_a('banana'))\n",
    "print(contains_a('John'))\n",
    "print(contains_a('Sara'))"
   ]
  },
  {
   "cell_type": "code",
   "execution_count": 2,
   "metadata": {},
   "outputs": [
    {
     "name": "stdout",
     "output_type": "stream",
     "text": [
      "False\n",
      "True\n"
     ]
    }
   ],
   "source": [
    "# Или мы хотим понять длинное строковые данные или нет\n",
    "# Примем что длинные строковые данные начинаются от 12 символов\n",
    "\n",
    "long_string = lambda x: True if len(x) >= 12 else False\n",
    "\n",
    "print(long_string('short'))\n",
    "print(long_string('This is a good idea to code lambda function!'))"
   ]
  },
  {
   "cell_type": "code",
   "execution_count": 3,
   "metadata": {},
   "outputs": [
    {
     "name": "stdout",
     "output_type": "stream",
     "text": [
      "False\n",
      "True\n"
     ]
    }
   ],
   "source": [
    "# Ламбда функция которая проверяет закачивается ли строка на букву 'a'\n",
    "\n",
    "end_with_a = lambda x: 'a' == x[-1]\n",
    "\n",
    "print(end_with_a('John'))\n",
    "print(end_with_a('Sara'))"
   ]
  },
  {
   "cell_type": "code",
   "execution_count": 4,
   "metadata": {},
   "outputs": [
    {
     "name": "stdout",
     "output_type": "stream",
     "text": [
      "0\n",
      "30\n"
     ]
    }
   ],
   "source": [
    "# Удваиваем значение если значение больше 10 или выводим 0\n",
    "double_or_zero = lambda x: x*2 if x >= 10 else 0\n",
    "\n",
    "print(double_or_zero(5))\n",
    "print(double_or_zero(15))"
   ]
  },
  {
   "cell_type": "code",
   "execution_count": 5,
   "metadata": {},
   "outputs": [
    {
     "name": "stdout",
     "output_type": "stream",
     "text": [
      "even\n",
      "odd\n"
     ]
    }
   ],
   "source": [
    "# Четное или нечетное\n",
    "even_or_odd = lambda x: 'even' if x % 2 ==0 else 'odd'\n",
    "\n",
    "print(even_or_odd(10))\n",
    "print(even_or_odd(5))"
   ]
  },
  {
   "cell_type": "code",
   "execution_count": 6,
   "metadata": {},
   "outputs": [
    {
     "name": "stdout",
     "output_type": "stream",
     "text": [
      "True\n",
      "False\n"
     ]
    }
   ],
   "source": [
    "# определить является ли число состоящим из троек\n",
    "# или наобор делится ли число без остатка на 3\n",
    "multiple_of_three = lambda x: x % 3 == 0\n",
    "\n",
    "print(multiple_of_three(9))\n",
    "print(multiple_of_three(10))"
   ]
  },
  {
   "cell_type": "code",
   "execution_count": 7,
   "metadata": {},
   "outputs": [
    {
     "name": "stdout",
     "output_type": "stream",
     "text": [
      "I liked this movie\n",
      "This movie was not very goor\n"
     ]
    }
   ],
   "source": [
    "# рейтинг фильмов\n",
    "rate_movie = lambda x: 'This movie was not very goor' if x < 8.5 else 'I liked this movie'\n",
    "\n",
    "print(rate_movie(9.2))\n",
    "print(rate_movie(7.2))"
   ]
  },
  {
   "cell_type": "code",
   "execution_count": 9,
   "metadata": {},
   "outputs": [
    {
     "name": "stdout",
     "output_type": "stream",
     "text": [
      "3\n",
      "4\n"
     ]
    }
   ],
   "source": [
    "# Получить десятичную часть числа\n",
    "ones_place = lambda x: x % 10\n",
    "\n",
    "print(ones_place(123))\n",
    "print(ones_place(4))"
   ]
  },
  {
   "cell_type": "code",
   "execution_count": 10,
   "metadata": {},
   "outputs": [
    {
     "name": "stdout",
     "output_type": "stream",
     "text": [
      "50\n",
      "18\n"
     ]
    }
   ],
   "source": [
    "# получить двойной квадрат числа\n",
    "double_square = lambda x: 2 * x ** 2\n",
    "\n",
    "print(double_square(5))\n",
    "print(double_square(3))"
   ]
  },
  {
   "cell_type": "code",
   "execution_count": 12,
   "metadata": {},
   "outputs": [
    {
     "name": "stdout",
     "output_type": "stream",
     "text": [
      "9\n",
      "101\n"
     ]
    }
   ],
   "source": [
    "# добавлять случайное число от 1 до 10\n",
    "import random\n",
    "\n",
    "add_random = lambda x: x + random.randint(1, 10)\n",
    "\n",
    "print(add_random(5))\n",
    "print(add_random(100))"
   ]
  }
 ],
 "metadata": {
  "kernelspec": {
   "display_name": "Python 3",
   "language": "python",
   "name": "python3"
  },
  "language_info": {
   "codemirror_mode": {
    "name": "ipython",
    "version": 3
   },
   "file_extension": ".py",
   "mimetype": "text/x-python",
   "name": "python",
   "nbconvert_exporter": "python",
   "pygments_lexer": "ipython3",
   "version": "3.12.5"
  }
 },
 "nbformat": 4,
 "nbformat_minor": 2
}
