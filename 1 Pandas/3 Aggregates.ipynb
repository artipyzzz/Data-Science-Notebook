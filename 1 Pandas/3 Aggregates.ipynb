{
 "cells": [
  {
   "cell_type": "markdown",
   "metadata": {},
   "source": [
    "# Аггрегирование значений\n",
    "\n",
    "У Pandas есть возможность аггрегировать значеия по какому либо из значений других колонок\n",
    "\n",
    "Что является очень полезной функцией для выявления закономерностей и общей статистики\n",
    "\n",
    "Аггрегирование в основном происходит по категорийным переменным\n",
    "\n",
    "Процесс аггрегирования происходит с использованием специального метода которому передается наименование колонки по значениям которого следует производить аггрегацию далее указанных значений\n",
    "\n",
    "Структура\n",
    "`df.groupby(column_name.str).column_name.agg_funct()`\n",
    "\n",
    "Где\n",
    "- df - DataFrame\n",
    "- groupby - инструкция процесса аггрегации\n",
    "- column_name.str - наименованое колонки по значениям которой будет производится аггрегация тип данных string\n",
    "- column_name - наименование колонки над значениями которой будет производится действие функции аггрегации\n",
    "- agg_funct - функция аггрегации\n",
    "\n",
    "При использовании функции аггрегации данный метод возвращает набор данных, после использования данного метода рекомендуется использовать метод переназначения индексов reset_index()\n",
    "\n",
    "Если требуется указать несколько наименований колонок для аггрегации то методу groupby передается список состоящий из строковых данных наименований колонок\n",
    "\n",
    "## Методы агрегации\n",
    "\n",
    "- mean() - вычисляется среднее значение\n",
    "- max() - максимальное значение\n",
    "- min() - минимальное значение\n",
    "- count() - производит подсчет кол-ва данных в каждом значении параметра аггрегации\n",
    "\n",
    "Для того чтобы отработать практику работы с функцией аггрегации был создан набор данных *./files/orders.csv*"
   ]
  },
  {
   "cell_type": "code",
   "execution_count": 2,
   "metadata": {},
   "outputs": [
    {
     "name": "stdout",
     "output_type": "stream",
     "text": [
      "      id first_name last_name                       email  shoe_type  \\\n",
      "0  97916    Douglas     Perez    DouglasPerez28@gmail.com  stilettos   \n",
      "1  67691    Tiffany   O'neill  TiffanyO'neill51@gmail.com     wedges   \n",
      "2  72818      Susan     Rivas       Susan.Rivas@gmail.com    sandals   \n",
      "3  28080     Angela    Hopper  AngelaHopper62@outlook.com  stilettos   \n",
      "4  89958     Thomas  Benjamin     TBenjamin1981@gmail.com    sandals   \n",
      "\n",
      "  shoe_material shoe_color  price  \n",
      "0        fabric      brown     90  \n",
      "1       leather       navy     94  \n",
      "2  faux-leather      white     96  \n",
      "3       leather        red     96  \n",
      "4  faux-leather       navy     97  \n"
     ]
    }
   ],
   "source": [
    "import pandas as pd\n",
    "\n",
    "orders = pd.read_csv('./files/orders.csv')\n",
    "\n",
    "print(orders.head())"
   ]
  },
  {
   "cell_type": "code",
   "execution_count": 5,
   "metadata": {},
   "outputs": [
    {
     "name": "stdout",
     "output_type": "stream",
     "text": [
      "  shoe_color       price\n",
      "0      black  307.538462\n",
      "1      brown  313.437500\n",
      "2       navy  295.150943\n",
      "3        red  265.021277\n",
      "4      white  277.666667\n",
      "  shoe_color  price\n",
      "0      black    498\n",
      "1      brown    498\n",
      "2       navy    484\n",
      "3        red    457\n",
      "4      white    492\n",
      "  shoe_color  price\n",
      "0      black    107\n",
      "1      brown     90\n",
      "2       navy     94\n",
      "3        red     96\n",
      "4      white     96\n",
      "  shoe_color  price\n",
      "0      black     13\n",
      "1      brown     48\n",
      "2       navy     53\n",
      "3        red     47\n",
      "4      white     39\n"
     ]
    }
   ],
   "source": [
    "# у нас есть категорийная переменная которая содержит наименования цветов shoe_color\n",
    "# будем работать с ней\n",
    "\n",
    "# рассчитаем среднюю/максимальную/минимальную/кол-во обуви каждого цвета\n",
    "mean_price_color = orders.groupby('shoe_color').price.mean().reset_index()\n",
    "max_price_color = orders.groupby('shoe_color').price.max().reset_index()\n",
    "min_price_color = orders.groupby('shoe_color').price.min().reset_index()\n",
    "count_price_color = orders.groupby('shoe_color').price.count().reset_index()\n",
    "# максимальное значение\n",
    "\n",
    "print(mean_price_color)\n",
    "print(max_price_color)\n",
    "print(min_price_color)\n",
    "print(count_price_color)"
   ]
  },
  {
   "cell_type": "markdown",
   "metadata": {},
   "source": [
    "## Pivot Tables\n",
    "\n",
    "Пивотные таблицы это результат метода позволяющего развернуть таблицу указав индексом и наименования столбцов требуемые\n",
    "\n",
    "Структура:\n",
    "`df.pivot(columns = column_name, index = column_name, values = column_name)`"
   ]
  },
  {
   "cell_type": "code",
   "execution_count": 6,
   "metadata": {},
   "outputs": [
    {
     "name": "stdout",
     "output_type": "stream",
     "text": [
      "       shoe_type shoe_color  id\n",
      "0   ballet flats      black   2\n",
      "1   ballet flats      brown  11\n",
      "2   ballet flats       navy  17\n",
      "3   ballet flats        red  13\n",
      "4   ballet flats      white   7\n",
      "5        sandals      black   3\n",
      "6        sandals      brown  10\n",
      "7        sandals       navy  13\n",
      "8        sandals        red  14\n",
      "9        sandals      white  10\n",
      "10     stilettos      black   8\n",
      "11     stilettos      brown  14\n",
      "12     stilettos       navy   7\n",
      "13     stilettos        red  16\n",
      "14     stilettos      white   5\n",
      "15        wedges      brown  13\n",
      "16        wedges       navy  16\n",
      "17        wedges        red   4\n",
      "18        wedges      white  17\n"
     ]
    }
   ],
   "source": [
    "# Создадим набор данных который будет равен результатом аггрегации по кол-ву типа обучи и его цвета\n",
    "\n",
    "type_color_count = orders.groupby(['shoe_type','shoe_color']).id.count().reset_index()\n",
    "\n",
    "print(type_color_count)\n",
    "# получилось слишком много повторяющихся значений попробуем преобразовать результат в пивотную таблицу"
   ]
  },
  {
   "cell_type": "code",
   "execution_count": 8,
   "metadata": {},
   "outputs": [
    {
     "name": "stdout",
     "output_type": "stream",
     "text": [
      "shoe_color     shoe_type  black  brown  navy   red  white\n",
      "0           ballet flats    2.0   11.0  17.0  13.0    7.0\n",
      "1                sandals    3.0   10.0  13.0  14.0   10.0\n",
      "2              stilettos    8.0   14.0   7.0  16.0    5.0\n",
      "3                 wedges    NaN   13.0  16.0   4.0   17.0\n"
     ]
    }
   ],
   "source": [
    "type_color_count_pivot = type_color_count.pivot(\n",
    "    index='shoe_type',\n",
    "    columns='shoe_color',\n",
    "    values='id'\n",
    ").reset_index()\n",
    "\n",
    "print(type_color_count_pivot)"
   ]
  }
 ],
 "metadata": {
  "kernelspec": {
   "display_name": "Python 3",
   "language": "python",
   "name": "python3"
  },
  "language_info": {
   "codemirror_mode": {
    "name": "ipython",
    "version": 3
   },
   "file_extension": ".py",
   "mimetype": "text/x-python",
   "name": "python",
   "nbconvert_exporter": "python",
   "pygments_lexer": "ipython3",
   "version": "3.12.5"
  }
 },
 "nbformat": 4,
 "nbformat_minor": 2
}
