{
 "cells": [
  {
   "cell_type": "markdown",
   "metadata": {},
   "source": [
    "# Data Summaries\n",
    "\n",
    "Для того чтобы получить поверхностную итоговую информацию по данным в pandas существуют специальный метод с параметрами.\n",
    "\n",
    "Данный параметр называется **describe()**\n",
    "\n",
    "Если не указывать никаких параметров то данный метод посчитает сводную информацию по числовым значениям\n",
    "\n",
    "Но также он может сделать это и для категорийных переменных для этого указывается параметр **include** которому присваивается строковое значение **'all'**"
   ]
  },
  {
   "cell_type": "code",
   "execution_count": 1,
   "metadata": {},
   "outputs": [
    {
     "name": "stdout",
     "output_type": "stream",
     "text": [
      "      type            title         country release_year rating  duration\n",
      "0    Movie  Norm of the ...   United States      missing     PG    91.071\n",
      "1    Movie  Jandino: Wha...  United Kingdom         2016      R    94.516\n",
      "2  TV Show  Transformers...   United States         2013      G     1.127\n",
      "3  TV Show  Transformers...   United States         2016  TV-14     1.687\n",
      "4    Movie  #realityhigh...   United States         2017  TV-14    99.248\n"
     ]
    }
   ],
   "source": [
    "# давайте посмотрим как это работает\n",
    "import pandas as pd\n",
    "pd.set_option('display.expand_frame_repr', None)\n",
    "\n",
    "movies = pd.read_csv('./files/netflix_movies.csv', index_col=0)\n",
    "\n",
    "print(movies.head())"
   ]
  },
  {
   "cell_type": "code",
   "execution_count": 2,
   "metadata": {},
   "outputs": [
    {
     "name": "stdout",
     "output_type": "stream",
     "text": [
      "          duration\n",
      "count  6234.000000\n",
      "mean     68.983492\n",
      "std      50.867301\n",
      "min       1.001000\n",
      "25%       2.926250\n",
      "50%      87.272500\n",
      "75%     105.893000\n",
      "max     312.970000\n"
     ]
    }
   ],
   "source": [
    "# используя метод describe выведите на экран сводную информацию по числовым параметрам\n",
    "print(movies.describe())\n",
    "# если помните то из числовых переменных в данном наборе было только колонка duration\n",
    "# потому как колонка release_year содержала в себе строковую данную вместо числа"
   ]
  },
  {
   "cell_type": "code",
   "execution_count": 3,
   "metadata": {},
   "outputs": [
    {
     "name": "stdout",
     "output_type": "stream",
     "text": [
      "         type            title        country release_year rating     duration\n",
      "count    6234             6234           5758         6234   6224  6234.000000\n",
      "unique      2             5732             72           73      7          NaN\n",
      "top     Movie  Power Ranger...  United States         2018      R          NaN\n",
      "freq     4265               30           2302         1063   2753          NaN\n",
      "mean      NaN              NaN            NaN          NaN    NaN    68.983492\n",
      "std       NaN              NaN            NaN          NaN    NaN    50.867301\n",
      "min       NaN              NaN            NaN          NaN    NaN     1.001000\n",
      "25%       NaN              NaN            NaN          NaN    NaN     2.926250\n",
      "50%       NaN              NaN            NaN          NaN    NaN    87.272500\n",
      "75%       NaN              NaN            NaN          NaN    NaN   105.893000\n",
      "max       NaN              NaN            NaN          NaN    NaN   312.970000\n"
     ]
    }
   ],
   "source": [
    "# отобразите сводную информацию включая категорийные переменные\n",
    "print(movies.describe(include='all'))"
   ]
  },
  {
   "cell_type": "markdown",
   "metadata": {},
   "source": [
    "## Центральная тенденция числовых данных\n",
    "\n",
    "Говоря о числовых данных мы не редко хотим описать центральную тенденцию, или \"типичные\" значения переменных. Например, какова типичная цента аренды квартиры в Нью-Йорке?\n",
    "\n",
    "Существует несолько наиболее часто встречаемых измерений центральной тенденции:\n",
    "- mean - среднее значение, рассчитывается как сумма всех значений разделенное на кол-во значений\n",
    "- median - значение которое представляет собой середину отсортированных значений\n",
    "- mode - наиболее часто встречаемое значения переменной\n",
    "- Trimmed mean - среднее значения не включая некоторый процент от самого низкого и высокого значений\n",
    "\n",
    "Для практического ознакомления с данными измерения используйте набор данных ./files/movies.csv"
   ]
  },
  {
   "cell_type": "code",
   "execution_count": 4,
   "metadata": {},
   "outputs": [
    {
     "name": "stdout",
     "output_type": "stream",
     "text": [
      "                              movie  production_budget  domestic_gross  worldwide_gross mpaa_rating      genre\n",
      "0                     Evan Almighty        175000000.0     100289690.0     1.741313e+08          PG     Comedy\n",
      "1                        Waterworld        175000000.0      88246220.0     2.642462e+08       PG-13     Action\n",
      "2  King Arthur: Legend of the Sword        175000000.0      39175066.0     1.399507e+08       PG-13  Adventure\n",
      "3                          47 Ronin        175000000.0      38362475.0     1.517168e+08       PG-13     Action\n",
      "4    Jurassic World: Fallen Kingdom        170000000.0     416769345.0     1.304866e+09       PG-13     Action\n"
     ]
    }
   ],
   "source": [
    "movies = pd.read_csv('./files/movies.csv')\n",
    "\n",
    "print(movies.head())"
   ]
  },
  {
   "cell_type": "code",
   "execution_count": 5,
   "metadata": {},
   "outputs": [
    {
     "name": "stdout",
     "output_type": "stream",
     "text": [
      "33284743.23640106\n"
     ]
    }
   ],
   "source": [
    "# вычислите среднее значение колонки production_budget и сохраните в переменную mean_budget\n",
    "# выведите результат на экран\n",
    "\n",
    "mean_budget = movies.production_budget.mean()\n",
    "\n",
    "print(mean_budget)"
   ]
  },
  {
   "cell_type": "code",
   "execution_count": 6,
   "metadata": {},
   "outputs": [
    {
     "name": "stdout",
     "output_type": "stream",
     "text": [
      "20000000.0\n"
     ]
    }
   ],
   "source": [
    "# вычислите медианное значение той же колонки\n",
    "print(movies.production_budget.median())"
   ]
  },
  {
   "cell_type": "code",
   "execution_count": 7,
   "metadata": {},
   "outputs": [
    {
     "name": "stdout",
     "output_type": "stream",
     "text": [
      "0    20000000.0\n",
      "Name: production_budget, dtype: float64\n"
     ]
    }
   ],
   "source": [
    "# выведите значение mode\n",
    "print(movies.production_budget.mode())"
   ]
  },
  {
   "cell_type": "code",
   "execution_count": 8,
   "metadata": {},
   "outputs": [
    {
     "name": "stdout",
     "output_type": "stream",
     "text": [
      "23949546.79078883\n"
     ]
    }
   ],
   "source": [
    "# выведите на экран значение trimmed mean\n",
    "from scipy.stats import trim_mean\n",
    "\n",
    "print(trim_mean(movies.production_budget, proportiontocut=0.2))"
   ]
  },
  {
   "cell_type": "markdown",
   "metadata": {},
   "source": [
    "## Разброс числовых данных Spread of Quantitative Data\n",
    "\n",
    "Для более глубокого понимания числовых значений используются специальные метрики описывающие определенные показатели к таким метрикам относятся\n",
    "- range - диапазон, рассчитыватеся как разнциа между максимальным и минимальным значениями\n",
    "- IQR (interqartile range) - межквартильный диапазон, рассчитывается как разница между 1 и 3 квартилями\n",
    "- variance - среднее значение квадратов расстояний от каждой значения до среднего\n",
    "- standart daviation (SD) - стандартное отклонение, рассчитывается как квадратный корень из variance\n",
    "- mean absolute deviation (mad) - среднее абсолютное значение расстояний между каждой точкой и средним значением"
   ]
  },
  {
   "cell_type": "code",
   "execution_count": 9,
   "metadata": {},
   "outputs": [
    {
     "name": "stdout",
     "output_type": "stream",
     "text": [
      "174750000.0\n",
      "36000000.0\n",
      "1217478921139147.8\n",
      "34892390.5907742\n",
      "26090426.818845242\n"
     ]
    }
   ],
   "source": [
    "# давайте рассчитываем все выше перечисленные показатели на примере набора данных movies\n",
    "# все вычисления будем применять к колонке production_budget\n",
    "# библиотека pandas не имеет внутреннего метода mad поэтому я написал его и сохранил в файле modules\n",
    "import modules\n",
    "\n",
    "range_budget = movies.production_budget.max() - movies.production_budget.min()\n",
    "print(range_budget)\n",
    "\n",
    "iqr_budget = movies.production_budget.quantile(0.75) - movies.production_budget.quantile(0.25)\n",
    "print(iqr_budget)\n",
    "\n",
    "var_budget = movies.production_budget.var()\n",
    "print(var_budget)\n",
    "\n",
    "sd_budget = movies.production_budget.std()\n",
    "print(sd_budget)\n",
    "\n",
    "mad_budget = modules.mad(movies.production_budget)\n",
    "print(mad_budget)\n"
   ]
  },
  {
   "cell_type": "markdown",
   "metadata": {},
   "source": [
    "## Визуализация числовых значений\n",
    "\n",
    "Расчет числовых показателей дает много знаний о данных но визальное представление облегчает ее восприятие\n",
    "\n",
    "Для визуализации данных используются библиотеки matplotlib и seaborn\n",
    "\n",
    "Существует множество видом графиков и способов отображения числовой информации вот одни из них:\n",
    "- boxplot() - коробочная диаграмма\n",
    "- histplot() - гистограмма\n",
    "\n",
    "Рассмотрим применение далее на примере"
   ]
  },
  {
   "cell_type": "code",
   "execution_count": 10,
   "metadata": {},
   "outputs": [
    {
     "data": {
      "image/png": "[encoded data removed]",
      "text/plain": [
       "<Figure size 640x480 with 1 Axes>"
      ]
     },
     "metadata": {},
     "output_type": "display_data"
    }
   ],
   "source": [
    "import matplotlib.pyplot as plt\n",
    "import seaborn as sns\n",
    "\n",
    "# для того чтобы отобразить коробочную диаграмму используется одноименный метод библиотеки seaborn\n",
    "sns.boxplot(x='production_budget', data=movies)\n",
    "plt.show()\n",
    "plt.close()"
   ]
  },
  {
   "cell_type": "code",
   "execution_count": 11,
   "metadata": {},
   "outputs": [
    {
     "data": {
      "image/png": "[encoded data removed]",
      "text/plain": [
       "<Figure size 640x480 with 1 Axes>"
      ]
     },
     "metadata": {},
     "output_type": "display_data"
    }
   ],
   "source": [
    "# гистограмма вызывается таким же образом при вызове специального метода\n",
    "sns.histplot(x='production_budget', data=movies)\n",
    "plt.show()\n",
    "plt.close()"
   ]
  },
  {
   "cell_type": "markdown",
   "metadata": {},
   "source": [
    "## Подсчет значений категорийных данных\n",
    "\n",
    "Так как данные такого типа в основном содержат информацию в строковом виде в таком случае подсчитать показатели как для числовых данных является невозможным.\n",
    "\n",
    "Но мы можем подсчитать кол-во значений в параменной и вычислить их долю от общего числа\n",
    "\n",
    "Достигается это путем использования метода **value_counts()**"
   ]
  },
  {
   "cell_type": "code",
   "execution_count": 13,
   "metadata": {},
   "outputs": [
    {
     "name": "stdout",
     "output_type": "stream",
     "text": [
      "genre\n",
      "Drama        1236\n",
      "Comedy        813\n",
      "Action        573\n",
      "Adventure     481\n",
      "Horror        298\n",
      "Name: count, dtype: int64\n"
     ]
    }
   ],
   "source": [
    "# давайте посчитаем сколько фильмов в каком жанре сняты используя описанный метод\n",
    "print(movies.genre.value_counts())"
   ]
  },
  {
   "cell_type": "markdown",
   "metadata": {},
   "source": [
    "Судя по полученному результату можно сделать вывод что большинство фильмов было снято в жанре Drama далее идут Comedy и Action"
   ]
  },
  {
   "cell_type": "code",
   "execution_count": 14,
   "metadata": {},
   "outputs": [
    {
     "name": "stdout",
     "output_type": "stream",
     "text": [
      "genre\n",
      "Drama        0.363423\n",
      "Comedy       0.239047\n",
      "Action       0.168480\n",
      "Adventure    0.141429\n",
      "Horror       0.087621\n",
      "Name: count, dtype: float64\n"
     ]
    }
   ],
   "source": [
    "# как и говорилось ранее мы можем рассчитать пропорции каждого значения категорийных данных сделать это просто\n",
    "# достаточно разделить каждое значение полученного набора на всю длину набора\n",
    "\n",
    "print(movies.genre.value_counts() / len(movies))"
   ]
  },
  {
   "cell_type": "markdown",
   "metadata": {},
   "source": [
    "Таким образом мы получили требуемые значение но есть и более удобный способ получить такие же значения использовав параметр normalize=True метода value_counts()"
   ]
  },
  {
   "cell_type": "code",
   "execution_count": 15,
   "metadata": {},
   "outputs": [
    {
     "name": "stdout",
     "output_type": "stream",
     "text": [
      "genre\n",
      "Drama        0.363423\n",
      "Comedy       0.239047\n",
      "Action       0.168480\n",
      "Adventure    0.141429\n",
      "Horror       0.087621\n",
      "Name: proportion, dtype: float64\n"
     ]
    }
   ],
   "source": [
    "print(movies.genre.value_counts(normalize=True))"
   ]
  },
  {
   "cell_type": "markdown",
   "metadata": {},
   "source": [
    "## Визуализация категорийных данных\n",
    "\n",
    "Для визуализации такого типа данных используют\n",
    "- график счета (countplot) - является методом библиотеки seaborn\n",
    "- пирог (pie) - является методом plot функции values_counts()"
   ]
  },
  {
   "cell_type": "code",
   "execution_count": 16,
   "metadata": {},
   "outputs": [
    {
     "data": {
      "image/png": "[encoded data removed]",
      "text/plain": [
       "<Figure size 640x480 with 1 Axes>"
      ]
     },
     "metadata": {},
     "output_type": "display_data"
    }
   ],
   "source": [
    "sns.countplot(x='genre', data=movies)\n",
    "plt.show()\n",
    "plt.close()"
   ]
  },
  {
   "cell_type": "code",
   "execution_count": 17,
   "metadata": {},
   "outputs": [
    {
     "data": {
      "image/png": "[encoded data removed]",
      "text/plain": [
       "<Figure size 640x480 with 1 Axes>"
      ]
     },
     "metadata": {},
     "output_type": "display_data"
    }
   ],
   "source": [
    "movies.genre.value_counts().plot.pie()\n",
    "plt.show()\n",
    "plt.close()"
   ]
  }
 ],
 "metadata": {
  "kernelspec": {
   "display_name": "Python 3",
   "language": "python",
   "name": "python3"
  },
  "language_info": {
   "codemirror_mode": {
    "name": "ipython",
    "version": 3
   },
   "file_extension": ".py",
   "mimetype": "text/x-python",
   "name": "python",
   "nbconvert_exporter": "python",
   "pygments_lexer": "ipython3",
   "version": "3.12.5"
  }
 },
 "nbformat": 4,
 "nbformat_minor": 2
}
