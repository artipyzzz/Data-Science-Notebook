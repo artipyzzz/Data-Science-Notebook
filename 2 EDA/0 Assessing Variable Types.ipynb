{
 "cells": [
  {
   "cell_type": "markdown",
   "metadata": {},
   "source": [
    "# Типы переменных\n",
    "\n",
    "Переменные деляться на два типа:\n",
    "- категорийные (Categorical)\n",
    "    - номинальные (Nominal) - описывающие\n",
    "    - последовательные (Ordinal) - определяющие место рейтинге\n",
    "    - бинарные (Binary) - переменные которые могут принимать только два значения True или False\n",
    "- числовые (Numerical)\n",
    "    - подсчитываемые (Descrete) - которые можно подсчитать и представляют собой целое число\n",
    "    - измеряемые (Continuous) - которые измеряют и имеют дробную часть а также единицу измерения"
   ]
  },
  {
   "cell_type": "code",
   "execution_count": 38,
   "metadata": {},
   "outputs": [
    {
     "name": "stdout",
     "output_type": "stream",
     "text": [
      "      type            title         country release_year rating  duration\n",
      "0    Movie  Norm of the ...   United States      missing     PG    91.071\n",
      "1    Movie  Jandino: Wha...  United Kingdom         2016      R    94.516\n",
      "2  TV Show  Transformers...   United States         2013      G     1.127\n",
      "3  TV Show  Transformers...   United States         2016  TV-14     1.687\n",
      "4    Movie  #realityhigh...   United States         2017  TV-14    99.248\n"
     ]
    }
   ],
   "source": [
    "# Для исследования данной темы был создан набор данных ./files/netflix_movies.csv\n",
    "# загрузим данные из файла\n",
    "import pandas as pd\n",
    "\n",
    "movies = pd.read_csv('./files/netflix_movies.csv', index_col=0)\n",
    "\n",
    "# отобразим первые пару строк набора\n",
    "print(movies.head())"
   ]
  },
  {
   "cell_type": "markdown",
   "metadata": {},
   "source": [
    "Внимательно посмотрев на данные можно сделать вывод что\n",
    "\n",
    "категорийными переменными являются колонки:\n",
    "- type - nominal\n",
    "- title - nominal\n",
    "- country - nominal\n",
    "- rating - ordinal\n",
    "\n",
    "числовыми переменными\n",
    "- release_year - descrete\n",
    "- duration - continuous"
   ]
  },
  {
   "cell_type": "markdown",
   "metadata": {},
   "source": [
    "## Изменение типов данных\n",
    "\n",
    "Изменение типа данных производится по средствам метода **.astype()** которому передается наименование типа данных в виде строки\n",
    "\n",
    "Для того чтобы посмотреть типы данных всех колонок испольуется переменная объекта класса DataFrame **.dtypes**"
   ]
  },
  {
   "cell_type": "code",
   "execution_count": 39,
   "metadata": {},
   "outputs": [
    {
     "name": "stdout",
     "output_type": "stream",
     "text": [
      "type             object\n",
      "title            object\n",
      "country          object\n",
      "release_year     object\n",
      "rating           object\n",
      "duration        float64\n",
      "dtype: object\n"
     ]
    }
   ],
   "source": [
    "# выведем список типов данный каждой коллонки наборы данных выше\n",
    "print(movies.dtypes)"
   ]
  },
  {
   "cell_type": "markdown",
   "metadata": {},
   "source": [
    "Не редко происходит так что категорийные данные записываются под типов object\n",
    "\n",
    "Другими словами переменная которая может принимать различные типы данных называют object\n",
    "\n",
    "В этом есть преимущество - туда можно записывать все что угодно\n",
    "\n",
    "Но и недостаток потому как не получится применить к такой переменной методы строк потому как мы не можем быть уверены что в столбце находятся только строковые данные и так и с другими типами"
   ]
  },
  {
   "cell_type": "code",
   "execution_count": 40,
   "metadata": {},
   "outputs": [],
   "source": [
    "# # Давайте попробуем изменить тип данных колонки release_years из object в integer\n",
    "# movies['release_year'] = movies.release_year.astype('int')\n",
    "# # не удивляйтесь ошибке как и говорил ранее колонка с типом данных object может хранить различные типы данных как и в этом случае\n",
    "# # колонка release_year содержит в себе по мимо чисел но и строку missing\n",
    "# print(movies.dtypes)"
   ]
  },
  {
   "cell_type": "code",
   "execution_count": 41,
   "metadata": {},
   "outputs": [
    {
     "name": "stdout",
     "output_type": "stream",
     "text": [
      "['missing' '2016' '2013' '2017' '2014' '2015' '2009' '2012' '2010' '2018'\n",
      " '2011' '2019' '2004' '2000' '1983' '1982' '2006' '2005' '2002' '1997'\n",
      " '2008' '2007' '2003' '1981' '1991' '1994' '1988' '1976' '1973' '1974'\n",
      " '1989' '1986' '1984' '1978' '1998' '1972' '1979' '1960' '1959' '2001'\n",
      " '1995' '1992' '1990' '1975' '1985' '1980' '1970' '1996' '1967' '1999'\n",
      " '1987' '1968' '1993' '2020' '1958' '1965' '1956' '1962' '1955' '1977'\n",
      " '1945' '1946' '1942' '1944' '1947' '1943' '1969' '1954' '1966' '1971'\n",
      " '1964' '1925' '1963']\n"
     ]
    }
   ],
   "source": [
    "# давайте получим все уникальные значения которые находятся в данной колонке\n",
    "print(movies.release_year.unique())\n",
    "# из результата видно что все данные являются строками но почти все являются строкой из целого числа когда как одно значение все же является строкой\n",
    "# заменим мне значения missing на 0"
   ]
  },
  {
   "cell_type": "code",
   "execution_count": 42,
   "metadata": {},
   "outputs": [
    {
     "name": "stdout",
     "output_type": "stream",
     "text": [
      "[nan '2016' '2013' '2017' '2014' '2015' '2009' '2012' '2010' '2018' '2011'\n",
      " '2019' '2004' '2000' '1983' '1982' '2006' '2005' '2002' '1997' '2008'\n",
      " '2007' '2003' '1981' '1991' '1994' '1988' '1976' '1973' '1974' '1989'\n",
      " '1986' '1984' '1978' '1998' '1972' '1979' '1960' '1959' '2001' '1995'\n",
      " '1992' '1990' '1975' '1985' '1980' '1970' '1996' '1967' '1999' '1987'\n",
      " '1968' '1993' '2020' '1958' '1965' '1956' '1962' '1955' '1977' '1945'\n",
      " '1946' '1942' '1944' '1947' '1943' '1969' '1954' '1966' '1971' '1964'\n",
      " '1925' '1963']\n"
     ]
    }
   ],
   "source": [
    "import numpy as np\n",
    "\n",
    "# обычно подобные данные заменяют на nan при формировании набора данных\n",
    "movies['release_year'] = movies.release_year.apply(lambda x: np.nan if x == 'missing' else x)\n",
    "\n",
    "print(movies.release_year.unique())"
   ]
  },
  {
   "cell_type": "code",
   "execution_count": 43,
   "metadata": {},
   "outputs": [
    {
     "name": "stdout",
     "output_type": "stream",
     "text": [
      "[0 '2016' '2013' '2017' '2014' '2015' '2009' '2012' '2010' '2018' '2011'\n",
      " '2019' '2004' '2000' '1983' '1982' '2006' '2005' '2002' '1997' '2008'\n",
      " '2007' '2003' '1981' '1991' '1994' '1988' '1976' '1973' '1974' '1989'\n",
      " '1986' '1984' '1978' '1998' '1972' '1979' '1960' '1959' '2001' '1995'\n",
      " '1992' '1990' '1975' '1985' '1980' '1970' '1996' '1967' '1999' '1987'\n",
      " '1968' '1993' '2020' '1958' '1965' '1956' '1962' '1955' '1977' '1945'\n",
      " '1946' '1942' '1944' '1947' '1943' '1969' '1954' '1966' '1971' '1964'\n",
      " '1925' '1963']\n"
     ]
    },
    {
     "name": "stderr",
     "output_type": "stream",
     "text": [
      "C:\\Users\\valeriyk1402\\AppData\\Local\\Temp\\ipykernel_15016\\819947072.py:2: FutureWarning: A value is trying to be set on a copy of a DataFrame or Series through chained assignment using an inplace method.\n",
      "The behavior will change in pandas 3.0. This inplace method will never work because the intermediate object on which we are setting values always behaves as a copy.\n",
      "\n",
      "For example, when doing 'df[col].method(value, inplace=True)', try using 'df.method({col: value}, inplace=True)' or df[col] = df[col].method(value) instead, to perform the operation inplace on the original object.\n",
      "\n",
      "\n",
      "  movies['release_year'].fillna(0, inplace=True)\n"
     ]
    }
   ],
   "source": [
    "# а для работы данными типа nan используется специальный метод pandas который позволяет заполнять такие данные fillna()\n",
    "movies['release_year'].fillna(0, inplace=True)\n",
    "\n",
    "print(movies['release_year'].unique())"
   ]
  },
  {
   "cell_type": "code",
   "execution_count": 44,
   "metadata": {},
   "outputs": [
    {
     "name": "stdout",
     "output_type": "stream",
     "text": [
      "type             object\n",
      "title            object\n",
      "country          object\n",
      "release_year      int64\n",
      "rating           object\n",
      "duration        float64\n",
      "dtype: object\n"
     ]
    }
   ],
   "source": [
    "# попробуем провести преобразовани снова\n",
    "movies['release_year'] = movies['release_year'].astype('int')\n",
    "\n",
    "print(movies.dtypes)"
   ]
  },
  {
   "cell_type": "markdown",
   "metadata": {},
   "source": [
    "Из этого можно сделать вывод что всегда нужно внимательно просматривать содержимое переменных"
   ]
  },
  {
   "cell_type": "markdown",
   "metadata": {},
   "source": [
    "## Category Data Type\n",
    "\n",
    "Тип данных категории\n",
    "\n",
    "Это специальный тип данных используемый для определения порядковых категорийных данных\n",
    "\n",
    "И применяется при использовании метода pandas Categorical\n",
    "\n",
    "Структура\n",
    "\n",
    "`pd.Categorical(df[column name], [list of ordered values in column], ordered = True)`"
   ]
  },
  {
   "cell_type": "code",
   "execution_count": 45,
   "metadata": {},
   "outputs": [
    {
     "name": "stdout",
     "output_type": "stream",
     "text": [
      "['PG' 'R' 'G' 'TV-14' 'PG-13' nan 'UNRATED' 'NOT RATED']\n",
      "['PG', 'R', 'G', NaN, 'PG-13']\n",
      "Categories (5, object): ['NR' < 'G' < 'PG' < 'PG-13' < 'R']\n"
     ]
    }
   ],
   "source": [
    "# давайте создадим такой тип переменной для колонки rating\n",
    "# выведем список уникальных значений колонки\n",
    "\n",
    "print(movies.rating.unique())\n",
    "\n",
    "movies['rating'] = pd.Categorical(movies['rating'], ['NR', 'G', 'PG', 'PG-13', 'R'], ordered=True)\n",
    "\n",
    "# выведем уникальные значения колонки еще раз\n",
    "print(movies.rating.unique())"
   ]
  },
  {
   "cell_type": "markdown",
   "metadata": {},
   "source": [
    "Теперь pandas сам понимает на каком месте какое значение стоит R самый высокий рейтинг и NR самый низкий"
   ]
  },
  {
   "cell_type": "markdown",
   "metadata": {},
   "source": [
    "## One-Hot Encoding\n",
    "\n",
    "Ранее мы рассматривали как корректно определить и обозначить ordinal categorical переменные\n",
    "\n",
    "Но не всегда в этом есть необходимость\n",
    "\n",
    "Иногда позиция в порядке во многом зависит от самого человека или позиция не важна вовсе\n",
    "\n",
    "Но чтобы проще было посчитать кол-во или получить какую либо информацию иногда следует ее преобразовать\n",
    "\n",
    "Преобразование в OHE (One-Hot Encoding) применяется по средствам метода **pd.get_dummies()**\n",
    "\n",
    "Который содержит параметры\n",
    "- data - dataframe\n",
    "- columns - список наименований колонок"
   ]
  },
  {
   "cell_type": "code",
   "execution_count": 49,
   "metadata": {},
   "outputs": [
    {
     "name": "stdout",
     "output_type": "stream",
     "text": [
      "      type            title  release_year rating  duration  country_Argentina  \\\n",
      "0    Movie  Norm of the ...             0     PG    91.071              False   \n",
      "1    Movie  Jandino: Wha...          2016      R    94.516              False   \n",
      "2  TV Show  Transformers...          2013      G     1.127              False   \n",
      "3  TV Show  Transformers...          2016    NaN     1.687              False   \n",
      "4    Movie  #realityhigh...          2017    NaN    99.248              False   \n",
      "\n",
      "   country_Australia  country_Austria  country_Bangladesh  country_Belgium  \\\n",
      "0              False            False               False            False   \n",
      "1              False            False               False            False   \n",
      "2              False            False               False            False   \n",
      "3              False            False               False            False   \n",
      "4              False            False               False            False   \n",
      "\n",
      "   ...  country_Thailand  country_Turkey  country_Ukraine  \\\n",
      "0  ...             False           False            False   \n",
      "1  ...             False           False            False   \n",
      "2  ...             False           False            False   \n",
      "3  ...             False           False            False   \n",
      "4  ...             False           False            False   \n",
      "\n",
      "   country_United Arab Emirates  country_United Kingdom  \\\n",
      "0                         False                   False   \n",
      "1                         False                    True   \n",
      "2                         False                   False   \n",
      "3                         False                   False   \n",
      "4                         False                   False   \n",
      "\n",
      "   country_United States  country_Uruguay  country_Venezuela  country_Vietnam  \\\n",
      "0                   True            False              False            False   \n",
      "1                  False            False              False            False   \n",
      "2                   True            False              False            False   \n",
      "3                   True            False              False            False   \n",
      "4                   True            False              False            False   \n",
      "\n",
      "   country_West Germany  \n",
      "0                 False  \n",
      "1                 False  \n",
      "2                 False  \n",
      "3                 False  \n",
      "4                 False  \n",
      "\n",
      "[5 rows x 77 columns]\n"
     ]
    }
   ],
   "source": [
    "# давайте посмотрим как это выглядит на практике\n",
    "# применим метод на коллонке country в котором содержится информация о стране\n",
    "\n",
    "movies_get_dummies = pd.get_dummies(data=movies, columns=['country'])\n",
    "\n",
    "print(movies_get_dummies.head())"
   ]
  },
  {
   "cell_type": "markdown",
   "metadata": {},
   "source": [
    "Судя по полученному результату каждое значение колонки Country стало колонкой в которой содержится числовое значение что в дальнейшем позволит посчитать или агрегировать данные по ним\n",
    "\n",
    "С методом необоходимо быть очень осторожным потому как в случае если значений в колонке будет слишком много то dataframe \"расшириться\" слишком сильно"
   ]
  }
 ],
 "metadata": {
  "kernelspec": {
   "display_name": "Python 3",
   "language": "python",
   "name": "python3"
  },
  "language_info": {
   "codemirror_mode": {
    "name": "ipython",
    "version": 3
   },
   "file_extension": ".py",
   "mimetype": "text/x-python",
   "name": "python",
   "nbconvert_exporter": "python",
   "pygments_lexer": "ipython3",
   "version": "3.12.5"
  }
 },
 "nbformat": 4,
 "nbformat_minor": 2
}
