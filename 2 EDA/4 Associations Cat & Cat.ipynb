{
 "cells": [
  {
   "cell_type": "markdown",
   "metadata": {},
   "source": [
    "# Взаимоотношение двух категорийных переменных\n",
    "\n",
    "Для изучения данного вопроса был создан набор данных ./files/npi_sample.csv"
   ]
  },
  {
   "cell_type": "code",
   "execution_count": 1,
   "metadata": {},
   "outputs": [
    {
     "name": "stdout",
     "output_type": "stream",
     "text": [
      "  influence blend_in special leader authority\n",
      "0        no      yes     yes    yes       yes\n",
      "1        no      yes      no     no        no\n",
      "2       yes       no     yes    yes       yes\n",
      "3       yes       no      no    yes       yes\n",
      "4       yes      yes      no    yes        no\n"
     ]
    }
   ],
   "source": [
    "import pandas as pd\n",
    "\n",
    "npi = pd.read_csv('./files/npi_sample.csv')\n",
    "\n",
    "print(npi.head())"
   ]
  },
  {
   "cell_type": "markdown",
   "metadata": {},
   "source": [
    "Данный набор содерижт колонки\n",
    "- influence\n",
    "    - yes - у меня есть врожденный талан влиять на людей\n",
    "    - no - я не очень хорош во влиянии на людей\n",
    "- blend_in\n",
    "    - yes - я предпочитая сливаться с толпой\n",
    "    - no - я люблю быть центрои внимания\n",
    "- special\n",
    "    - yes - я думаю что я особенный\n",
    "    - no - я не считая себя лучше или хуже остальных\n",
    "- leader\n",
    "    - yes - я вижу себя как хорошего лидера\n",
    "    - no - я не уверен что я был бы хорошим лидером\n",
    "- authority\n",
    "    - yes - я люблю иметь авторитет над людьми\n",
    "    - no - я не против исполнять приказы\n",
    "\n",
    "Для изучения взаимосвязи между двумя категорийными переменными используется **Таблица непредвиденных обстоятельств** (Conringency Tables)\n",
    "\n",
    "Данную таблица тажке еще называют кросс таблицей, и она очень полезная для выведения сводной информации о двух переменных в одом месте. Далее покажем на практическом примере.\n",
    "\n",
    "Для получения данной таблицы используется метод pandas **crosstab()** которая принимает две переменных типа *series* и возвращает таблицу"
   ]
  },
  {
   "cell_type": "code",
   "execution_count": 2,
   "metadata": {},
   "outputs": [
    {
     "name": "stdout",
     "output_type": "stream",
     "text": [
      "authority    no   yes\n",
      "special              \n",
      "no         4069  1905\n",
      "yes        2229  2894\n"
     ]
    }
   ],
   "source": [
    "# предположим мы хотим понять есть ли взаимосвязь между данными колонок special и authority\n",
    "# выведем кросс таблицу и сохраним в переменную special_authority_freq\n",
    "\n",
    "special_authority_freq = pd.crosstab(npi.special, npi.authority)\n",
    "\n",
    "print(special_authority_freq)"
   ]
  },
  {
   "cell_type": "markdown",
   "metadata": {},
   "source": [
    "Из полученного результата можно сделать вывод что люди которые не считают что \"Имеют авторитет над другими\" также не считают себя \"Особенными\"\n",
    "\n",
    "И наоборот большинство кто ответил что \"Считает себя авторитетом\" также считает себя \"Особенным\""
   ]
  },
  {
   "cell_type": "markdown",
   "metadata": {},
   "source": [
    "Числовые показатели это хорошо но не всегда понятно что они обозначают\n",
    "\n",
    "Лучшее представление будет в случае использования пропорций\n",
    "\n",
    "Для того чтобы получить данный показатель достаточно поделить каждый из полученных результатов на общее кол-во данных в наборе"
   ]
  },
  {
   "cell_type": "code",
   "execution_count": 3,
   "metadata": {},
   "outputs": [
    {
     "name": "stdout",
     "output_type": "stream",
     "text": [
      "authority        no       yes\n",
      "special                      \n",
      "no         0.366676  0.171668\n",
      "yes        0.200865  0.260791\n"
     ]
    }
   ],
   "source": [
    "# Давайте рассчитаем пропорции и сохраим данные в переменную special_authority_prop\n",
    "\n",
    "special_authority_prop = special_authority_freq / len(npi)\n",
    "\n",
    "print(special_authority_prop)"
   ]
  },
  {
   "cell_type": "markdown",
   "metadata": {},
   "source": [
    "## Маржинальная пропорция\n",
    "\n",
    "Следующим этапом исследования взаимоотношений категорийных переменных является Маржинальная пропорция\n",
    "\n",
    "Маржинальная пропорция состояит в том чтобы посчитать сумму каждого значения для каждой переменной. Подробнее на примере"
   ]
  },
  {
   "cell_type": "code",
   "execution_count": 4,
   "metadata": {},
   "outputs": [
    {
     "name": "stdout",
     "output_type": "stream",
     "text": [
      "authority\n",
      "no     0.567541\n",
      "yes    0.432459\n",
      "dtype: float64\n"
     ]
    }
   ],
   "source": [
    "# рассчитаем маржиналюную пропорцию для нашего случая и запишем значение в переменную authority_marginals\n",
    "\n",
    "authority_marginals = special_authority_prop.sum(axis=0)\n",
    "\n",
    "print(authority_marginals)"
   ]
  },
  {
   "cell_type": "code",
   "execution_count": 5,
   "metadata": {},
   "outputs": [
    {
     "name": "stdout",
     "output_type": "stream",
     "text": [
      "special\n",
      "no     0.538344\n",
      "yes    0.461656\n",
      "dtype: float64\n"
     ]
    }
   ],
   "source": [
    "# рассчитаем тот же показатель для special и запишем в переменную special_marginals\n",
    "\n",
    "special_marginals = special_authority_prop.sum(axis=1)\n",
    "\n",
    "print(special_marginals)"
   ]
  },
  {
   "cell_type": "markdown",
   "metadata": {},
   "source": [
    "По результатам можно сказать что большинство людей не считают что \"Имеют авторитет\" и также большинство считает что не являются \"Особенными\""
   ]
  },
  {
   "cell_type": "markdown",
   "metadata": {},
   "source": [
    "## Ожидаемая кроссовая таблица в пропорциях\n",
    "\n",
    "Ожидаемая кроссовая таблица это результат перемножения значений маржинальный показателей на значения кроссовой таблицы значений.\n",
    "\n",
    "Но не требуется производить данное действие вручную достаточно воспользоваться методом библиотеки **scipy.stats -> chi2_conringency**\n",
    "\n",
    "Данный метод принимает одну переменную (кроссовую таблицу) и возвращает 4 значения\n",
    "- chi2\n",
    "- pval\n",
    "- dof\n",
    "- expeceted\n",
    "\n",
    "В данном случае нам интересно только значение **expeceted**"
   ]
  },
  {
   "cell_type": "code",
   "execution_count": 10,
   "metadata": {},
   "outputs": [
    {
     "name": "stdout",
     "output_type": "stream",
     "text": [
      "authority    no   yes\n",
      "special              \n",
      "no         4069  1905\n",
      "yes        2229  2894\n",
      "[[3390.48860052 2583.51139948]\n",
      " [2907.51139948 2215.48860052]]\n"
     ]
    }
   ],
   "source": [
    "# Получим таблицу ожидаемых значений\n",
    "from scipy.stats import chi2_contingency\n",
    "\n",
    "chi2, pval, dof, expected = chi2_contingency(special_authority_freq)\n",
    "\n",
    "print(special_authority_freq)\n",
    "print(expected)"
   ]
  },
  {
   "cell_type": "markdown",
   "metadata": {},
   "source": [
    "Чем нам может помочь таблица ожидаемых значений?\n",
    "\n",
    "Чем больше разница между значениями ожидаемых и фактических значений кроссовых таблиц, тем с большей уверенностью можно сказать что переменные взаимосвязаны."
   ]
  },
  {
   "cell_type": "markdown",
   "metadata": {},
   "source": [
    "## Статистика chi2 (Chi Square Statistic)\n",
    "\n",
    "Данный показатель используется для расчета разности между двумя таблицами. Для расчета данного показателя мы просто можем просуммировать квадрат разности значений между исследуемыми и ожидаемыми значениями поделенное на ожидаемое значение.\n",
    "\n",
    "Также данное значение мы получаем из метода chi2_contingency библиотеки scipy.stats"
   ]
  },
  {
   "cell_type": "code",
   "execution_count": 12,
   "metadata": {},
   "outputs": [
    {
     "name": "stdout",
     "output_type": "stream",
     "text": [
      "679.1219526170606\n"
     ]
    }
   ],
   "source": [
    "print(chi2)"
   ]
  }
 ],
 "metadata": {
  "kernelspec": {
   "display_name": "Python 3",
   "language": "python",
   "name": "python3"
  },
  "language_info": {
   "codemirror_mode": {
    "name": "ipython",
    "version": 3
   },
   "file_extension": ".py",
   "mimetype": "text/x-python",
   "name": "python",
   "nbconvert_exporter": "python",
   "pygments_lexer": "ipython3",
   "version": "3.12.5"
  }
 },
 "nbformat": 4,
 "nbformat_minor": 2
}
