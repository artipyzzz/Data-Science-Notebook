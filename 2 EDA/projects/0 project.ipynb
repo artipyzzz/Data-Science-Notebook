{
 "cells": [
  {
   "cell_type": "markdown",
   "metadata": {},
   "source": [
    "# Описание\n",
    "\n",
    "Выполним небольшой проект на проверку усвоенных знаний\n",
    "\n",
    "Набор данных: ../files/census_data.csv"
   ]
  },
  {
   "cell_type": "code",
   "execution_count": 19,
   "metadata": {},
   "outputs": [
    {
     "name": "stdout",
     "output_type": "stream",
     "text": [
      "  first_name  last_name birth_year  voted  num_children  income_year  \\\n",
      "0     Denise      Ratke       2005  False             0     92129.41   \n",
      "1       Hali  Cummerata       1987  False             0     75649.17   \n",
      "2    Salomon        Orn       1992   True             2    166313.45   \n",
      "3     Sarina   Schiller       1965  False             2     71704.81   \n",
      "4       Gust  Abernathy       1945  False             2    143316.08   \n",
      "\n",
      "       higher_tax marital_status  \n",
      "0        disagree         single  \n",
      "1         neutral       divorced  \n",
      "2           agree         single  \n",
      "3  strongly agree        married  \n",
      "4           agree        married  \n"
     ]
    }
   ],
   "source": [
    "import pandas as pd\n",
    "\n",
    "census = pd.read_csv('../files/census_data.csv', index_col=0)\n",
    "\n",
    "print(census.head())"
   ]
  },
  {
   "cell_type": "code",
   "execution_count": 20,
   "metadata": {},
   "outputs": [
    {
     "name": "stdout",
     "output_type": "stream",
     "text": [
      "first_name         object\n",
      "last_name          object\n",
      "birth_year         object\n",
      "voted                bool\n",
      "num_children        int64\n",
      "income_year       float64\n",
      "higher_tax         object\n",
      "marital_status     object\n",
      "dtype: object\n"
     ]
    }
   ],
   "source": [
    "# выведите типы данных набора\n",
    "print(census.dtypes)"
   ]
  },
  {
   "cell_type": "code",
   "execution_count": 21,
   "metadata": {},
   "outputs": [
    {
     "name": "stdout",
     "output_type": "stream",
     "text": [
      "['2005' '1987' '1992' '1965' '1945' '1951' '1963' '1949' '1950' '1971'\n",
      " '2007' '1944' '1995' '1973' '1946' '1954' '1994' '1989' '1947' '1993'\n",
      " '1976' '1984' 'missing' '1966' '1941' '2000' '1953' '1956' '1960' '2001'\n",
      " '1980' '1955' '1985' '1996' '1968' '1979' '2006' '1962' '1981' '1959'\n",
      " '1977' '1978' '1983' '1957' '1961' '1982' '2002' '1998' '1999' '1952'\n",
      " '1940' '1986' '1958']\n"
     ]
    }
   ],
   "source": [
    "# Получите среднее значение даты рождения\n",
    "# Учтите что тип данных колонки является object в таком случае значит в переменной хранятся не только числа но и другие типы данных\n",
    "\n",
    "# выведем уникальные значения колонки birth_year\n",
    "print(census.birth_year.unique())"
   ]
  },
  {
   "cell_type": "code",
   "execution_count": 22,
   "metadata": {},
   "outputs": [
    {
     "name": "stdout",
     "output_type": "stream",
     "text": [
      "['2005' '1987' '1992' '1965' '1945' '1951' '1963' '1949' '1950' '1971'\n",
      " '2007' '1944' '1995' '1973' '1946' '1954' '1994' '1989' '1947' '1993'\n",
      " '1976' '1984' 0 '1966' '1941' '2000' '1953' '1956' '1960' '2001' '1980'\n",
      " '1955' '1985' '1996' '1968' '1979' '2006' '1962' '1981' '1959' '1977'\n",
      " '1978' '1983' '1957' '1961' '1982' '2002' '1998' '1999' '1952' '1940'\n",
      " '1986' '1958']\n"
     ]
    }
   ],
   "source": [
    "# По результату можно сказать что требуется заменить часть данных в колонке\n",
    "# Воспользуемся методом replace\n",
    "\n",
    "census['birth_year'] = census.birth_year.replace(['missing'], 0)\n",
    "\n",
    "# еще раз выведем уникальные значения колонки\n",
    "print(census.birth_year.unique())"
   ]
  },
  {
   "cell_type": "code",
   "execution_count": 23,
   "metadata": {},
   "outputs": [
    {
     "name": "stdout",
     "output_type": "stream",
     "text": [
      "1953.73\n"
     ]
    }
   ],
   "source": [
    "# теперь изменим тип данных колонки\n",
    "census['birth_year'] = census.birth_year.astype('int')\n",
    "\n",
    "# и выведем на экран среднее значение года рождения\n",
    "print(census.birth_year.mean())"
   ]
  },
  {
   "cell_type": "code",
   "execution_count": 24,
   "metadata": {},
   "outputs": [
    {
     "name": "stdout",
     "output_type": "stream",
     "text": [
      "['disagree', 'neutral', 'agree', 'strongly agree', 'strongly disagree']\n",
      "Categories (5, object): ['strongly disagree' < 'disagree' < 'neutral' < 'agree' < 'strongly agree']\n"
     ]
    }
   ],
   "source": [
    "# Создайте тип данных categorical для колонки higher_tax\n",
    "# strongly disagree < disagree < neutral < agree < strongly agree\n",
    "\n",
    "census['higher_tax'] = pd.Categorical(census['higher_tax'], ['strongly disagree', 'disagree', 'neutral', 'agree', 'strongly agree'], ordered=True)\n",
    "\n",
    "# выведем результат на экран\n",
    "print(census.higher_tax.unique())"
   ]
  },
  {
   "cell_type": "code",
   "execution_count": 25,
   "metadata": {},
   "outputs": [
    {
     "name": "stdout",
     "output_type": "stream",
     "text": [
      "  first_name  last_name  birth_year  voted  num_children  income_year  \\\n",
      "0     Denise      Ratke        2005  False             0     92129.41   \n",
      "1       Hali  Cummerata        1987  False             0     75649.17   \n",
      "2    Salomon        Orn        1992   True             2    166313.45   \n",
      "3     Sarina   Schiller        1965  False             2     71704.81   \n",
      "4       Gust  Abernathy        1945  False             2    143316.08   \n",
      "\n",
      "   higher_tax marital_status  \n",
      "0           1         single  \n",
      "1           2       divorced  \n",
      "2           3         single  \n",
      "3           4        married  \n",
      "4           3        married  \n"
     ]
    }
   ],
   "source": [
    "# Отобразите медианное значение данных колонки higher_tax\n",
    "# используйте метод cat.codes для обозначения важности числом\n",
    "census['higher_tax'] = census['higher_tax'].cat.codes\n",
    "\n",
    "print(census.head())"
   ]
  },
  {
   "cell_type": "code",
   "execution_count": 26,
   "metadata": {},
   "outputs": [
    {
     "name": "stdout",
     "output_type": "stream",
     "text": [
      "2.0\n"
     ]
    }
   ],
   "source": [
    "# выведем медианное значение колонки\n",
    "print(census.higher_tax.median())"
   ]
  },
  {
   "cell_type": "code",
   "execution_count": 28,
   "metadata": {},
   "outputs": [
    {
     "name": "stdout",
     "output_type": "stream",
     "text": [
      "  first_name  last_name  birth_year  voted  num_children  income_year  \\\n",
      "0     Denise      Ratke        2005  False             0     92129.41   \n",
      "1       Hali  Cummerata        1987  False             0     75649.17   \n",
      "2    Salomon        Orn        1992   True             2    166313.45   \n",
      "3     Sarina   Schiller        1965  False             2     71704.81   \n",
      "4       Gust  Abernathy        1945  False             2    143316.08   \n",
      "\n",
      "   higher_tax  marital_status_divorced  marital_status_married  \\\n",
      "0           1                    False                   False   \n",
      "1           2                     True                   False   \n",
      "2           3                    False                   False   \n",
      "3           4                    False                    True   \n",
      "4           3                    False                    True   \n",
      "\n",
      "   marital_status_single  marital_status_widowed  \n",
      "0                   True                   False  \n",
      "1                  False                   False  \n",
      "2                   True                   False  \n",
      "3                  False                   False  \n",
      "4                  False                   False  \n"
     ]
    }
   ],
   "source": [
    "# Примените метод OHE (One-Hot Encoding) для колонки marital_status\n",
    "# и выведите первые пару строк нового набора\n",
    "\n",
    "census = pd.get_dummies(data=census, columns=['marital_status'])\n",
    "\n",
    "print(census.head())"
   ]
  }
 ],
 "metadata": {
  "kernelspec": {
   "display_name": "Python 3",
   "language": "python",
   "name": "python3"
  },
  "language_info": {
   "codemirror_mode": {
    "name": "ipython",
    "version": 3
   },
   "file_extension": ".py",
   "mimetype": "text/x-python",
   "name": "python",
   "nbconvert_exporter": "python",
   "pygments_lexer": "ipython3",
   "version": "3.12.5"
  }
 },
 "nbformat": 4,
 "nbformat_minor": 2
}
