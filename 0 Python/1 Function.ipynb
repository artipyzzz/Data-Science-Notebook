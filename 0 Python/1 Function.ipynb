{
 "cells": [
  {
   "cell_type": "markdown",
   "metadata": {},
   "source": [
    "# Function\n",
    "\n",
    "Функции представляет собой блок кода программы которая может быть вызвана в любой части программы сколько угодно раз"
   ]
  },
  {
   "cell_type": "code",
   "execution_count": 1,
   "metadata": {},
   "outputs": [],
   "source": [
    "# Для того чтобы определить функцию в программе используется специальные оператор def\n",
    "def function_name(var1, var2):\n",
    "    print(var1, var2)"
   ]
  },
  {
   "cell_type": "code",
   "execution_count": 2,
   "metadata": {},
   "outputs": [
    {
     "name": "stdout",
     "output_type": "stream",
     "text": [
      "1 2\n"
     ]
    }
   ],
   "source": [
    "# Вызов функции производится по имени функции\n",
    "function_name(1, 2)"
   ]
  },
  {
   "cell_type": "markdown",
   "metadata": {},
   "source": [
    "## Глобальные и локальные переменные\n",
    "\n",
    "Глобальными переменными являются все переменные которые были обозначены за пределами функции\n",
    "\n",
    "Локальными переменными являются все переменные обозначенные в теле функции"
   ]
  },
  {
   "cell_type": "code",
   "execution_count": 8,
   "metadata": {},
   "outputs": [
    {
     "name": "stdout",
     "output_type": "stream",
     "text": [
      "x: 2\n",
      "y: 3\n"
     ]
    }
   ],
   "source": [
    "# Глобалья переменная\n",
    "x = 1\n",
    "\n",
    "def function_name_2():\n",
    "    # Локальные переменные\n",
    "    x = 2\n",
    "    y = 3\n",
    "    print('x:', x)\n",
    "    print('y:', y)\n",
    "\n",
    "function_name_2()\n",
    "# судя по результату внутри функции в приоритете используется локальная переменная"
   ]
  },
  {
   "cell_type": "code",
   "execution_count": 10,
   "metadata": {},
   "outputs": [
    {
     "name": "stdout",
     "output_type": "stream",
     "text": [
      "x: 1\n",
      "y: 3\n"
     ]
    }
   ],
   "source": [
    "# Но в случае если мы не будем указывать локальную переменную внутри функции то будет взята глобальная переменная\n",
    "# Глобалья переменная\n",
    "x = 1\n",
    "\n",
    "def function_name_2():\n",
    "    # Локальные переменные\n",
    "    y = 3\n",
    "    print('x:', x)\n",
    "    print('y:', y)\n",
    "\n",
    "function_name_2()"
   ]
  },
  {
   "cell_type": "markdown",
   "metadata": {},
   "source": [
    "# Переменные и аругменты\n",
    "\n",
    "Функция может содержать аргументы и параметры"
   ]
  },
  {
   "cell_type": "code",
   "execution_count": 11,
   "metadata": {},
   "outputs": [],
   "source": [
    "def my_func(name='John', greed='Hello'):\n",
    "    print(f'{greed} {name}')"
   ]
  },
  {
   "cell_type": "code",
   "execution_count": 14,
   "metadata": {},
   "outputs": [
    {
     "name": "stdout",
     "output_type": "stream",
     "text": [
      "Hello John\n",
      "Hello Well\n",
      "HiHo John\n",
      "HiHo Well\n",
      "Hola Jim\n"
     ]
    }
   ],
   "source": [
    "# Так как мы при обозначении функции присвоили переменным значения по умолчанию\n",
    "# В таком случае функцию можно вызывать без указания данных значений\n",
    "my_func()\n",
    "\n",
    "# Мы можем изменить один из параметров или оба параметра сразу\n",
    "my_func(name='Well')\n",
    "my_func(greed='HiHo')\n",
    "my_func(name='Well', greed='HiHo')\n",
    "# Переменные функции могут быть позиционными и именными в примерах выше мы показали именной вызов параметров\n",
    "# Но мы можем указать значения параметров функции указав сразу значения\n",
    "my_func('Jim','Hola')\n",
    "# Так как первым аргументов указана переменная name то следовательно первое значение переданное функции будет значением локальной переменной name\n",
    "# А вторым соответсвенно greed"
   ]
  },
  {
   "cell_type": "markdown",
   "metadata": {},
   "source": [
    "*Важно именной вызов переменных должен производится в самую крайнюю очередь, первыми идут позиционные*"
   ]
  },
  {
   "cell_type": "markdown",
   "metadata": {},
   "source": [
    "# return\n",
    "\n",
    "Для того чтобы можно было взаимодействовать со значеними которые были полученны в результате работы функции используется оператор **return**\n",
    "\n",
    "Функция может возвращать как одно значение так и кортеж значений"
   ]
  },
  {
   "cell_type": "code",
   "execution_count": 19,
   "metadata": {},
   "outputs": [
    {
     "data": {
      "text/plain": [
       "(10, 0)"
      ]
     },
     "execution_count": 19,
     "metadata": {},
     "output_type": "execute_result"
    }
   ],
   "source": [
    "def my_func_2():\n",
    "    a = 1\n",
    "    b = 0\n",
    "    a *= 10\n",
    "    return a, b\n",
    "\n",
    "f = my_func_2()\n",
    "f"
   ]
  },
  {
   "cell_type": "code",
   "execution_count": 18,
   "metadata": {},
   "outputs": [
    {
     "data": {
      "text/plain": [
       "10"
      ]
     },
     "execution_count": 18,
     "metadata": {},
     "output_type": "execute_result"
    }
   ],
   "source": [
    "def my_func_3():\n",
    "    a = 1\n",
    "    b = 0\n",
    "    a *= 10\n",
    "    return a\n",
    "\n",
    "f = my_func_3()\n",
    "f"
   ]
  },
  {
   "cell_type": "code",
   "execution_count": null,
   "metadata": {},
   "outputs": [],
   "source": []
  }
 ],
 "metadata": {
  "kernelspec": {
   "display_name": "Python 3",
   "language": "python",
   "name": "python3"
  },
  "language_info": {
   "codemirror_mode": {
    "name": "ipython",
    "version": 3
   },
   "file_extension": ".py",
   "mimetype": "text/x-python",
   "name": "python",
   "nbconvert_exporter": "python",
   "pygments_lexer": "ipython3",
   "version": "3.12.5"
  }
 },
 "nbformat": 4,
 "nbformat_minor": 2
}
