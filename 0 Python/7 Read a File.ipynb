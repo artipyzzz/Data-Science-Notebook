{
 "cells": [
  {
   "cell_type": "markdown",
   "metadata": {},
   "source": [
    "# Read a File\n",
    "\n",
    "Для чтения файлов используется специальная конструкция которая позволяет в определенном пространстве работать с файлом (читать данные, записывать данные или добавлять их) а после автоматически его закрывать. Данная конструкция выглядит как `with open() as f: actions`\n",
    "\n",
    "Контекстный менеджер"
   ]
  },
  {
   "cell_type": "code",
   "execution_count": 5,
   "metadata": {},
   "outputs": [
    {
     "name": "stdout",
     "output_type": "stream",
     "text": [
      "['hello there!\\n', 'second row\\n', 'third row']\n"
     ]
    }
   ],
   "source": [
    "# Для проверки работы конструкции был создан файл по пути files/welcome.txt давайте прочитаем данные из него\n",
    "with open('./files/welcome.txt') as f:\n",
    "    print(f.readlines())"
   ]
  },
  {
   "cell_type": "markdown",
   "metadata": {},
   "source": [
    "## Методы чтения файлов\n",
    "\n",
    "- readlines() - возвращает список строк\n",
    "- readline() - возвращает одну строку\n",
    "- read() - возвращает все данные как текст со специальными командами экранирования"
   ]
  },
  {
   "cell_type": "code",
   "execution_count": 8,
   "metadata": {},
   "outputs": [
    {
     "name": "stdout",
     "output_type": "stream",
     "text": [
      "['hello there!\\n', 'second row\\n', 'third row'] <class 'list'>\n",
      "hello there!\n",
      "second row\n",
      " <class 'str'>\n",
      "hello there!\n",
      "second row\n",
      "third row <class 'str'>\n"
     ]
    }
   ],
   "source": [
    "# readlines()\n",
    "with open('./files/welcome.txt') as f:\n",
    "    info = f.readlines()\n",
    "\n",
    "print(info, type(info))\n",
    "\n",
    "# readline()\n",
    "info = ''\n",
    "with open('./files/welcome.txt') as f:\n",
    "    info += f.readline()\n",
    "    info += f.readline()\n",
    "    # каждый вызов функции будет читать следующую строку\n",
    "\n",
    "print(info, type(info))\n",
    "# как можно заметить метод прочитал только одну строку для того чтобы можно было прочитать несколько строк следует использовать циклы\n",
    "\n",
    "# read()\n",
    "with open('./files/welcome.txt') as f:\n",
    "    info = f.read()\n",
    "\n",
    "print(info, type(info))"
   ]
  },
  {
   "cell_type": "markdown",
   "metadata": {},
   "source": [
    "## Запись данных в файл\n",
    "\n",
    "При вызове конструкции open with(file_path, mode, encoding)\n",
    "\n",
    "В переменную mode могут быть установленны следующие значения:\n",
    "- 'r' - read чтение\n",
    "- 'w' - write запись (полностью перезаписывает файл новыми данными в разрезе конструкции). В случае если файла нет то создаст его\n",
    "- 'a' - append добавление данных (добавляет данные в конце файла)\n",
    "\n",
    "### Также при каждом mode может быть использован байтовый mode\n",
    "- 'rb' - чтение байтов\n",
    "- 'wb' - запись байтов\n",
    "- 'ab' - добавление байтов\n",
    "\n",
    "### Encoding\n",
    "\n",
    "Также есть параметр encoding который отвечает за кодировку в которой файл содержит данные"
   ]
  },
  {
   "cell_type": "code",
   "execution_count": 9,
   "metadata": {},
   "outputs": [],
   "source": [
    "# Запись данных\n",
    "with open('./files/write_data.txt', 'w') as f:\n",
    "    f.write('Hello world\\n')\n",
    "    f.write('Have a good day!')"
   ]
  },
  {
   "cell_type": "code",
   "execution_count": 10,
   "metadata": {},
   "outputs": [],
   "source": [
    "# Добавление данных в файл\n",
    "with open('./files/write_data.txt', 'a') as f:\n",
    "    f.write('\\nThis is append method!')"
   ]
  },
  {
   "cell_type": "markdown",
   "metadata": {},
   "source": [
    "# CSV file\n",
    "\n",
    "CSV - Comma-Separated Values (значение разделенные запятой (не всегда))\n",
    "\n",
    "Для чтения csv файлов также используется контекстный менеджер *with open()*"
   ]
  },
  {
   "cell_type": "code",
   "execution_count": 11,
   "metadata": {},
   "outputs": [
    {
     "name": "stdout",
     "output_type": "stream",
     "text": [
      "Name,Age,ID\n",
      "Richard Andrews,43,0de2ecf31df2386377b1d2dc4fae8b16fad05ad0         \n",
      "Hailey Sellers,24,3d9b8a95458c1df2687191e8146a97ca4afb28aa          \n",
      "Jessica Pace,39,a5daa63ef893cb86bc8df1110cc9a5f8e1d0c563            \n",
      "Jasmine Escobar,42,9844e403841ec84b9a2fb3caf9d2a1c9ee042d31         \n",
      "Karen Kelly,26,8338f76ac0e9a76d73d57790f1d9843b185b5428             \n",
      "Patricia Christensen,70,23099bb630c1c64989458393045f08de3bac0eb9    \n",
      "Jessica Hansen,24,a8c035ccd099ef909a46e0d96b76c0f132c9c562          \n",
      "Raymond Adams,53,a051901830ff6c2095524ef92b1541eef9f8c64d           \n",
      "Stephanie Morrow,53,3bad04a5fc0a7ec33735ae45535f354887988f35        \n",
      "Timothy Ramos,34,b4930920b5256c4e592541297e43a556c8fe33a8 \n",
      "\n",
      "\n"
     ]
    }
   ],
   "source": [
    "with open('./files/logger.csv') as f:\n",
    "    info = f.read()\n",
    "\n",
    "print(info)"
   ]
  },
  {
   "cell_type": "markdown",
   "metadata": {},
   "source": [
    "Чтение данных из csv файла простым методом read() не является лучшей практикой для получения данных из подобного типа файлов\n",
    "\n",
    "Для более корректного чтения данных из подоных файлов используется библиотека csv"
   ]
  },
  {
   "cell_type": "code",
   "execution_count": 17,
   "metadata": {},
   "outputs": [
    {
     "name": "stdout",
     "output_type": "stream",
     "text": [
      "{'Cool Name': 'Trevor Torres', 'Cool Birthday': '03-09-08', 'Cool Fact': 'Has never been out of the country.'}\n",
      "{'Cool Name': 'Crystal Ellis', 'Cool Birthday': '17-11-06', 'Cool Fact': 'Published a small biography on a local legend.'}\n",
      "{'Cool Name': 'Devin Patrick', 'Cool Birthday': '22-09-85', 'Cool Fact': 'Happened across a major movie star while biking once.'}\n",
      "{'Cool Name': 'Phyllis Evans', 'Cool Birthday': '06-02-70', 'Cool Fact': 'Once ate three packages of cookies in one sitting.'}\n",
      "{'Cool Name': 'Kayla Bridges', 'Cool Birthday': '28-07-93', 'Cool Fact': 'Has been to over fifteen different forests.'}\n",
      "{'Cool Name': 'Jeremy Lopez', 'Cool Birthday': '12-11-02', 'Cool Fact': 'Old job was across the street from their new job.'}\n",
      "{'Cool Name': 'Meredith Barker', 'Cool Birthday': '05-07-05', 'Cool Fact': 'Has a dog named Peanut.'}\n",
      "{'Cool Name': 'William Sanchez', 'Cool Birthday': '22-11-88', 'Cool Fact': 'While working a phone bank accidentally called their mother.'}\n",
      "{'Cool Name': 'Linda Brown', 'Cool Birthday': '01-02-89', 'Cool Fact': 'Can whistle the national anthem of twelve different nations.'}\n",
      "{'Cool Name': 'Elizabeth Smith', 'Cool Birthday': '23-01-75', 'Cool Fact': 'Is triple-jointed.'}\n"
     ]
    }
   ],
   "source": [
    "# импортируем библиотеку\n",
    "import csv\n",
    "\n",
    "with open('./files/cool_csv.csv', newline='') as f:\n",
    "    # создаем объект reader класса csv.DictReader()\n",
    "    reader = csv.DictReader(f)\n",
    "    for row in reader:\n",
    "        print(row)\n",
    "\n",
    "# Теперь в данном случае каждая строка файла csv представляет собой словарь состоящий из ключей значений\n",
    "# где ключами являются наименования колонок а значениями их значения"
   ]
  },
  {
   "cell_type": "code",
   "execution_count": 18,
   "metadata": {},
   "outputs": [
    {
     "name": "stdout",
     "output_type": "stream",
     "text": [
      "{'Author': 'Lauren Murray', 'ISBN': '978-0-12-995015-8', 'Title': 'Enviornment Call, Amount Later Page Country'}\n",
      "{'Author': 'Micheal Jones', 'ISBN': '978-1-78110-100-1', 'Title': 'Rate Security Full'}\n",
      "{'Author': 'Alexander Carr', 'ISBN': '978-0-315-25137-3', 'Title': 'Still Response Size'}\n",
      "{'Author': 'Michael Williams', 'ISBN': '978-0-388-70665-7', 'Title': 'Position Result Five'}\n",
      "{'Author': 'Kathleen Ferguson', 'ISBN': '978-1-75098-721-6', 'Title': 'Country Week Receive And Sign'}\n",
      "{'Author': 'Sarah Dorsey', 'ISBN': '978-1-06-483628-6', 'Title': 'Audience Truth Small'}\n",
      "{'Author': 'Mary Middleton', 'ISBN': '978-0-7419-8114-1', 'Title': 'Travel: Special Offer Near Allow Goal'}\n",
      "{'Author': 'William Todd', 'ISBN': '978-1-4457-0480-7', 'Title': 'Money Exactly Drop Teach'}\n",
      "{'Author': 'Joan Martin', 'ISBN': '978-0-657-61030-2', 'Title': 'Theory Do Half Change'}\n",
      "{'Author': 'Gary Roman', 'ISBN': '978-1-5039-7539-2', 'Title': 'Bill Serve Pull Industry South Job'}\n"
     ]
    }
   ],
   "source": [
    "# как уже было сказано разделителем в файле csv могут быть не только запятые но и различные другие значения\n",
    "# как например в файле ./files/books.csv разделителем выступает '@'\n",
    "\n",
    "with open('./files/books.csv', newline='') as f:\n",
    "    # создаем reader и указываем разделитель\n",
    "    reader = csv.DictReader(f, delimiter='@')\n",
    "    for row in reader:\n",
    "        print(row)"
   ]
  },
  {
   "cell_type": "markdown",
   "metadata": {},
   "source": [
    "## Запись данных в CSV\n",
    "\n",
    "Производится с помощью объекта класса csv.DictWriter(output_file_path, fieldnames=fields_list)"
   ]
  },
  {
   "cell_type": "code",
   "execution_count": 22,
   "metadata": {},
   "outputs": [
    {
     "name": "stdout",
     "output_type": "stream",
     "text": [
      "[{'Author': 'Lauren Murray', 'ISBN': '978-0-12-995015-8', 'Title': 'Enviornment Call, Amount Later Page Country'}, {'Author': 'Micheal Jones', 'ISBN': '978-1-78110-100-1', 'Title': 'Rate Security Full'}, {'Author': 'Alexander Carr', 'ISBN': '978-0-315-25137-3', 'Title': 'Still Response Size'}, {'Author': 'Michael Williams', 'ISBN': '978-0-388-70665-7', 'Title': 'Position Result Five'}, {'Author': 'Kathleen Ferguson', 'ISBN': '978-1-75098-721-6', 'Title': 'Country Week Receive And Sign'}, {'Author': 'Sarah Dorsey', 'ISBN': '978-1-06-483628-6', 'Title': 'Audience Truth Small'}, {'Author': 'Mary Middleton', 'ISBN': '978-0-7419-8114-1', 'Title': 'Travel: Special Offer Near Allow Goal'}, {'Author': 'William Todd', 'ISBN': '978-1-4457-0480-7', 'Title': 'Money Exactly Drop Teach'}, {'Author': 'Joan Martin', 'ISBN': '978-0-657-61030-2', 'Title': 'Theory Do Half Change'}, {'Author': 'Gary Roman', 'ISBN': '978-1-5039-7539-2', 'Title': 'Bill Serve Pull Industry South Job'}]\n",
      "['Author', 'ISBN', 'Title']\n"
     ]
    }
   ],
   "source": [
    "# давайте перезапишем данные из файла ./files/books.csv в ./files/books_comma.csv\n",
    "# сначала считаем данные\n",
    "\n",
    "info = []\n",
    "with open('./files/books.csv', newline='') as f:\n",
    "    reader = csv.DictReader(f, delimiter='@')\n",
    "    for row in reader:\n",
    "        info.append(row)\n",
    "\n",
    "# На выходе получаем список словарей\n",
    "print(info)\n",
    "\n",
    "# создаем список наименований столцов\n",
    "fields = [x for x in info[0].keys()]\n",
    "print(fields)\n",
    "\n",
    "# записываем данные в новый файл. Не забываем открыть файл в режиме записи 'w'\n",
    "with open('./files/books_comma.csv', 'w') as f:\n",
    "    writer = csv.DictWriter(f, fieldnames=fields, delimiter=',') # если не указывать параметр delimiter по умолчанию будет ','\n",
    "    # записываем заголовок из наименований столбцов\n",
    "    writer.writeheader()\n",
    "    # иттерируемся по списку словарей и записываем каждую строку в каждой иттерации\n",
    "    for row in info:\n",
    "        writer.writerow(row)"
   ]
  },
  {
   "cell_type": "markdown",
   "metadata": {},
   "source": [
    "# JSON files\n",
    "\n",
    "Для работы с файлами json используется специальная библиотека json в купе с контекстным менеджером"
   ]
  },
  {
   "cell_type": "code",
   "execution_count": 24,
   "metadata": {},
   "outputs": [
    {
     "name": "stdout",
     "output_type": "stream",
     "text": [
      "{'text': \"Now that's JSON!\", 'secret text': \"Now that's some _serious_ JSON!\"}\n"
     ]
    }
   ],
   "source": [
    "# импортируем библиотеку\n",
    "import json\n",
    "\n",
    "# для чтения используется метод load\n",
    "with open('./files/message.json') as f:\n",
    "    info = json.load(f)\n",
    "\n",
    "print(info)"
   ]
  },
  {
   "cell_type": "code",
   "execution_count": 25,
   "metadata": {},
   "outputs": [],
   "source": [
    "# Записи метод dump()\n",
    "\n",
    "with open('./files/message_dump.json', 'w') as f:\n",
    "    json.dump(info, f, indent=4) # параметр indent указывает кол-во отступов каждой подстроки"
   ]
  }
 ],
 "metadata": {
  "kernelspec": {
   "display_name": "Python 3",
   "language": "python",
   "name": "python3"
  },
  "language_info": {
   "codemirror_mode": {
    "name": "ipython",
    "version": 3
   },
   "file_extension": ".py",
   "mimetype": "text/x-python",
   "name": "python",
   "nbconvert_exporter": "python",
   "pygments_lexer": "ipython3",
   "version": "3.12.5"
  }
 },
 "nbformat": 4,
 "nbformat_minor": 2
}
