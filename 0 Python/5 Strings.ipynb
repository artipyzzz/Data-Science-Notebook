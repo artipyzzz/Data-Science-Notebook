{
 "cells": [
  {
   "cell_type": "markdown",
   "metadata": {},
   "source": [
    "# string\n",
    "\n",
    "класс строк, объекты данного класса являются не изменяемыми и являются строками"
   ]
  },
  {
   "cell_type": "code",
   "execution_count": 1,
   "metadata": {},
   "outputs": [
    {
     "name": "stdout",
     "output_type": "stream",
     "text": [
      "This is string\n",
      "This is string too\n"
     ]
    }
   ],
   "source": [
    "# Для того чтобы \"создать\" строку достаточно ввести любые символы внутри одинарных или двойных кавычек\n",
    "print('This is string')\n",
    "print('This is string too')"
   ]
  },
  {
   "cell_type": "code",
   "execution_count": 8,
   "metadata": {},
   "outputs": [
    {
     "name": "stdout",
     "output_type": "stream",
     "text": [
      "H\n",
      "o\n",
      "ll\n",
      "Hlo\n",
      "First wordSecond word\n",
      "I'm John\n"
     ]
    }
   ],
   "source": [
    "# Строки по сути своей являются списками символов и к ним можно применять некоторые методы списков\n",
    "# Например можно индексировать по буквам строки\n",
    "word = 'Hello'\n",
    "\n",
    "# Для того чтобы получить первую букву слова достаточно будет обратиться к ней по индексу\n",
    "print(word[0])\n",
    "\n",
    "# Чтобы получить крайнюю букву слова можно использовать отрицательный индекс\n",
    "print(word[-1])\n",
    "\n",
    "# Также можно получать срезы слова указав индексы через двоеточие\n",
    "print(word[2:4])\n",
    "\n",
    "# Если использовать два двоеточия в ячейке индекса то можно указать шаг\n",
    "print(word[::2])\n",
    "\n",
    "# Конечно можно объединять все эти правила срезов в одну строчку\n",
    "\n",
    "# Для того чтобы объединять строковые данные можно использовать символ конкатенации (+)\n",
    "a = 'First word'\n",
    "b = 'Second word'\n",
    "print(a + b)\n",
    "# Прошу обратить внимание что строки объединяются буквально, другими словами между после объединеия python не добавляет пробелов между слов\n",
    "\n",
    "# Чтобы подсказать python что символ в строке не является часть программы а лишь являются части строки используется символ экранирования (\\)\n",
    "print('I\\'m John')\n",
    "# Мы специально указали символ экранирования перед символом одниравной кавычки потому как в противном случае python подумал бы что это конец строки"
   ]
  },
  {
   "cell_type": "markdown",
   "metadata": {},
   "source": [
    "## Специальные команды экранирования\n",
    "\n",
    "- \\n - переход на следующую строку\n",
    "- \\t - табуляция\n",
    "\n",
    "Полный список специальных символов можно посмотреть на [сайте](https://foxford.ru/wiki/informatika/ekranirovannye-simvoly-v-python?srsltid=AfmBOooCTp96trY_OUUI2aBoWmkO7yGNQ-n31jQLGMNsR7wZZ_X8V3rf&utm_referrer=https%3A%2F%2Fwww.google.com%2F)"
   ]
  },
  {
   "cell_type": "code",
   "execution_count": 9,
   "metadata": {},
   "outputs": [
    {
     "name": "stdout",
     "output_type": "stream",
     "text": [
      "w\n",
      "o\n",
      "r\n",
      "d\n",
      "_\n",
      "f\n",
      "o\n",
      "r\n",
      "_\n",
      "i\n",
      "t\n",
      "t\n",
      "e\n",
      "r\n",
      "a\n",
      "t\n",
      "i\n",
      "o\n",
      "n\n"
     ]
    }
   ],
   "source": [
    "# так как у строк есть индексы следовательно мы можем по ним иттерироваться\n",
    "for i in 'word_for_itteration':\n",
    "    print(i)\n",
    "\n",
    "# а следовательно делать различные действия в зависимости от символа и т.д."
   ]
  },
  {
   "cell_type": "code",
   "execution_count": 11,
   "metadata": {},
   "outputs": [
    {
     "name": "stdout",
     "output_type": "stream",
     "text": [
      "False\n",
      "False\n"
     ]
    }
   ],
   "source": [
    "# К строкам можно применять условия\n",
    "# Вхождение символа в строку\n",
    "print('h' in 'Jinna')\n",
    "print('h' == 'H')"
   ]
  },
  {
   "cell_type": "markdown",
   "metadata": {},
   "source": [
    "## Методы строк\n",
    "- .upper() - форматирует строку в виде строки где все элементы строки являются заглавными\n",
    "- .lower() - форматирует строку в виде строки где все элементы строки являются прописными\n",
    "- .title() - форматирует строку в виде строки где каждое слово строки начинается с заглвной буквы\n",
    "- .split() - формирует список из строки элементы которого были разделены по элементу переданному методу (если ничего не передавать то метод автоматически разделит строку по \"пробелу\")\n",
    "- ''.join(list) - формирует из списка строку объединяя каждый элементы списка строкой заключенной в кавычки\n",
    "- .replace() - данный метод принимает два параметра:\n",
    "    - первый параметр - какую подстроку заменить\n",
    "    - второй параметр - на какую подстроку заменить\n",
    "- .strip() - метод который удаляет с двух сторон строки символы переданные методу\n",
    "- .format() - форматирует строку по правилам переданным методу\n",
    "- .find() - методы который возвращает индекс первого символа подстроки переданной ему"
   ]
  },
  {
   "cell_type": "code",
   "execution_count": 18,
   "metadata": {},
   "outputs": [
    {
     "name": "stdout",
     "output_type": "stream",
     "text": [
      "UPPER: SALUT MR.KELVIN\n",
      "lower: salut mr.kelvin\n",
      "Title Salut Mr.Kelvin\n",
      "[split]: ['Salut', 'mr.Kelvin']\n",
      "\"\".join(list): Salut@mr.Kelvin\n",
      "replace: Salut mrs.Kelvin\n",
      "strip(n): Salut mr.Kelvi\n",
      "format: I know\n",
      "format: I know\n",
      "find: 2\n"
     ]
    }
   ],
   "source": [
    "word = 'Salut mr.Kelvin'\n",
    "splitted_word = word.split()\n",
    "\n",
    "print('UPPER:', word.upper())\n",
    "print('lower:',word.lower())\n",
    "print('Title',word.title())\n",
    "print('[split]:',word.split())\n",
    "print('\"\".join(list):', '@'.join(splitted_word))\n",
    "print('replace:', word.replace('mr', 'mrs'))\n",
    "print('strip(n):', word.strip('n'))\n",
    "print('format:', '{} {}'.format('I', 'know'))\n",
    "print('format:', '{j} {k}'.format(j='I', k='know'))\n",
    "print('find:', 'smooth'.find('oo'))"
   ]
  }
 ],
 "metadata": {
  "kernelspec": {
   "display_name": "Python 3",
   "language": "python",
   "name": "python3"
  },
  "language_info": {
   "codemirror_mode": {
    "name": "ipython",
    "version": 3
   },
   "file_extension": ".py",
   "mimetype": "text/x-python",
   "name": "python",
   "nbconvert_exporter": "python",
   "pygments_lexer": "ipython3",
   "version": "3.12.5"
  }
 },
 "nbformat": 4,
 "nbformat_minor": 2
}
