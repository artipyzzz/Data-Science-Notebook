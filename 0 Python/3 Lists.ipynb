{
 "cells": [
  {
   "cell_type": "markdown",
   "metadata": {},
   "source": [
    "# List\n",
    "\n",
    "Список, является изменяемым объектом, и представляет собой набор данных, которые могут быть различных типов"
   ]
  },
  {
   "cell_type": "code",
   "execution_count": 3,
   "metadata": {},
   "outputs": [
    {
     "name": "stdout",
     "output_type": "stream",
     "text": [
      "True\n",
      "<class 'list'> <class 'list'>\n"
     ]
    }
   ],
   "source": [
    "# Для того чтобы создать пустой список используется один из следующих синтаксисов\n",
    "empty_list = []\n",
    "empty_list_1 = list()\n",
    "\n",
    "print(empty_list == empty_list_1)\n",
    "print(type(empty_list_1), type(empty_list))"
   ]
  },
  {
   "cell_type": "code",
   "execution_count": 5,
   "metadata": {},
   "outputs": [
    {
     "name": "stdout",
     "output_type": "stream",
     "text": [
      "[True, 1, '1', 0.0]\n"
     ]
    }
   ],
   "source": [
    "# Как уже было сказано список может содержать в себе любые типы данных одновременно\n",
    "mixed_data_list = [True, 1, '1', .0]\n",
    "print(mixed_data_list)"
   ]
  },
  {
   "cell_type": "markdown",
   "metadata": {},
   "source": [
    "# List Methods\n",
    "\n",
    "У список есть специальные метод по средствам которых можно его изменять и работать с его данными"
   ]
  },
  {
   "cell_type": "code",
   "execution_count": 15,
   "metadata": {},
   "outputs": [
    {
     "name": "stdout",
     "output_type": "stream",
     "text": [
      "my_list\n",
      "[10, 9, 8, 7, 6, 5, 4, 3, 2, 1]\n",
      "my_list.append(100)\n",
      "[10, 9, 8, 7, 6, 5, 4, 3, 2, 1, 100]\n",
      "my_list_2\n",
      "[0, 1, 2, 3]\n",
      "final_list\n",
      "[10, 9, 8, 7, 6, 5, 4, 3, 2, 1, 100, 0, 1, 2, 3]\n",
      "Первый элемент списка my_list:\n",
      "10\n",
      "Последний элемент списка my_list_2:\n",
      "100\n",
      "my_list до изменения:\n",
      "[10, 9, 8, 7, 6, 5, 4, 3, 2, 1, 100]\n",
      "my_list после изменения первого элемента:\n",
      "['сто', 9, 8, 7, 6, 5, 4, 3, 2, 1, 100]\n",
      "my_list до удаления элемента\n",
      "['сто', 9, 8, 7, 6, 5, 4, 3, 2, 1, 100]\n",
      "my_list после удаления элемента \"сто\"\n",
      "[9, 8, 7, 6, 5, 4, 3, 2, 1, 100]\n"
     ]
    }
   ],
   "source": [
    "# Создадим список используя функцию range\n",
    "my_list = list(range(10, 0, -1))\n",
    "print('my_list', my_list, sep='\\n')\n",
    "\n",
    "# Для того чтобы добавить какой либо элемент в конец списка используется метод append()\n",
    "my_list.append(100)\n",
    "print('my_list.append(100)', my_list, sep='\\n')\n",
    "\n",
    "# Списки можно складывать между собой используя математический оператор сложения +\n",
    "my_list_2 = list(range(4))\n",
    "print('my_list_2', my_list_2, sep='\\n')\n",
    "final_list = my_list + my_list_2\n",
    "print('final_list', final_list, sep='\\n')\n",
    "\n",
    "# Для того чтобы получить какой либо из элементов списка используются индексы\n",
    "# Важно помнить что положительные индексы всегда начинаются с 0\n",
    "# А отрицательные с -1\n",
    "print('Первый элемент списка my_list:', my_list[0], sep='\\n')\n",
    "print('Последний элемент списка my_list_2:', my_list[-1], sep='\\n')\n",
    "\n",
    "# Для того чтобы изменить какой либо элемент списка следует обратиться к нему по индексы и присвоить другое значение\n",
    "print('my_list до изменения:', my_list, sep='\\n')\n",
    "my_list[0] = 'сто'\n",
    "print('my_list после изменения первого элемента:', my_list, sep='\\n')\n",
    "\n",
    "# Для того чтобы удалить элемент из списка используется метод remove()\n",
    "# Внутрь данного элемента передается значение\n",
    "print('my_list до удаления элемента', my_list, sep='\\n')\n",
    "my_list.remove('сто')\n",
    "print('my_list после удаления элемента \"сто\"', my_list, sep='\\n')\n",
    "# Прошу заметить что данный метод удаляет только первый указанный элемент из списка\n",
    "# Другими словами если в списке было бы несколько значений \"сто\" в таком случае удалилось бы только одно"
   ]
  },
  {
   "cell_type": "markdown",
   "metadata": {},
   "source": [
    "# 2D list\n",
    "\n",
    "Двумерные массивы представляют собой списки вложенные в другой список, вложенность списков не ограничено"
   ]
  },
  {
   "cell_type": "code",
   "execution_count": 18,
   "metadata": {},
   "outputs": [
    {
     "name": "stdout",
     "output_type": "stream",
     "text": [
      "my_2d_list [[1, 2], [3, 4]]\n",
      "1\n"
     ]
    }
   ],
   "source": [
    "# Пример двумерного списка\n",
    "my_2d_list = [[1,2], [3,4]]\n",
    "print('my_2d_list', my_2d_list)\n",
    "\n",
    "# для того чтобы получить значение вложенного списка используется несколько индексов\n",
    "# Например чтобы получить значеие 1 из нашего вложенного списка следует обратиться к нему таким образом\n",
    "one = my_2d_list[0][0]\n",
    "print(one)\n",
    "# Другими словами сначала мы выбрали вложенные список по индексу а далее обратились к элементу с индексом 0\n",
    "# Методы вложенных списков такие как и обычных"
   ]
  },
  {
   "cell_type": "markdown",
   "metadata": {},
   "source": [
    "# ZIP function\n",
    "\n",
    "ZIP функция используется когда требуется быстро создать вложенный список из других списков"
   ]
  },
  {
   "cell_type": "code",
   "execution_count": 19,
   "metadata": {},
   "outputs": [
    {
     "name": "stdout",
     "output_type": "stream",
     "text": [
      "[(1, 'one'), (2, 'two'), (3, 'three')]\n"
     ]
    }
   ],
   "source": [
    "a = [1, 2, 3]\n",
    "b = ['one','two', 'three']\n",
    "c = list(zip(a, b))\n",
    "print(c)"
   ]
  }
 ],
 "metadata": {
  "kernelspec": {
   "display_name": "Python 3",
   "language": "python",
   "name": "python3"
  },
  "language_info": {
   "codemirror_mode": {
    "name": "ipython",
    "version": 3
   },
   "file_extension": ".py",
   "mimetype": "text/x-python",
   "name": "python",
   "nbconvert_exporter": "python",
   "pygments_lexer": "ipython3",
   "version": "3.12.5"
  }
 },
 "nbformat": 4,
 "nbformat_minor": 2
}
