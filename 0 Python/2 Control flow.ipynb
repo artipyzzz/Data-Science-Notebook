{
 "cells": [
  {
   "cell_type": "markdown",
   "metadata": {},
   "source": [
    "# Boolean\n",
    "\n",
    "Булевый тип данных используется в условных операторах и может принимать только два значения **True** или **False**"
   ]
  },
  {
   "cell_type": "code",
   "execution_count": 9,
   "metadata": {},
   "outputs": [
    {
     "name": "stdout",
     "output_type": "stream",
     "text": [
      "1 равно 1 True\n",
      "1 не равно 1 False\n",
      "2 не равно 4 True\n",
      "3 равно 5 False\n",
      "\"3\" равно 3 False\n"
     ]
    }
   ],
   "source": [
    "# Виды условных операторов\n",
    "\n",
    "print('1 равно 1', 1 == 1)\n",
    "print('1 не равно 1', 1 != 1)\n",
    "print('2 не равно 4', 2 != 4)\n",
    "print('3 равно 5', 3 == 5)\n",
    "print('\"3\" равно 3','3' == 3)\n",
    "# Вместо чисел можно писать выражения"
   ]
  },
  {
   "cell_type": "code",
   "execution_count": 3,
   "metadata": {},
   "outputs": [
    {
     "name": "stdout",
     "output_type": "stream",
     "text": [
      "a True\n",
      "b True\n"
     ]
    }
   ],
   "source": [
    "# Булевые значения можно присваивать перменным\n",
    "a = 1 != 2\n",
    "b = 1 <= 2\n",
    "print('a', a)\n",
    "print('b', b)"
   ]
  },
  {
   "cell_type": "markdown",
   "metadata": {},
   "source": [
    "# if statement\n",
    "\n",
    "Булевые значения применяются в условиях if ... elif ... else"
   ]
  },
  {
   "cell_type": "code",
   "execution_count": 5,
   "metadata": {},
   "outputs": [
    {
     "name": "stdout",
     "output_type": "stream",
     "text": [
      "I don't know you! ave\n"
     ]
    }
   ],
   "source": [
    "name = 'ave'\n",
    "\n",
    "if name == 'Dave':\n",
    "    print('Hello Dave')\n",
    "else:\n",
    "    print(f'I don\\'t know you! {name}')\n",
    "\n",
    "# Оператор else исполняется в случае если ни одно из условий выше не выполнилось"
   ]
  },
  {
   "cell_type": "code",
   "execution_count": 8,
   "metadata": {},
   "outputs": [
    {
     "name": "stdout",
     "output_type": "stream",
     "text": [
      "Hello John. Grac you are 18!\n"
     ]
    }
   ],
   "source": [
    "# Условия могут быть вложенными или комплексными\n",
    "name = 'John'\n",
    "age = 18\n",
    "\n",
    "if name == 'John' and age >= 15:\n",
    "    print(f'Hello {name}. Grac you are {age}!')\n",
    "elif age < 15:\n",
    "    print(f'No no no {name}!')\n",
    "elif name != 'John':\n",
    "    print(f'Permision denied {name}')\n",
    "\n",
    "# Попробуйте изменять значения переменных и посмотрите на результат"
   ]
  },
  {
   "cell_type": "markdown",
   "metadata": {},
   "source": [
    "# AND OR NOT\n",
    "\n",
    "Логические оператор **AND** проверяет соответствие нескольких условий в случае если хотя бы одно из условий не верно то возвращает **False**\n",
    "\n",
    "Логические оператор **OR** проверяет соответствие хотя бы одного из условий, если хотя бы одно из условий **True** то все выражение будет **True**\n",
    "\n",
    "Логический оператор **NOT** изменяет результат выражения на противоположный: если был **True** то станет **False** и наоборот"
   ]
  }
 ],
 "metadata": {
  "kernelspec": {
   "display_name": "Python 3",
   "language": "python",
   "name": "python3"
  },
  "language_info": {
   "codemirror_mode": {
    "name": "ipython",
    "version": 3
   },
   "file_extension": ".py",
   "mimetype": "text/x-python",
   "name": "python",
   "nbconvert_exporter": "python",
   "pygments_lexer": "ipython3",
   "version": "3.12.5"
  }
 },
 "nbformat": 4,
 "nbformat_minor": 2
}
