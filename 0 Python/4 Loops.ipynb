{
 "cells": [
  {
   "cell_type": "markdown",
   "metadata": {},
   "source": [
    "# Loops\n",
    "\n",
    "Циклы используются в случаях если требуется выполнить один и тотже блок кода несколько раз без необходимости писать одно и тоже"
   ]
  },
  {
   "cell_type": "markdown",
   "metadata": {},
   "source": [
    "### for loops\n",
    "\n",
    "Циклы for исполняются до тех пор пока условие соответствует действительности и структурно выглядят так\n",
    "\n",
    "```python\n",
    "for i in object:\n",
    "    <do something>\n",
    "```"
   ]
  },
  {
   "cell_type": "code",
   "execution_count": 1,
   "metadata": {},
   "outputs": [
    {
     "name": "stdout",
     "output_type": "stream",
     "text": [
      "Hi\n",
      "Hi\n",
      "Hi\n",
      "Hi\n",
      "Hi\n"
     ]
    }
   ],
   "source": [
    "# Напишем простой цикл который напишет привет 5 раз\n",
    "for i in range(5):\n",
    "    print('Hi')"
   ]
  },
  {
   "cell_type": "code",
   "execution_count": null,
   "metadata": {},
   "outputs": [],
   "source": [
    "# Теперь напишем тоже самое только не используя цикл\n",
    "print('Hi')\n",
    "print('Hi')\n",
    "print('Hi')\n",
    "print('Hi')\n",
    "print('Hi')"
   ]
  },
  {
   "cell_type": "markdown",
   "metadata": {},
   "source": [
    "Очевидно что первый вариант выглядит более читаемым аккуратным и функциональным"
   ]
  },
  {
   "cell_type": "code",
   "execution_count": 8,
   "metadata": {},
   "outputs": [
    {
     "name": "stdout",
     "output_type": "stream",
     "text": [
      "w\n",
      "o\n",
      "r\n",
      "d\n",
      "one\n",
      "two\n",
      "three\n",
      "0 one\n",
      "1 two\n",
      "2 three\n"
     ]
    }
   ],
   "source": [
    "# Один счет цикла называется иттерацией. Иттерироваться можно не только по объекту range\n",
    "# Но также и по списку, словарю, кортежу или слову\n",
    "\n",
    "# Проиттерируемся по слову и выведем каждую отдельную букву слова на отдельную строку\n",
    "for char in 'word':\n",
    "    print(char)\n",
    "\n",
    "# иттерация по списку\n",
    "for i in ['one', 'two', 'three']:\n",
    "    print(i)\n",
    "\n",
    "# иттерироваться можно как по элементам объекта так и по индексам в случае если их возможно применить в объекту\n",
    "# например по тому же самому списку выше мы можем проиттерироваться подобным образом\n",
    "\n",
    "for i in range(len(['one', 'two', 'three'])):\n",
    "    print(i, ['one', 'two', 'three'][i])\n",
    "    # в результате получим тоже самое\n",
    "    # на экран также вывели значение переменной i которая в данном случае явялется числом представляющий индекс\n",
    "    # так как по факту конструкция range(len(['one', 'two', 'three'])) создала объект range() от 0 до числа представляющего длинну списка (3)\n",
    "    # получается мы иттерировались по объекту range() который содержал в себе 3 элемента 0, 1, 2\n",
    "    # а далее просто подставили значение в ячейку индекса списка\n",
    "\n",
    "# При иттерации по словарям все выглядит немного по другому\n",
    "dict_test = {\n",
    "    'one': 1,\n",
    "    'two': 2,\n",
    "    'three': 3\n",
    "}\n",
    "\n",
    "# при такой конструкции мы будем иттерировать по ключам словаря\n",
    "for i in dict_test:\n",
    "    print(i, dict_test[i])\n",
    "\n",
    "# в таком случае иттерация будет по значениям\n",
    "for i in dict_test.values():\n",
    "    print(i)\n",
    "\n",
    "# Более подробней про атрибуты словаря будет далее"
   ]
  },
  {
   "cell_type": "markdown",
   "metadata": {},
   "source": [
    "## While loop\n",
    "\n",
    "Цикл while исполняется до тех пока условие после оператора будет равно True"
   ]
  },
  {
   "cell_type": "code",
   "execution_count": 9,
   "metadata": {},
   "outputs": [
    {
     "name": "stdout",
     "output_type": "stream",
     "text": [
      "0\n",
      "1\n",
      "2\n",
      "3\n",
      "4\n",
      "5\n",
      "6\n",
      "7\n",
      "8\n",
      "9\n"
     ]
    }
   ],
   "source": [
    "i = 0\n",
    "while i < 10:\n",
    "    print(i)\n",
    "    i += 1"
   ]
  },
  {
   "cell_type": "markdown",
   "metadata": {},
   "source": [
    "### Особенности цикла while\n",
    "\n",
    "Прошу обратить внимание что в строку после оператора while пишется только условие которое сранивается\n",
    "\n",
    "Ранее до вызова оператора while была обозначена переменная i которой было присвоенно значение 0\n",
    "\n",
    "В теле цикла обязательно было прописано увеличение числа i на 1 так как в противном случае создается невыполнимое условие\n",
    "\n",
    "Использование циклов while не редко приводит в ошибках с бесконечными циклами поэтому с ними нужно быть внимательными"
   ]
  },
  {
   "cell_type": "markdown",
   "metadata": {},
   "source": [
    "# Break & continue\n",
    "\n",
    "Операторы Break и Continue являются очень важными в циклах так как позволяют пропустить (continue) иттерацию или же вовсе выйти из тела цикла (break) и выйти из цикла"
   ]
  },
  {
   "cell_type": "code",
   "execution_count": 14,
   "metadata": {},
   "outputs": [
    {
     "name": "stdout",
     "output_type": "stream",
     "text": [
      "0\n",
      "2\n"
     ]
    }
   ],
   "source": [
    "# создадим список из целых числе от 0 до 9\n",
    "list_0_9 = list(range(10))\n",
    "\n",
    "# Предположим что перед нами стоит задача вести только те числа которые без остатка деляться на 2 но не равные 6\n",
    "for i in list_0_9:\n",
    "    # сразу добавим словие что если i равно 4 то пропустить данную иттерацию и не продолжать код в теле цикла\n",
    "    if i == 4:\n",
    "        continue\n",
    "    elif i == 6:\n",
    "        break\n",
    "    if i % 2 == 0:\n",
    "        print(i)\n",
    "    # отлично все работает но позже нам сказали что если число равно 6 то надо срочно прекращать работу добавим условие"
   ]
  },
  {
   "cell_type": "markdown",
   "metadata": {},
   "source": [
    "Таким образом мы наглядно увидели работу операторов break и continue"
   ]
  },
  {
   "cell_type": "markdown",
   "metadata": {},
   "source": [
    "# Nested loops\n",
    "\n",
    "Циклы могут быть вложенными друг в друга"
   ]
  },
  {
   "cell_type": "code",
   "execution_count": 15,
   "metadata": {},
   "outputs": [
    {
     "name": "stdout",
     "output_type": "stream",
     "text": [
      "Hello\n",
      "Commander\n",
      "Commander\n",
      "Hello\n",
      "Commander\n",
      "Commander\n",
      "Hello\n",
      "Commander\n",
      "Commander\n",
      "Hello\n",
      "Commander\n",
      "Commander\n"
     ]
    }
   ],
   "source": [
    "for i in range(4):\n",
    "    print('Hello')\n",
    "    for j in range(2):\n",
    "        print('Commander')"
   ]
  },
  {
   "cell_type": "markdown",
   "metadata": {},
   "source": [
    "# List comprehensions"
   ]
  },
  {
   "cell_type": "markdown",
   "metadata": {},
   "source": [
    "Возможность языка python позволяются нам создавать комлексные объекты в одну строку тем самым увеличивая читаемость и уменьшая объем кода"
   ]
  },
  {
   "cell_type": "code",
   "execution_count": 18,
   "metadata": {},
   "outputs": [
    {
     "data": {
      "text/plain": [
       "[0, 1, 2, 3, 4, 5, 6, 7, 8, 9]"
      ]
     },
     "execution_count": 18,
     "metadata": {},
     "output_type": "execute_result"
    }
   ],
   "source": [
    "# list comprehensions\n",
    "\n",
    "new_list = [x for x in list(range(10))]\n",
    "new_list"
   ]
  },
  {
   "cell_type": "code",
   "execution_count": 19,
   "metadata": {},
   "outputs": [
    {
     "data": {
      "text/plain": [
       "[0, 3, 6, 9]"
      ]
     },
     "execution_count": 19,
     "metadata": {},
     "output_type": "execute_result"
    }
   ],
   "source": [
    "# данные структуры полезны тем что внутри них также в одну строку можно указывать условия или применять безымянный функции (lambda functions)\n",
    "new_list = [x for x in list(range(10)) if x % 3 == 0]\n",
    "# таким образом одной строкой мы создали список в котором содержаться элементы значения которых делять на 3 без остатка\n",
    "new_list"
   ]
  },
  {
   "cell_type": "code",
   "execution_count": 29,
   "metadata": {},
   "outputs": [
    {
     "data": {
      "text/plain": [
       "[3]"
      ]
     },
     "execution_count": 29,
     "metadata": {},
     "output_type": "execute_result"
    }
   ],
   "source": [
    "# как уже говорилось можно применять lambda функции\n",
    "new_list = [y for y in list(range(10)) if (lambda x: x * 2 == 6)(y)]\n",
    "new_list"
   ]
  },
  {
   "cell_type": "code",
   "execution_count": 31,
   "metadata": {},
   "outputs": [
    {
     "data": {
      "text/plain": [
       "{'one': 1, 'two': 2, 'three': 3}"
      ]
     },
     "execution_count": 31,
     "metadata": {},
     "output_type": "execute_result"
    }
   ],
   "source": [
    "# с помощью данной конструкции можно лего создавать словари\n",
    "new_dict = {x[0]:x[1] for x in list(zip(['one','two','three'],[1,2,3]))}\n",
    "new_dict"
   ]
  }
 ],
 "metadata": {
  "kernelspec": {
   "display_name": "Python 3",
   "language": "python",
   "name": "python3"
  },
  "language_info": {
   "codemirror_mode": {
    "name": "ipython",
    "version": 3
   },
   "file_extension": ".py",
   "mimetype": "text/x-python",
   "name": "python",
   "nbconvert_exporter": "python",
   "pygments_lexer": "ipython3",
   "version": "3.12.5"
  }
 },
 "nbformat": 4,
 "nbformat_minor": 2
}
