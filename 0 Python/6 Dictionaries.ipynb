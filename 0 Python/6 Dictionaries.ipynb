{
 "cells": [
  {
   "cell_type": "markdown",
   "metadata": {},
   "source": [
    "# Dictionaries\n",
    "\n",
    "Объекты класса dictionaries являются словарями или по другому еще так же можно назвать hash памятью которая хранит данные в формате ключ:значение"
   ]
  },
  {
   "cell_type": "code",
   "execution_count": 26,
   "metadata": {},
   "outputs": [
    {
     "name": "stdout",
     "output_type": "stream",
     "text": [
      "{}\n",
      "{'1key': '1value', '2key': '2value'}\n",
      "1value\n",
      "dict_keys(['1key', '2key'])\n",
      "dict_values(['1value', '2value'])\n",
      "dict_items([('1key', '1value'), ('2key', '2value')])\n"
     ]
    }
   ],
   "source": [
    "# для того чтобы создать пустой словарь\n",
    "empty_dict = dict()\n",
    "print(empty_dict)\n",
    "\n",
    "# структура словаря\n",
    "my_dict = {\n",
    "    '1key':'1value',\n",
    "    '2key':'2value'\n",
    "}\n",
    "print(my_dict)\n",
    "\n",
    "# для того чтобы получить значение которое хранится под определенным ключем достаточно обратиться к нему по ключу\n",
    "print(my_dict['1key'])\n",
    "\n",
    "# чтобы получить весь список ключей используется специальный метод .keys()\n",
    "print(my_dict.keys())\n",
    "\n",
    "# чтобы получить весь список значение используется метод .values()\n",
    "print(my_dict.values())\n",
    "\n",
    "# Чтобы получить список кортежей ключей и их значений используется метод items()\n",
    "print(my_dict.items())"
   ]
  },
  {
   "cell_type": "markdown",
   "metadata": {},
   "source": [
    "## Ключами словаря могут выступать только строки и числа\n",
    "\n",
    "*И нельзя использовать списки, кортежи или множества*\n",
    "\n",
    "**Значениями словаря могут выступать любые объекты**"
   ]
  },
  {
   "cell_type": "code",
   "execution_count": 27,
   "metadata": {},
   "outputs": [],
   "source": [
    "my_dict_2 = {2:2, '3':3}"
   ]
  },
  {
   "cell_type": "markdown",
   "metadata": {},
   "source": [
    "## Ошибки при обращении по ключу\n",
    "\n",
    "В случае если ключ не будет найден в словаре он выдаст ошибку типа **KeyError**\n",
    "\n",
    "Для того чтобы избежать подобной ошибки используется метод get(), который может вернуть значение по умолчанию в случае если ключ не был найден"
   ]
  },
  {
   "cell_type": "code",
   "execution_count": 28,
   "metadata": {},
   "outputs": [
    {
     "name": "stdout",
     "output_type": "stream",
     "text": [
      "Такого ключа нет!\n",
      "1value\n"
     ]
    }
   ],
   "source": [
    "print(my_dict.get(1, 'Такого ключа нет!'))\n",
    "print(my_dict.get('1key', 'Такого ключа нет!'))"
   ]
  },
  {
   "cell_type": "markdown",
   "metadata": {},
   "source": [
    "## Добавление значеий в словарь\n",
    "\n",
    "Для того чтобы добавить ключ: значений в словарь достаточно просто обратиться к ключу которого не существует и присвоить ему значение\n",
    "\n",
    "В случае если ключ будет найден то он перепишет значение находящееся под заданным ключем, в противном случае создаст новую пару ключ значение"
   ]
  },
  {
   "cell_type": "code",
   "execution_count": 29,
   "metadata": {},
   "outputs": [
    {
     "name": "stdout",
     "output_type": "stream",
     "text": [
      "{'1key': '1value', '2key': '2value'}\n",
      "{'1key': '3value', '2key': '2value'}\n",
      "{'1key': '3value', '2key': '2value', '3key': '1value'}\n"
     ]
    }
   ],
   "source": [
    "print(my_dict)\n",
    "my_dict['1key'] = '3value'\n",
    "print(my_dict)\n",
    "my_dict['3key'] = '1value'\n",
    "print(my_dict)"
   ]
  },
  {
   "cell_type": "code",
   "execution_count": 30,
   "metadata": {},
   "outputs": [
    {
     "name": "stdout",
     "output_type": "stream",
     "text": [
      "{'1key': '1value', '2key': '2value', '3key': 'value3', '4key': '4value'}\n"
     ]
    }
   ],
   "source": [
    "# Если требуется добавить несколько пар ключей значений или изменить несколько пар то в таком случае применяется метод update() внутрь которого передается словарь содержащий ключи и их значения\n",
    "my_dict.update({'1key':'1value', '3key':'value3', '4key':'4value'})\n",
    "print(my_dict)"
   ]
  },
  {
   "cell_type": "code",
   "execution_count": 31,
   "metadata": {},
   "outputs": [
    {
     "name": "stdout",
     "output_type": "stream",
     "text": [
      "{'1key': '1value', '2key': '2value', '3key': 'value3', '4key': '4value'}\n",
      "1value\n",
      "{'2key': '2value', '3key': 'value3', '4key': '4value'}\n",
      "Нет ключа\n",
      "{'2key': '2value', '3key': 'value3', '4key': '4value'}\n"
     ]
    }
   ],
   "source": [
    "# Для того чтобы удалить пару используется метод pop() внутрь которого передается два аргумента\n",
    "# первый аргумент - наименование ключа\n",
    "# второй аргумент - занчение которое появится в случае если ключ не будет найден\n",
    "# в случае если ключ есть то метод вернет значение которое связанно с указанным ключем\n",
    "\n",
    "print(my_dict)\n",
    "print(my_dict.pop('1key', 'Нет ключа'))\n",
    "print(my_dict)\n",
    "print(my_dict.pop('5key', 'Нет ключа'))\n",
    "print(my_dict)"
   ]
  }
 ],
 "metadata": {
  "kernelspec": {
   "display_name": "Python 3",
   "language": "python",
   "name": "python3"
  },
  "language_info": {
   "codemirror_mode": {
    "name": "ipython",
    "version": 3
   },
   "file_extension": ".py",
   "mimetype": "text/x-python",
   "name": "python",
   "nbconvert_exporter": "python",
   "pygments_lexer": "ipython3",
   "version": "3.12.5"
  }
 },
 "nbformat": 4,
 "nbformat_minor": 2
}
