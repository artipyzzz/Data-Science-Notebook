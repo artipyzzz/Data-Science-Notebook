{
 "cells": [
  {
   "cell_type": "markdown",
   "metadata": {},
   "source": [
    "# Project\n",
    "Выполнил небольшой проект на проверку усвоенных знаний"
   ]
  },
  {
   "cell_type": "code",
   "execution_count": 6,
   "metadata": {},
   "outputs": [],
   "source": [
    "# По пути ./files/ имеется файл password.csv прочитаем с него данные\n",
    "# импортируем библиотеку csv\n",
    "import csv\n",
    "\n",
    "# создадим переменную куда запишем данные из файла\n",
    "data_from_files = []\n",
    "# воспользуемся контектным менеджером\n",
    "with open('../files/password.csv') as f:\n",
    "    # создадим объект класса csv.DictReader()\n",
    "    reader = csv.DictReader(f, delimiter=',')\n",
    "    for row in reader:\n",
    "        # добавляем данные по мере чтения\n",
    "        # добавялем только данные из колонки Username чтобы понять какие логины взломал хакер\n",
    "        data_from_files.append(row['Username'])\n",
    "\n",
    "# запишем данные в другой файл в котором будут содержваться данные по логинам\n",
    "with open('../files/compromised_users.txt', 'w') as f:\n",
    "    for row in data_from_files:\n",
    "        f.write(f'{row}\\n')\n",
    "\n",
    "# Отлично теперь сформируем json файл для начальства\n",
    "import json\n",
    "\n",
    "with open('../files/boss_message.json', 'w') as f:\n",
    "    message = {\n",
    "        'recipient':'The Boss',\n",
    "        'message':'Mission Success'\n",
    "    }\n",
    "    json.dump(message, f, indent=4)"
   ]
  }
 ],
 "metadata": {
  "kernelspec": {
   "display_name": "Python 3",
   "language": "python",
   "name": "python3"
  },
  "language_info": {
   "codemirror_mode": {
    "name": "ipython",
    "version": 3
   },
   "file_extension": ".py",
   "mimetype": "text/x-python",
   "name": "python",
   "nbconvert_exporter": "python",
   "pygments_lexer": "ipython3",
   "version": "3.12.5"
  }
 },
 "nbformat": 4,
 "nbformat_minor": 2
}
