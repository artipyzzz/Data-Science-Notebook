{
 "cells": [
  {
   "cell_type": "markdown",
   "metadata": {},
   "source": [
    "# \\# Комментарии\n",
    "\n",
    "Комментарии являются очень важной частью программирования так как позволяют оставлять важные подсказки о том как работает программа или блок кода.\n",
    "\n",
    "Они очень полезны в случае если над кодом работают несколько программистов и он используется другим пользователем в своем проекте.\n",
    "\n",
    "Для того чтобы оставить комментарий используется символ \"#\""
   ]
  },
  {
   "cell_type": "code",
   "execution_count": null,
   "metadata": {},
   "outputs": [],
   "source": [
    "# Комментарий\n",
    "# Строки комментарии не учитываются при исполнении программы"
   ]
  },
  {
   "cell_type": "markdown",
   "metadata": {},
   "source": [
    "# print()\n",
    "## Вывод результата на экран\n",
    "\n",
    "Для того чтобы вывести на экран результат работы программы используется специальная функция **print()** внутрь которой передаются переменные которые и/или строки которые необходимо отобразить"
   ]
  },
  {
   "cell_type": "code",
   "execution_count": 1,
   "metadata": {},
   "outputs": [
    {
     "name": "stdout",
     "output_type": "stream",
     "text": [
      "Hello World!\n"
     ]
    }
   ],
   "source": [
    "print('Hello World!')"
   ]
  },
  {
   "cell_type": "markdown",
   "metadata": {},
   "source": [
    "# string\n",
    "\n",
    "Тип данных строка, является неизменняемым типом данных и является набором символов"
   ]
  },
  {
   "cell_type": "code",
   "execution_count": 1,
   "metadata": {},
   "outputs": [
    {
     "name": "stdout",
     "output_type": "stream",
     "text": [
      "John\n",
      "John\n",
      "JohnWick\n",
      "\n",
      "Hello world!\n",
      "John Wick\n",
      "\n"
     ]
    }
   ],
   "source": [
    "# 'John' является строковой данной\n",
    "print('John')\n",
    "# Строковые данные могут быть обрамлены в одинарные '' или двойные \"\" кавычки\n",
    "print(\"John\")\n",
    "# Строки также можно складывать между собой, такая операция называются конкатенация\n",
    "print('John' + 'Wick')\n",
    "# Также можно создать многострочную строковую данную для создания используется тройные одинарные ''' или тройные двойные \"\"\" кавычки\n",
    "print('''\n",
    "Hello world!\n",
    "John Wick\n",
    "''')"
   ]
  },
  {
   "cell_type": "markdown",
   "metadata": {},
   "source": [
    "# variables (переменные)\n",
    "\n",
    "Переменные это наименованные ячейки памяти данные внутри которых можно получить путем вызова переменной по имени"
   ]
  },
  {
   "cell_type": "code",
   "execution_count": 2,
   "metadata": {},
   "outputs": [
    {
     "name": "stdout",
     "output_type": "stream",
     "text": [
      "John\n"
     ]
    }
   ],
   "source": [
    "name = 'John'\n",
    "print(name)"
   ]
  },
  {
   "cell_type": "markdown",
   "metadata": {},
   "source": [
    "# Mathematics\n",
    "\n",
    "Математические действия производятся также как и в математике по средствам использования математических действий"
   ]
  },
  {
   "cell_type": "code",
   "execution_count": 10,
   "metadata": {},
   "outputs": [
    {
     "name": "stdout",
     "output_type": "stream",
     "text": [
      "Сложение 2\n",
      "Вычитание 0\n",
      "Умножение 2\n",
      "Деление 1.0\n",
      "Целое от деления 1\n",
      "Остаток от деления 1\n",
      "Возведение в степень 9\n"
     ]
    }
   ],
   "source": [
    "# сложение\n",
    "print('Сложение', 1 + 1)\n",
    "\n",
    "# вычитание\n",
    "print('Вычитание', 1 - 1)\n",
    "\n",
    "# умножение\n",
    "print('Умножение', 2 * 1)\n",
    "\n",
    "# деление\n",
    "print('Деление', 2 / 2)\n",
    "\n",
    "# целое от деленя\n",
    "print('Целое от деления', 3 // 2)\n",
    "\n",
    "# остаток от деления\n",
    "print('Остаток от деления', 3 % 2)\n",
    "\n",
    "# возведения в степень\n",
    "print('Возведение в степень', 3 ** 2)"
   ]
  },
  {
   "cell_type": "code",
   "execution_count": 16,
   "metadata": {},
   "outputs": [
    {
     "name": "stdout",
     "output_type": "stream",
     "text": [
      "Значение переменной a: 1\n",
      "Увеличили на 2: 3\n",
      "Уменьшили на 1: 2\n",
      "Умножили на 2: 4\n",
      "Поделили на 3: 1.3333333333333333\n"
     ]
    }
   ],
   "source": [
    "# краткая запись проведения операции\n",
    "a = 1\n",
    "print(\"Значение переменной a:\", a)\n",
    "a += 2\n",
    "print('Увеличили на 2:', a)\n",
    "a -= 1\n",
    "print(\"Уменьшили на 1:\", a)\n",
    "a *= 2\n",
    "print(\"Умножили на 2:\", a)\n",
    "a /= 3\n",
    "print(\"Поделили на 3:\", a)"
   ]
  }
 ],
 "metadata": {
  "kernelspec": {
   "display_name": "Python 3",
   "language": "python",
   "name": "python3"
  },
  "language_info": {
   "codemirror_mode": {
    "name": "ipython",
    "version": 3
   },
   "file_extension": ".py",
   "mimetype": "text/x-python",
   "name": "python",
   "nbconvert_exporter": "python",
   "pygments_lexer": "ipython3",
   "version": "3.12.5"
  }
 },
 "nbformat": 4,
 "nbformat_minor": 2
}
