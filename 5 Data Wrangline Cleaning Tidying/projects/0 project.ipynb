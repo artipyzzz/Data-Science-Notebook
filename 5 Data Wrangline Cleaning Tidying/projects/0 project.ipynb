{
 "cells": [
  {
   "cell_type": "markdown",
   "metadata": {},
   "source": [
    "# Очистка данных переписи населения США\n",
    "\n",
    "Вас только что приняли на работу на должность аналитика данных в Бюро переписи населения, которое собирает данные переписи и создает на их основе интересные визуализации и аналитические отчеты.\n",
    "\n",
    "Человек, который работал на вашей работе до вас, оставил вас все данные, которые у него были по последней переписи. Они находятся в нескольких *`csv`* файлах. Они не использовали pandas, они просто просматривали эти *`csv`* файлы вручную, когда хотели что-то найти. Иногда они копировали и вставляли определенные числа в Excel, чтобы построить диаграммы.\n",
    "\n",
    "Мысль об этом заставляет вас дрожать. Это не масштабируется и не повторяется.\n",
    "\n",
    "Вам босс хочет, чтобы вы сделали несколько диаграмм рессеяния и гистограмм к концу дня. Можете ли вы привести эти данные в pandas в разумную форму, чтобы вы могли сделать эти гистограммы?\n",
    "\n",
    "## Файлы для работы\n",
    "\n",
    "../files/states*.csv"
   ]
  },
  {
   "cell_type": "code",
   "execution_count": 2,
   "metadata": {},
   "outputs": [
    {
     "name": "stderr",
     "output_type": "stream",
     "text": [
      "Matplotlib is building the font cache; this may take a moment.\n"
     ]
    }
   ],
   "source": [
    "import pandas as pd\n",
    "import matplotlib.pyplot as plt\n",
    "import numpy as np\n",
    "import glob\n"
   ]
  },
  {
   "cell_type": "code",
   "execution_count": 3,
   "metadata": {},
   "outputs": [
    {
     "name": "stdout",
     "output_type": "stream",
     "text": [
      "['./files/states8.csv', './files/states9.csv', './files/states4.csv', './files/states5.csv', './files/states7.csv', './files/states6.csv', './files/states2.csv', './files/states3.csv', './files/states1.csv', './files/states0.csv']\n",
      "   Unnamed: 0           State  TotalPop             Hispanic  \\\n",
      "0           0    Rhode Island   1053661  13.356666666666678%   \n",
      "1           1  South Carolina   4777576   5.056684981684991%   \n",
      "2           2    South Dakota    843190  3.2396396396396376%   \n",
      "3           3       Tennessee   6499615   4.720026972353339%   \n",
      "4           4           Texas  26538614   38.04673809068304%   \n",
      "\n",
      "                 White                Black                Native  \\\n",
      "0   74.32541666666665%    5.68291666666667%   0.3462500000000001%   \n",
      "1  62.888736263736185%   28.75091575091577%   0.2923992673992673%   \n",
      "2   82.50090090090092%  1.4238738738738752%    9.417567567567566%   \n",
      "3   73.49008766014822%  18.283816587997297%  0.22663519892110592%   \n",
      "4  44.687908934379145%   11.65004782858236%  0.26114405969007126%   \n",
      "\n",
      "                 Asian                Pacific               Income  \\\n",
      "0  3.2474999999999983%  0.035833333333333335%  $59125.270833333336   \n",
      "1   1.249175824175822%  0.046978021978021964%  $46296.807763401106   \n",
      "2  1.0193693693693688%   0.04189189189189189%   $51805.40540540541   \n",
      "3  1.4072825354012126%   0.04315576534052599%  $47328.083616587355   \n",
      "4  3.6696958102161825%   0.06881576430074614%  $55874.522600500095   \n",
      "\n",
      "             GenderPop  \n",
      "0      510388M_543273F  \n",
      "1    2322409M_2455167F  \n",
      "2      423477M_419713F  \n",
      "3    3167756M_3331859F  \n",
      "4  13171316M_13367298F  \n",
      "Index(['Unnamed: 0', 'State', 'TotalPop', 'Hispanic', 'White', 'Black',\n",
      "       'Native', 'Asian', 'Pacific', 'Income', 'GenderPop'],\n",
      "      dtype='object')\n",
      "Unnamed: 0     int64\n",
      "State         object\n",
      "TotalPop       int64\n",
      "Hispanic      object\n",
      "White         object\n",
      "Black         object\n",
      "Native        object\n",
      "Asian         object\n",
      "Pacific       object\n",
      "Income        object\n",
      "GenderPop     object\n",
      "dtype: object\n"
     ]
    }
   ],
   "source": [
    "# Запишите список всех файлов в переменную\n",
    "files_list = glob.glob('./files/states*.csv')\n",
    "\n",
    "# посмотрите что сохранилось в переменную\n",
    "print(files_list)\n",
    "\n",
    "# с помощью цикла и pandas соберите всю информацию в одну переменную\n",
    "df_list = [pd.read_csv(file) for file in files_list]\n",
    "us_census = pd.concat(df_list)\n",
    "\n",
    "# выведите первые несколько строк\n",
    "print(us_census.head())\n",
    "\n",
    "# выведите наименования колонок\n",
    "print(us_census.columns)\n",
    "\n",
    "# выведите типы данных\n",
    "print(us_census.dtypes)"
   ]
  },
  {
   "cell_type": "code",
   "execution_count": 4,
   "metadata": {},
   "outputs": [
    {
     "name": "stdout",
     "output_type": "stream",
     "text": [
      "0    59125.270833\n",
      "1    46296.807763\n",
      "2    51805.405405\n",
      "3    47328.083617\n",
      "4    55874.522601\n",
      "Name: Income, dtype: float64\n"
     ]
    }
   ],
   "source": [
    "# используя регулярное выражение преобразуйте столбец Income в формат готовый для преобразоваия в числовой тип\n",
    "us_census.Income = us_census.Income.replace('[$]', '', regex=True)\n",
    "\n",
    "us_census.Income = pd.to_numeric(us_census.Income)\n",
    "\n",
    "print(us_census.Income.head())"
   ]
  },
  {
   "cell_type": "code",
   "execution_count": 5,
   "metadata": {},
   "outputs": [
    {
     "name": "stdout",
     "output_type": "stream",
     "text": [
      "0        510388M_543273F\n",
      "1      2322409M_2455167F\n",
      "2        423477M_419713F\n",
      "3      3167756M_3331859F\n",
      "4    13171316M_13367298F\n",
      "Name: GenderPop, dtype: object\n",
      "   Unnamed: 0           State  TotalPop             Hispanic  \\\n",
      "0           0    Rhode Island   1053661  13.356666666666678%   \n",
      "1           1  South Carolina   4777576   5.056684981684991%   \n",
      "2           2    South Dakota    843190  3.2396396396396376%   \n",
      "3           3       Tennessee   6499615   4.720026972353339%   \n",
      "4           4           Texas  26538614   38.04673809068304%   \n",
      "\n",
      "                 White                Black                Native  \\\n",
      "0   74.32541666666665%    5.68291666666667%   0.3462500000000001%   \n",
      "1  62.888736263736185%   28.75091575091577%   0.2923992673992673%   \n",
      "2   82.50090090090092%  1.4238738738738752%    9.417567567567566%   \n",
      "3   73.49008766014822%  18.283816587997297%  0.22663519892110592%   \n",
      "4  44.687908934379145%   11.65004782858236%  0.26114405969007126%   \n",
      "\n",
      "                 Asian                Pacific        Income  \\\n",
      "0  3.2474999999999983%  0.035833333333333335%  59125.270833   \n",
      "1   1.249175824175822%  0.046978021978021964%  46296.807763   \n",
      "2  1.0193693693693688%   0.04189189189189189%  51805.405405   \n",
      "3  1.4072825354012126%   0.04315576534052599%  47328.083617   \n",
      "4  3.6696958102161825%   0.06881576430074614%  55874.522601   \n",
      "\n",
      "             GenderPop      women        men  \n",
      "0      510388M_543273F    543273F    510388M  \n",
      "1    2322409M_2455167F   2455167F   2322409M  \n",
      "2      423477M_419713F    419713F    423477M  \n",
      "3    3167756M_3331859F   3331859F   3167756M  \n",
      "4  13171316M_13367298F  13367298F  13171316M  \n"
     ]
    }
   ],
   "source": [
    "# посмотрите на GenderPop столбец. Разделите его на два столбца: Men и Women. Воспользуйтесь функцией str.split()\n",
    "print(us_census.GenderPop.head())\n",
    "\n",
    "us_census['women'] = us_census.GenderPop.str.split('_').str.get(1)\n",
    "us_census['men'] = us_census.GenderPop.str.split('_').str.get(0)\n",
    "\n",
    "print(us_census.head())"
   ]
  },
  {
   "cell_type": "code",
   "execution_count": 6,
   "metadata": {},
   "outputs": [
    {
     "name": "stdout",
     "output_type": "stream",
     "text": [
      "   Unnamed: 0           State  TotalPop             Hispanic  \\\n",
      "0           0    Rhode Island   1053661  13.356666666666678%   \n",
      "1           1  South Carolina   4777576   5.056684981684991%   \n",
      "2           2    South Dakota    843190  3.2396396396396376%   \n",
      "3           3       Tennessee   6499615   4.720026972353339%   \n",
      "4           4           Texas  26538614   38.04673809068304%   \n",
      "\n",
      "                 White                Black                Native  \\\n",
      "0   74.32541666666665%    5.68291666666667%   0.3462500000000001%   \n",
      "1  62.888736263736185%   28.75091575091577%   0.2923992673992673%   \n",
      "2   82.50090090090092%  1.4238738738738752%    9.417567567567566%   \n",
      "3   73.49008766014822%  18.283816587997297%  0.22663519892110592%   \n",
      "4  44.687908934379145%   11.65004782858236%  0.26114405969007126%   \n",
      "\n",
      "                 Asian                Pacific        Income  \\\n",
      "0  3.2474999999999983%  0.035833333333333335%  59125.270833   \n",
      "1   1.249175824175822%  0.046978021978021964%  46296.807763   \n",
      "2  1.0193693693693688%   0.04189189189189189%  51805.405405   \n",
      "3  1.4072825354012126%   0.04315576534052599%  47328.083617   \n",
      "4  3.6696958102161825%   0.06881576430074614%  55874.522601   \n",
      "\n",
      "             GenderPop       women       men  \n",
      "0      510388M_543273F    543273.0    510388  \n",
      "1    2322409M_2455167F   2455167.0   2322409  \n",
      "2      423477M_419713F    419713.0    423477  \n",
      "3    3167756M_3331859F   3331859.0   3167756  \n",
      "4  13171316M_13367298F  13367298.0  13171316  \n"
     ]
    }
   ],
   "source": [
    "# преобразуйте данные в новых столбцах таким образом чтобы их тип данных был числовым\n",
    "us_census.men = us_census.men.str.split('M', expand=True)[0]\n",
    "us_census.women = us_census.women.str.split('F', expand=True)[0]\n",
    "\n",
    "us_census.men = pd.to_numeric(us_census.men)\n",
    "us_census.women = pd.to_numeric(us_census.women)\n",
    "\n",
    "print(us_census.head())"
   ]
  },
  {
   "cell_type": "code",
   "execution_count": 7,
   "metadata": {},
   "outputs": [
    {
     "data": {
      "image/png": "[encoded data removed]",
      "text/plain": [
       "<Figure size 640x480 with 1 Axes>"
      ]
     },
     "metadata": {},
     "output_type": "display_data"
    }
   ],
   "source": [
    "# теперь когда у нас есть все необходимые данные в правильном типе можно создавать график рассеяния\n",
    "plt.scatter(us_census.women, us_census.Income)\n",
    "plt.show()"
   ]
  },
  {
   "cell_type": "code",
   "execution_count": 8,
   "metadata": {},
   "outputs": [
    {
     "name": "stdout",
     "output_type": "stream",
     "text": [
      "0   NaN\n",
      "1   NaN\n",
      "5   NaN\n",
      "Name: women, dtype: float64\n"
     ]
    }
   ],
   "source": [
    "# хотелось бы перепроверить свою работу. Вы знаете по опыту, что эти чудовищные файлы CSV, вероятно, содержат NaN значения! Распечатайте свой столбец с числом женщи в каждом штате, чтобы это проверить\n",
    "\n",
    "print(us_census.women[us_census.women.isna()])\n",
    "\n",
    "# заполните эти значения используя метод fillna(). Чтобы заполнить поспользуйтесь колонками TotalPop и men, где women это разница между значениями TotalPop - Men\n",
    "\n",
    "us_census = us_census.fillna(value={'women': us_census.TotalPop - us_census.men})"
   ]
  },
  {
   "cell_type": "code",
   "execution_count": 9,
   "metadata": {},
   "outputs": [
    {
     "name": "stdout",
     "output_type": "stream",
     "text": [
      "Series([], Name: women, dtype: float64)\n"
     ]
    }
   ],
   "source": [
    "# проверим наличие пропущенных данных снова\n",
    "print(us_census.women[us_census.women.isna()])"
   ]
  },
  {
   "cell_type": "code",
   "execution_count": 11,
   "metadata": {},
   "outputs": [
    {
     "data": {
      "text/plain": [
       "False    60\n",
       "Name: count, dtype: int64"
      ]
     },
     "execution_count": 11,
     "metadata": {},
     "output_type": "execute_result"
    }
   ],
   "source": [
    "# мы забыли проверить данные на наличие дубликатов в данных\n",
    "# используйте метод duplicated() чтобы проверить есть ли в DataFrame дублирующиеся строки\n",
    "us_census.duplicated().value_counts()"
   ]
  },
  {
   "cell_type": "code",
   "execution_count": 12,
   "metadata": {},
   "outputs": [
    {
     "data": {
      "text/plain": [
       "False    60\n",
       "Name: count, dtype: int64"
      ]
     },
     "execution_count": 12,
     "metadata": {},
     "output_type": "execute_result"
    }
   ],
   "source": [
    "# удалите дубликаты если они есть с помощью метода drop_duplicates()\n",
    "us_census = us_census.drop_duplicates()\n",
    "\n",
    "# проверьте снова есть ли дубликаты\n",
    "us_census.duplicated().value_counts()"
   ]
  },
  {
   "cell_type": "code",
   "execution_count": 13,
   "metadata": {},
   "outputs": [
    {
     "data": {
      "image/png": "[encoded data removed]",
      "text/plain": [
       "<Figure size 640x480 with 1 Axes>"
      ]
     },
     "metadata": {},
     "output_type": "display_data"
    }
   ],
   "source": [
    "# снова постройте диаграмму рассеивания что нибудь изменилось? стало выглядеть лучше?\n",
    "plt.scatter(us_census.women, us_census.Income)\n",
    "plt.show()"
   ]
  },
  {
   "cell_type": "markdown",
   "metadata": {},
   "source": [
    "## Гистограммы рас\n",
    "\n",
    "Теперь ваш босс хочет, чтобы вы сделали кучу гистограмм из данных о рассах, которые у вас есть. Посмотрите на *`.columns`* снова, чтобы увидеть, какие категории расс есть."
   ]
  },
  {
   "cell_type": "code",
   "execution_count": 14,
   "metadata": {},
   "outputs": [
    {
     "data": {
      "text/plain": [
       "Index(['Unnamed: 0', 'State', 'TotalPop', 'Hispanic', 'White', 'Black',\n",
       "       'Native', 'Asian', 'Pacific', 'Income', 'GenderPop', 'women', 'men'],\n",
       "      dtype='object')"
      ]
     },
     "execution_count": 14,
     "metadata": {},
     "output_type": "execute_result"
    }
   ],
   "source": [
    "us_census.columns"
   ]
  },
  {
   "cell_type": "markdown",
   "metadata": {},
   "source": [
    "Попробуйте построить гистограмму для каждого из них!\n",
    "\n",
    "Вам придется преобразовать толбцы в числовой формат, и эти знаки процентов придется убрать.\n",
    "\n",
    "Не забудьте заполнить *`NaN`* значения чем то, что имеет смысл! Вы вероятно удалили дубликаты строк, когда создавали свой последний график, но не помешает проверить их на наличие снова."
   ]
  },
  {
   "cell_type": "code",
   "execution_count": 15,
   "metadata": {},
   "outputs": [
    {
     "name": "stdout",
     "output_type": "stream",
     "text": [
      "   Unnamed: 0           State  TotalPop             Hispanic  \\\n",
      "0           0    Rhode Island   1053661  13.356666666666678%   \n",
      "1           1  South Carolina   4777576   5.056684981684991%   \n",
      "2           2    South Dakota    843190  3.2396396396396376%   \n",
      "3           3       Tennessee   6499615   4.720026972353339%   \n",
      "4           4           Texas  26538614   38.04673809068304%   \n",
      "\n",
      "                 White                Black                Native  \\\n",
      "0   74.32541666666665%    5.68291666666667%   0.3462500000000001%   \n",
      "1  62.888736263736185%   28.75091575091577%   0.2923992673992673%   \n",
      "2   82.50090090090092%  1.4238738738738752%    9.417567567567566%   \n",
      "3   73.49008766014822%  18.283816587997297%  0.22663519892110592%   \n",
      "4  44.687908934379145%   11.65004782858236%  0.26114405969007126%   \n",
      "\n",
      "                 Asian                Pacific        Income  \\\n",
      "0  3.2474999999999983%  0.035833333333333335%  59125.270833   \n",
      "1   1.249175824175822%  0.046978021978021964%  46296.807763   \n",
      "2  1.0193693693693688%   0.04189189189189189%  51805.405405   \n",
      "3  1.4072825354012126%   0.04315576534052599%  47328.083617   \n",
      "4  3.6696958102161825%   0.06881576430074614%  55874.522601   \n",
      "\n",
      "             GenderPop       women       men  \n",
      "0      510388M_543273F    543273.0    510388  \n",
      "1    2322409M_2455167F   2455167.0   2322409  \n",
      "2      423477M_419713F    419713.0    423477  \n",
      "3    3167756M_3331859F   3331859.0   3167756  \n",
      "4  13171316M_13367298F  13367298.0  13171316  \n"
     ]
    }
   ],
   "source": [
    "print(us_census.head())"
   ]
  },
  {
   "cell_type": "code",
   "execution_count": 18,
   "metadata": {},
   "outputs": [
    {
     "name": "stdout",
     "output_type": "stream",
     "text": [
      "   Unnamed: 0           State  TotalPop   Hispanic      White      Black  \\\n",
      "0           0    Rhode Island   1053661  13.356667  74.325417   5.682917   \n",
      "1           1  South Carolina   4777576   5.056685  62.888736  28.750916   \n",
      "2           2    South Dakota    843190   3.239640  82.500901   1.423874   \n",
      "3           3       Tennessee   6499615   4.720027  73.490088  18.283817   \n",
      "4           4           Texas  26538614  38.046738  44.687909  11.650048   \n",
      "\n",
      "     Native     Asian   Pacific        Income            GenderPop  \\\n",
      "0  0.346250  3.247500  0.035833  59125.270833      510388M_543273F   \n",
      "1  0.292399  1.249176  0.046978  46296.807763    2322409M_2455167F   \n",
      "2  9.417568  1.019369  0.041892  51805.405405      423477M_419713F   \n",
      "3  0.226635  1.407283  0.043156  47328.083617    3167756M_3331859F   \n",
      "4  0.261144  3.669696  0.068816  55874.522601  13171316M_13367298F   \n",
      "\n",
      "        women       men  \n",
      "0    543273.0    510388  \n",
      "1   2455167.0   2322409  \n",
      "2    419713.0    423477  \n",
      "3   3331859.0   3167756  \n",
      "4  13367298.0  13171316  \n",
      "Unnamed: 0      int64\n",
      "State          object\n",
      "TotalPop        int64\n",
      "Hispanic      float64\n",
      "White         float64\n",
      "Black         float64\n",
      "Native        float64\n",
      "Asian         float64\n",
      "Pacific       float64\n",
      "Income        float64\n",
      "GenderPop      object\n",
      "women         float64\n",
      "men             int64\n",
      "dtype: object\n"
     ]
    }
   ],
   "source": [
    "# соберем список наименований расс в отдельную переменную\n",
    "race_list = ['Hispanic','White','Black','Native','Asian','Pacific']\n",
    "\n",
    "# воспользовавшись циклов for пройдем по всем рассам в dataframe и перепишем их значения а также переведем в числовой тип\n",
    "for race in race_list:\n",
    "    us_census[race] = us_census[race].replace('[%$]','',regex=True)\n",
    "    us_census[race] = pd.to_numeric(us_census[race])\n",
    "\n",
    "\n",
    "print(us_census.head())\n",
    "print(us_census.dtypes)"
   ]
  },
  {
   "cell_type": "code",
   "execution_count": 20,
   "metadata": {},
   "outputs": [
    {
     "data": {
      "image/png": "[encoded data removed]",
      "text/plain": [
       "<Figure size 640x480 with 1 Axes>"
      ]
     },
     "metadata": {},
     "output_type": "display_data"
    },
    {
     "data": {
      "image/png": "[encoded data removed]",
      "text/plain": [
       "<Figure size 640x480 with 1 Axes>"
      ]
     },
     "metadata": {},
     "output_type": "display_data"
    },
    {
     "data": {
      "image/png": "[encoded data removed]",
      "text/plain": [
       "<Figure size 640x480 with 1 Axes>"
      ]
     },
     "metadata": {},
     "output_type": "display_data"
    },
    {
     "data": {
      "image/png": "[encoded data removed]",
      "text/plain": [
       "<Figure size 640x480 with 1 Axes>"
      ]
     },
     "metadata": {},
     "output_type": "display_data"
    },
    {
     "data": {
      "image/png": "[encoded data removed]",
      "text/plain": [
       "<Figure size 640x480 with 1 Axes>"
      ]
     },
     "metadata": {},
     "output_type": "display_data"
    },
    {
     "data": {
      "image/png": "[encoded data removed]",
      "text/plain": [
       "<Figure size 640x480 with 1 Axes>"
      ]
     },
     "metadata": {},
     "output_type": "display_data"
    },
    {
     "data": {
      "text/plain": [
       "<Figure size 640x480 with 0 Axes>"
      ]
     },
     "metadata": {},
     "output_type": "display_data"
    }
   ],
   "source": [
    "# построим несколько гистограмм используя цикл for\n",
    "\n",
    "for race in race_list:\n",
    "    plt.hist(us_census[race])\n",
    "    plt.title(race)\n",
    "    plt.show()\n",
    "    plt.clf()"
   ]
  }
 ],
 "metadata": {
  "kernelspec": {
   "display_name": "Python 3",
   "language": "python",
   "name": "python3"
  },
  "language_info": {
   "codemirror_mode": {
    "name": "ipython",
    "version": 3
   },
   "file_extension": ".py",
   "mimetype": "text/x-python",
   "name": "python",
   "nbconvert_exporter": "python",
   "pygments_lexer": "ipython3",
   "version": "3.13.0"
  }
 },
 "nbformat": 4,
 "nbformat_minor": 2
}
