{
 "cells": [
  {
   "cell_type": "markdown",
   "metadata": {},
   "source": [
    "# Как очистить данные с помощью Python\n",
    "\n",
    "## Введение\n",
    "\n",
    "Огромная часть науки о данных включает получение необработанных данных и приведение их в форме, готовую для анализа. Некоторые подсчитали, что специалисты по данным тратят 80% своего времени на очистку и обработку данных и только 20% своего времени на их фактический анализ или построение моделей на их основе.\n",
    "\n",
    "Получив необработанные данные, нам необходимо выполнить ряд действий, прежде чем мы будет готовы их проианализировать, в том числе\n",
    "- Диагностика \"чистоты\" данных - сколько очистки данных нам придется сделать\n",
    "- Изменение формы данных - получение правильных строк и столбцов для эффективного анализа\n",
    "- Изменение типов значений - как мы исправляем столбец, в котором числовые значения храняться в виде строк\n",
    "- Удаление или заполнение пропущенных значений - как мы работаем с неполными или отсутствующими данными\n",
    "- Манипулирование строками для лучше представления данных\n",
    "\n",
    "Мы рассмотрим методы, которые специалисты по обработке данных используют для достижения этих целей, рассмотрев некоторые \"нечистые\" наборы данных и попытавшись привести их в хорошее, чистое состояние"
   ]
  },
  {
   "cell_type": "code",
   "execution_count": 1,
   "metadata": {},
   "outputs": [
    {
     "name": "stdout",
     "output_type": "stream",
     "text": [
      "   Unnamed: 0          full_name gender_age Fractions Probability       grade\n",
      "0           0     Barrett Feragh        M14       76%         72%   9th grade\n",
      "1           1    Llewellyn Keech        M14       83%         87%  12th grade\n",
      "2           2  Delilah Sowthcote        F16       90%         79%  10th grade\n",
      "3           3       Terrell Geri        M15       80%         86%  11th grade\n",
      "4           4     Gram Hallewell        M14       67%         78%  10th grade\n"
     ]
    }
   ],
   "source": [
    "# мы привели пример данных, представляющих результаты экзаменов 1000 студентов онлайн-курса по математике\n",
    "# С этим DataFrames трудно работать. Они разделены на несколько таблиц, и значения плохо поддаются анализу. Попробуйте подумать о том, как бы вы построили график среднего балла жкзамена в зависимости от возраста учеников в классе.\n",
    "# Далее мы попытаемся очистить данные\n",
    "\n",
    "import pandas as pd\n",
    "\n",
    "students0 = pd.read_csv('./files/file0.csv')\n",
    "students1 = pd.read_csv('./files/file1.csv')\n",
    "\n",
    "print(students0.head())"
   ]
  },
  {
   "cell_type": "markdown",
   "metadata": {},
   "source": [
    "## Диагностика данных\n",
    "\n",
    "Мы часто описываем данные, которые легко анализировать и визуализировать, как \"аккуратные данные\". Что значит иметь аккуратные данные?\n",
    "\n",
    "Чтобы данные были аккуратными, они должны иметь:\n",
    "- Каждая переменная как отдельный столбец\n",
    "- Каждая строка как отдельное наблюдение\n",
    "\n",
    "Наприме, нам хотелось бы изменить форму таблицы следующим образом\n",
    "\n",
    "![](./img/1_1.png)\n",
    "\n",
    "В таблицу, которая выглядит примерно так\n",
    "\n",
    "![](./img/1_2.png)\n",
    "\n",
    "Первым шагом диагностики порядка набора данных является использование *`pandas`* функции для его исследования и проверки.\n",
    "\n",
    "Вы видели большинство функций, которые мы часто используем для диагностики набора данных для очистки. Некоторые из самых полезных:\n",
    "- *`.head()`* - отобразит первые N строк. По умолчанию 5\n",
    "- *`.info()`* - отобразит сводную таблицу с общей информацией\n",
    "- *`.describe()`* - отобразит сводную таблицу статистики\n",
    "- *`.columns`* - отобразит названия столбцов таблицы\n",
    "- *`.value_counts()`* - отобразит отдельные значения для столбца"
   ]
  },
  {
   "cell_type": "code",
   "execution_count": 2,
   "metadata": {},
   "outputs": [],
   "source": [
    "# загрузим данные в переменные\n",
    "df1 = pd.read_csv('./files/df1.csv')\n",
    "df2 = pd.read_csv('./files/df2.csv')"
   ]
  },
  {
   "cell_type": "code",
   "execution_count": 3,
   "metadata": {},
   "outputs": [
    {
     "name": "stdout",
     "output_type": "stream",
     "text": [
      "  Grocery Item  Cake Recipe  Pancake Recipe  Cookie Recipe\n",
      "0         Eggs            2               3              1\n",
      "1         Milk            1               2              1\n",
      "2        Flour            2               1              2\n",
      "  Grocery Item          Recipe  Number\n",
      "0         Eggs     Cake Recipe       2\n",
      "1         Milk     Cake Recipe       1\n",
      "2        Flour     Cake Recipe       2\n",
      "3         Eggs  Pancake Recipe       3\n",
      "4         Milk  Pancake Recipe       2\n"
     ]
    }
   ],
   "source": [
    "# выведите на экран первые 5 строк данный наборов\n",
    "print(df1.head())\n",
    "print(df2.head())"
   ]
  },
  {
   "cell_type": "code",
   "execution_count": 5,
   "metadata": {},
   "outputs": [
    {
     "data": {
      "text/html": [
       "<div>\n",
       "<style scoped>\n",
       "    .dataframe tbody tr th:only-of-type {\n",
       "        vertical-align: middle;\n",
       "    }\n",
       "\n",
       "    .dataframe tbody tr th {\n",
       "        vertical-align: top;\n",
       "    }\n",
       "\n",
       "    .dataframe thead th {\n",
       "        text-align: right;\n",
       "    }\n",
       "</style>\n",
       "<table border=\"1\" class=\"dataframe\">\n",
       "  <thead>\n",
       "    <tr style=\"text-align: right;\">\n",
       "      <th></th>\n",
       "      <th>Number</th>\n",
       "    </tr>\n",
       "  </thead>\n",
       "  <tbody>\n",
       "    <tr>\n",
       "      <th>count</th>\n",
       "      <td>9.000000</td>\n",
       "    </tr>\n",
       "    <tr>\n",
       "      <th>mean</th>\n",
       "      <td>1.666667</td>\n",
       "    </tr>\n",
       "    <tr>\n",
       "      <th>std</th>\n",
       "      <td>0.707107</td>\n",
       "    </tr>\n",
       "    <tr>\n",
       "      <th>min</th>\n",
       "      <td>1.000000</td>\n",
       "    </tr>\n",
       "    <tr>\n",
       "      <th>25%</th>\n",
       "      <td>1.000000</td>\n",
       "    </tr>\n",
       "    <tr>\n",
       "      <th>50%</th>\n",
       "      <td>2.000000</td>\n",
       "    </tr>\n",
       "    <tr>\n",
       "      <th>75%</th>\n",
       "      <td>2.000000</td>\n",
       "    </tr>\n",
       "    <tr>\n",
       "      <th>max</th>\n",
       "      <td>3.000000</td>\n",
       "    </tr>\n",
       "  </tbody>\n",
       "</table>\n",
       "</div>"
      ],
      "text/plain": [
       "         Number\n",
       "count  9.000000\n",
       "mean   1.666667\n",
       "std    0.707107\n",
       "min    1.000000\n",
       "25%    1.000000\n",
       "50%    2.000000\n",
       "75%    2.000000\n",
       "max    3.000000"
      ]
     },
     "execution_count": 5,
     "metadata": {},
     "output_type": "execute_result"
    }
   ],
   "source": [
    "# изучите набор данных чтобы определить какой из них больше подходит для анализа и является чистым\n",
    "df2.describe()"
   ]
  },
  {
   "cell_type": "markdown",
   "metadata": {},
   "source": [
    "## Работа с несколькими файлами\n",
    "\n",
    "Часто одни и те же данные хранятся в нескольких файлах.\n",
    "\n",
    "Допустим, у нас есть множество файлов, следующих структуре имени файла: *`file1.csv, file2.csv, file3.csv`* и так далее. Сила Pandas в основном в возможности манипулировать большими объемами структурированных данных. Мы хотим иметь возможность собрать всю необходимую информацию в одну таблицу, чтобы можно было анализировать совокупные данные.\n",
    "\n",
    "Мы можем объединить использование *`glob`* библиотеки Python для работы с файлами с pandas чтобы лучше организовать эти данные. *`glob`* можно открыть несколько файлов, используя сопоставление подстановочных знаков в стиле оболочки, чтобы получить имена файлов\n",
    "\n",
    "```python\n",
    "import glob\n",
    "import pandas as pd\n",
    "\n",
    "files = glob.glob('file*.csv')\n",
    "\n",
    "df_list = []\n",
    "for filename in files:\n",
    "    data = pd.read_csv(filename)\n",
    "    df_list.append(data)\n",
    "\n",
    "df = pd.concat(df_list)\n",
    "\n",
    "print(files)\n",
    "```\n",
    "\n",
    "Этот код проходит по любому файлу, который начинается с *`file`* и имеет расширение *`.csv`*. Он открывает каждый файл, считывает данные в DataFrame, а затем объединяет все эти DataFrame вместе."
   ]
  },
  {
   "cell_type": "code",
   "execution_count": 6,
   "metadata": {},
   "outputs": [
    {
     "name": "stdout",
     "output_type": "stream",
     "text": [
      "['./files\\\\exams0.csv', './files\\\\exams1.csv', './files\\\\exams2.csv', './files\\\\exams3.csv', './files\\\\exams4.csv', './files\\\\exams5.csv', './files\\\\exams6.csv', './files\\\\exams7.csv', './files\\\\exams8.csv', './files\\\\exams9.csv']\n"
     ]
    }
   ],
   "source": [
    "# для проведения практической части в директории files были созданы 10 файлов exams0-9.csv\n",
    "import glob\n",
    "\n",
    "# создаем переменную где будут храниться имена файлов\n",
    "student_files = glob.glob('./files/exams*.csv')\n",
    "\n",
    "# выведем на экран значение переменной\n",
    "print(student_files)"
   ]
  },
  {
   "cell_type": "code",
   "execution_count": 7,
   "metadata": {},
   "outputs": [],
   "source": [
    "# создадим пустой список\n",
    "df_list = []\n",
    "\n",
    "# используя цикл for пройдите по списку имен файлов и создайте из них dataframe-ы\n",
    "for file in student_files:\n",
    "    df_list.append(pd.read_csv(file))"
   ]
  },
  {
   "cell_type": "code",
   "execution_count": 8,
   "metadata": {},
   "outputs": [
    {
     "name": "stdout",
     "output_type": "stream",
     "text": [
      "1000\n",
      "   id        full_name gender_age fractions probability       grade\n",
      "0   0   Barrett Feragh        M14       76%         72%   9th grade\n",
      "1   1  Llewellyn Keech        M14       83%         NaN  12th grade\n",
      "2   2  Llewellyn Keech        M14       83%         NaN  12th grade\n",
      "3   3     Terrell Geri        M15       80%         86%  11th grade\n",
      "4   4   Gram Hallewell        M14       67%         78%  10th grade\n"
     ]
    }
   ],
   "source": [
    "# объедините все dataframe в переменной df_list и запишите результирующее значение в переменную\n",
    "students = pd.concat(df_list)\n",
    "\n",
    "# выведите на экран длину результирующего dataframe-а и несколько его строк\n",
    "print(len(students))\n",
    "print(students.head())"
   ]
  },
  {
   "cell_type": "markdown",
   "metadata": {},
   "source": [
    "## Изменение данных\n",
    "\n",
    "Так как мы хотим\n",
    "- Каждая переменная как отдельный столбец\n",
    "- Каждая строка как отдельное наблюдение\n",
    "\n",
    "Мы хотели бы изменить форму таблицы следующим образом\n",
    "\n",
    "![](./img/1_3.png)\n",
    "\n",
    "В таблицу, которая выглядит примерно так\n",
    "\n",
    "![](./img/1_4.png)\n",
    "\n",
    "*`pd.melt()`* для этого преобразования мы можем использовать *`.melt()`* принимает DataFrame и столбцы для распаковки\n",
    "\n",
    "```python\n",
    "df = pd.melt(frame=df, id_vars=\"Account\", value_vars=[\"Checking\",\"Savings\"], value_name=\"Amount\", var_name=\"Account Type\")\n",
    "```\n",
    "\n",
    "Параметры, которые вы предоставляете\n",
    "- *`frame`*: DataFrame, который вы хотите *`melt`*\n",
    "- *`id_vars`*: столбец(ы) старого DataFrame для сохранения\n",
    "- *`value_vars`*: столбец(ы) старого DataFrame, которые вы хотите превратить в переменные\n",
    "- *`value_name`*: как назвать столбец нового DataFrame, в котором храняться значения\n",
    "- *`var_name`*: как назвать столбец нового DataFrame, в котором храняться переменные\n",
    "\n",
    "Имена по умолчанию могут работать в определенных ситуациях, но лечше всегда иметь данные, которые говорят сами за себя. Таким образом, мы часто используем *`.columns()`* для переименования столбцов после плавления\n",
    "\n",
    "```python\n",
    "df.columns([\"Account\", \"Account Type\", \"Amount\"])\n",
    "```"
   ]
  },
  {
   "cell_type": "code",
   "execution_count": 9,
   "metadata": {},
   "outputs": [
    {
     "name": "stdout",
     "output_type": "stream",
     "text": [
      "           full_name gender_age fractions probability       grade\n",
      "0     Moses Kirckman        M14       69%         89%  11th grade\n",
      "1    Timofei Strowan        M18       63%         76%  11th grade\n",
      "2       Silvain Poll        M18       69%         77%   9th grade\n",
      "3     Lezley Pinxton        M18       NaN         72%  11th grade\n",
      "4  Bernadene Saunper        F17       72%         84%  11th grade\n"
     ]
    }
   ],
   "source": [
    "# для выполнения практической работы воспользуйтесь наборов данных files/students.csv\n",
    "# возьмите от туда только некоторые солбцы 'full_name', 'gender_age','fractions','probability','grade'\n",
    "\n",
    "# загружаем данные из файла\n",
    "students = pd.read_csv('./files/students.csv')\n",
    "students = students[['full_name', 'gender_age','fractions','probability','grade']]\n",
    "\n",
    "# выведем часть данных на экран\n",
    "print(students.head())"
   ]
  },
  {
   "cell_type": "markdown",
   "metadata": {},
   "source": [
    "в наборе данных есть два столбца fractions и probabilities данные столбцы содержат информацию по оценке за экзамен\n",
    "\n",
    "необходимо сделать каждую строку наблюдением, поэтому мы хотим преобразовать эту таблицу так, чтобы она выглядела следующим образом\n",
    "\n",
    "![](./img/1_5.png)\n",
    "\n",
    "Используйте *`pd.melt()`* для создания новой таблицы (все еще называемой students), которая следует этой структуре."
   ]
  },
  {
   "cell_type": "code",
   "execution_count": 11,
   "metadata": {},
   "outputs": [
    {
     "name": "stdout",
     "output_type": "stream",
     "text": [
      "              full_name gender_age       grade         exam score\n",
      "0        Moses Kirckman        M14  11th grade    fractions   69%\n",
      "1       Timofei Strowan        M18  11th grade    fractions   63%\n",
      "2          Silvain Poll        M18   9th grade    fractions   69%\n",
      "3        Lezley Pinxton        M18  11th grade    fractions   NaN\n",
      "4     Bernadene Saunper        F17  11th grade    fractions   72%\n",
      "...                 ...        ...         ...          ...   ...\n",
      "1995     Wilie Stillert        F14   9th grade  probability   69%\n",
      "1996     Gertie Flicker        F15  11th grade  probability   86%\n",
      "1997       Yettie Labes        F14  12th grade  probability   82%\n",
      "1998     Lock McGuinley        M18  10th grade  probability   84%\n",
      "1999       Bebe Lebbern        F15  12th grade  probability   91%\n",
      "\n",
      "[2000 rows x 5 columns]\n"
     ]
    }
   ],
   "source": [
    "students = pd.melt(frame=students, id_vars=['full_name','gender_age','grade'], value_vars=['fractions', 'probability'], value_name='score', var_name='exam')\n",
    "print(students)"
   ]
  },
  {
   "cell_type": "markdown",
   "metadata": {},
   "source": [
    "## Работа с дублями\n",
    "\n",
    "Часто мы видим дублирующиеся строки данных в DataFrames, с которыми работаем. Это может произойти из-за ошибки в сборе данных или в сохранении и загрузке данных.\n",
    "\n",
    "Для проверки на наличие дубликатов мы можем использовать функцию pandas *`.duplicated()`*, которая вернет ряд, сообщающий нам, какие строки являются дубликатами.\n",
    "\n",
    "Допустим, у нас есть DataFrame *`fruits`*, представляющий эту таблицу\n",
    "\n",
    "![](./img/1_6.png)\n",
    "\n",
    "Если мы вызовем *`fruits.duplicated()`*, то получим следующую таблицу\n",
    "\n",
    "![](./img/1_7.png)\n",
    "\n",
    "Мы видим, что строка 2, которая представляет собой *`'apple'`* с ценой *`'$0.75'`* и 95 калориями, является дублирующей строкой. Каждое значение в этой строке такое же, как и в другой строке.\n",
    "\n",
    "Мы можем использоват функцию pandas *`.drop_duplicates()`* для удаления всех строк, которые являются дубликатами другой строки.\n",
    "\n",
    "Если мы вызовем *`friuts.drop_duplicates()`*, то получим таблицу\n",
    "\n",
    "![](./img/1_8.png)\n",
    "\n",
    "Строка *`'apple'`* была удалена, потому что она была точно такой же, как другая строка. Но две *`'peach'`* строки остались, потому что есть разница в столбце цены.\n",
    "\n",
    "Если бы мы хотели удалить все строки с повторяющимся значеиям в столбце элемента, мы могли бы указать *`subset`*:\n",
    "\n",
    "```python\n",
    "fruits = fruits.drop_duplicates(subset=['item'])\n",
    "```\n",
    "\n",
    "По умолчанию сохраняется первое вхождение дубликата\n",
    "\n",
    "![](./img/1_9.png)\n",
    "\n",
    "Убедитесь, что столбцы, их которых вы удаляете дубликаты, - это именно те, где дубликаты не должны быть. *`price`* Например, вам не захочется удалять дубликаты, если столбец является подмножеством, потому что это нормально, если несколько стоваров стоят одинаково."
   ]
  },
  {
   "cell_type": "code",
   "execution_count": null,
   "metadata": {},
   "outputs": [
    {
     "name": "stdout",
     "output_type": "stream",
     "text": [
      "False    1976\n",
      "True       24\n",
      "Name: count, dtype: int64\n"
     ]
    }
   ],
   "source": [
    "# Похоже что в процессе сбора данных некоторые строки могла быть записаны дважды. Используйте .duplicated() функцию на students DataFrame, чтобы создать объект Series с именем duplicates.\n",
    "\n",
    "duplicates = students.duplicated()\n",
    "\n",
    "# распечатайте .value_counts() чтобы увидеть сколько строк являются точными дубликатами\n",
    "print(duplicates.value_counts())"
   ]
  },
  {
   "cell_type": "code",
   "execution_count": 14,
   "metadata": {},
   "outputs": [],
   "source": [
    "# перезапишите значение переменной students в котором не будут храниться дубликаты\n",
    "students = students.drop_duplicates()"
   ]
  },
  {
   "cell_type": "code",
   "execution_count": 15,
   "metadata": {},
   "outputs": [
    {
     "name": "stdout",
     "output_type": "stream",
     "text": [
      "False    1976\n",
      "Name: count, dtype: int64\n"
     ]
    }
   ],
   "source": [
    "# проверьте есть ли дубликаты теперь\n",
    "print(students.duplicated().value_counts())"
   ]
  },
  {
   "cell_type": "markdown",
   "metadata": {},
   "source": [
    "## Разделение по индексу\n",
    "\n",
    "В попытке получить чистые данные мы хотим убедиться, что каждый столбец представляет один тип измерения. Часто в одном столбце записывается несколько измерений, и мы хотим разделить их, чтобы можно было провести индивидуальный анализ каждой переменной.\n",
    "\n",
    "Допустим у нас есть столбец \"день рождения\" с данными в формате ММДДГГГ. Другими словами \"11011993\" представляет день рождения 1 ноября 1993 года. Мы хотим разделить эти данные на день, месяц и год, чтобы можно было использовать эти столбцы как отдельные признаки.\n",
    "\n",
    "В этом случае мы значем точную структуру этих строк. Первые два символа всегда будут соответствовать месяцу, вторые два - дню, а остальная часть строки всегда будет соответствовать году. Мы можем легко разбить данные на три отдельных столбцы, разделив строки с помощью *`.str`*:\n",
    "\n",
    "```python\n",
    "# Create the 'month' column\n",
    "df['month'] = df.birthday.str[0:2]\n",
    "\n",
    "# Create the 'day' column\n",
    "df['day'] = df.birthday.str[2:4]\n",
    "\n",
    "# Create the 'year' column\n",
    "df['year'] = df.birthday.str[4:]\n",
    "```\n",
    "\n",
    "Первая команда берет вервые два символа каждого значения в *`birthday`* столбце и помещает их в *`month`* столбец. Вторая команда берет вторые два символа каждого значения в столбце и помещает их в *`day`* столбец. Третья команда берет остаток каждого значения в *`birthday`* столбце и помещает их в *`year`* столбец.\n",
    "\n",
    "Это преобразует следующую таблицу\n",
    "\n",
    "![](./img/1_10.png)\n",
    "\n",
    "В таблицу типа\n",
    "\n",
    "![](./img/1_11.png)"
   ]
  },
  {
   "cell_type": "code",
   "execution_count": null,
   "metadata": {},
   "outputs": [
    {
     "name": "stdout",
     "output_type": "stream",
     "text": [
      "Index(['full_name', 'gender_age', 'grade', 'exam', 'score'], dtype='object')\n"
     ]
    }
   ],
   "source": [
    "# распечатайте столбцы DataFrame students\n",
    "print(students.columns)"
   ]
  },
  {
   "cell_type": "code",
   "execution_count": 19,
   "metadata": {},
   "outputs": [
    {
     "name": "stdout",
     "output_type": "stream",
     "text": [
      "           full_name gender_age       grade       exam score\n",
      "0     Moses Kirckman        M14  11th grade  fractions   69%\n",
      "1    Timofei Strowan        M18  11th grade  fractions   63%\n",
      "2       Silvain Poll        M18   9th grade  fractions   69%\n",
      "3     Lezley Pinxton        M18  11th grade  fractions   NaN\n",
      "4  Bernadene Saunper        F17  11th grade  fractions   72%\n"
     ]
    }
   ],
   "source": [
    "# похоже что столбец gender_age содержит информацию о gender и age\n",
    "# распечатайте пару строк набора \n",
    "print(students.head())"
   ]
  },
  {
   "cell_type": "code",
   "execution_count": 24,
   "metadata": {},
   "outputs": [
    {
     "name": "stdout",
     "output_type": "stream",
     "text": [
      "           full_name gender_age       grade       exam score gender\n",
      "0     Moses Kirckman        M14  11th grade  fractions   69%      M\n",
      "1    Timofei Strowan        M18  11th grade  fractions   63%      M\n",
      "2       Silvain Poll        M18   9th grade  fractions   69%      M\n",
      "3     Lezley Pinxton        M18  11th grade  fractions   NaN      M\n",
      "4  Bernadene Saunper        F17  11th grade  fractions   72%      F\n"
     ]
    }
   ],
   "source": [
    "# давайте создадим новый столбец и назовем его gender который будет хранить первый символ столбца gender_age\n",
    "students['gender'] = students.gender_age.str[0]\n",
    "\n",
    "# выведем на экран результат\n",
    "print(students.head())"
   ]
  },
  {
   "cell_type": "code",
   "execution_count": 25,
   "metadata": {},
   "outputs": [
    {
     "name": "stdout",
     "output_type": "stream",
     "text": [
      "           full_name gender_age       grade       exam score gender age\n",
      "0     Moses Kirckman        M14  11th grade  fractions   69%      M  14\n",
      "1    Timofei Strowan        M18  11th grade  fractions   63%      M  18\n",
      "2       Silvain Poll        M18   9th grade  fractions   69%      M  18\n",
      "3     Lezley Pinxton        M18  11th grade  fractions   NaN      M  18\n",
      "4  Bernadene Saunper        F17  11th grade  fractions   72%      F  17\n"
     ]
    }
   ],
   "source": [
    "# теперь выделим значение age из столбца gender_age\n",
    "students['age'] = students.gender_age.str[1:]\n",
    "\n",
    "print(students.head())"
   ]
  },
  {
   "cell_type": "code",
   "execution_count": 26,
   "metadata": {},
   "outputs": [
    {
     "data": {
      "text/plain": [
       "['full_name', 'gender_age', 'grade', 'exam', 'score', 'gender', 'age']"
      ]
     },
     "execution_count": 26,
     "metadata": {},
     "output_type": "execute_result"
    }
   ],
   "source": [
    "list(students.columns)"
   ]
  },
  {
   "cell_type": "code",
   "execution_count": 27,
   "metadata": {},
   "outputs": [],
   "source": [
    "# теперь колонка gender_age нам не нужна пересоберите dataframe без колонки gender_age\n",
    "students = students[['full_name', 'grade', 'exam', 'score', 'gender', 'age']]"
   ]
  },
  {
   "cell_type": "markdown",
   "metadata": {},
   "source": [
    "## Разделение по символам\n",
    "\n",
    "Допустим, у нас есть столбец под названием \"тип\" с записями данных в формате *`\"admin_US\"`* или *`\"user_Kenya\"`*. Как мы уже видели, этот столбец на самом деле содержит два типа данных. Один, похоже, тип пользователя (со значениями вроде \"администратор\" или \"пользователь\"), а другой, похоже, страна, в которой находится этот пользователь (со значениями вроде \"США\" или \"Кения\").\n",
    "\n",
    "Мы больше не можем просто разделить по первым 4 символам, потому что *`admin`* и *`user`* имеют разную длину. Вместо этого мы знаем, что хотим разделить по *`\"_\"`*. Используя это, мы можем разделить этот столбец на два отдельных, более чистых столбца:\n",
    "\n",
    "```python\n",
    "# Split the string and save it as `string_split`\n",
    "string_split = df['type'].str.split('_')\n",
    " \n",
    "# Create the 'usertype' column\n",
    "df['usertype'] = string_split.str.get(0)\n",
    " \n",
    "# Create the 'country' column\n",
    "df['country'] = string_split.str.get(1)\n",
    "```\n",
    "\n",
    "Это преобразует следующую таблицу\n",
    "\n",
    "![](./img/1_12.png)\n",
    "\n",
    "В таблицу типа\n",
    "\n",
    "![](./img/1_13.png)"
   ]
  },
  {
   "cell_type": "code",
   "execution_count": 28,
   "metadata": {},
   "outputs": [
    {
     "name": "stdout",
     "output_type": "stream",
     "text": [
      "0          [Moses, Kirckman]\n",
      "1         [Timofei, Strowan]\n",
      "2            [Silvain, Poll]\n",
      "3          [Lezley, Pinxton]\n",
      "4       [Bernadene, Saunper]\n",
      "                ...         \n",
      "1995       [Wilie, Stillert]\n",
      "1996       [Gertie, Flicker]\n",
      "1997         [Yettie, Labes]\n",
      "1998       [Lock, McGuinley]\n",
      "1999         [Bebe, Lebbern]\n",
      "Name: full_name, Length: 1976, dtype: object\n"
     ]
    }
   ],
   "source": [
    "# имена студентов храняться в столбце под названием full_name\n",
    "# разделите данные на два новых столбца first_name и last_name\n",
    "# для начала создайте объект класса series с именем name_split и разделите данные в столбец по \" \"\n",
    "name_split = students.full_name.str.split(' ')\n",
    "\n",
    "print(name_split)"
   ]
  },
  {
   "cell_type": "code",
   "execution_count": null,
   "metadata": {},
   "outputs": [
    {
     "name": "stdout",
     "output_type": "stream",
     "text": [
      "           full_name       grade       exam score gender age first_name\n",
      "0     Moses Kirckman  11th grade  fractions   69%      M  14      Moses\n",
      "1    Timofei Strowan  11th grade  fractions   63%      M  18    Timofei\n",
      "2       Silvain Poll   9th grade  fractions   69%      M  18    Silvain\n",
      "3     Lezley Pinxton  11th grade  fractions   NaN      M  18     Lezley\n",
      "4  Bernadene Saunper  11th grade  fractions   72%      F  17  Bernadene\n"
     ]
    }
   ],
   "source": [
    "# теперь создайте столбец с именем first_name, который будет содержать первый элемент name_split\n",
    "students['first_name'] = name_split.str.get(0)\n",
    "\n",
    "print(students.head())"
   ]
  },
  {
   "cell_type": "code",
   "execution_count": 33,
   "metadata": {},
   "outputs": [
    {
     "name": "stdout",
     "output_type": "stream",
     "text": [
      "           full_name       grade       exam score gender age first_name  \\\n",
      "0     Moses Kirckman  11th grade  fractions   69%      M  14      Moses   \n",
      "1    Timofei Strowan  11th grade  fractions   63%      M  18    Timofei   \n",
      "2       Silvain Poll   9th grade  fractions   69%      M  18    Silvain   \n",
      "3     Lezley Pinxton  11th grade  fractions   NaN      M  18     Lezley   \n",
      "4  Bernadene Saunper  11th grade  fractions   72%      F  17  Bernadene   \n",
      "\n",
      "  last_name  \n",
      "0  Kirckman  \n",
      "1   Strowan  \n",
      "2      Poll  \n",
      "3   Pinxton  \n",
      "4   Saunper  \n"
     ]
    }
   ],
   "source": [
    "# теперь создайте столбец с именем last_name, который будет содержать второй элемент name_split\n",
    "students['last_name'] = name_split.str.get(1)\n",
    "\n",
    "print(students.head())"
   ]
  },
  {
   "cell_type": "markdown",
   "metadata": {},
   "source": [
    "## Рассматриваем типы\n",
    "\n",
    "Каждый столбец DataFrame может содержать элементы одного и того же *`типа данных`* или *`dtype`*. Типы dtype, которые использует pandas, следующие: float, int, bool, datetime, timedelta, categiry и object. Чтобы увидеть типы каждого столбца DataFrame, мы можем использовать `print(df.dtypes)`\n",
    "\n",
    "Для такого DataFrame\n",
    "\n",
    "![](./img/1_14.png)\n",
    "\n",
    "Атрибут *`.dtypes`* будет\n",
    "\n",
    "```text\n",
    "item        object\n",
    "price       object\n",
    "calories     int64\n",
    "dtype: object\n",
    "```\n",
    "\n",
    "Мы видим, что сам *`dtype`* атрибут *`dtypes`* - это *`object`*! Это *`Series`* объект, с которым вы уже работали. Объекты Series составляют все DataFrames.\n",
    "\n",
    "Мы видим, что *`price`* столбец состоит из *`object`*s, что, вероятно, затрудник наш анализ цены. Мы рассмотрим, как преобразовать столбцы в числовые значения в следующих нескольких упражнениях."
   ]
  },
  {
   "cell_type": "code",
   "execution_count": 34,
   "metadata": {},
   "outputs": [
    {
     "name": "stdout",
     "output_type": "stream",
     "text": [
      "full_name     object\n",
      "grade         object\n",
      "exam          object\n",
      "score         object\n",
      "gender        object\n",
      "age           object\n",
      "first_name    object\n",
      "last_name     object\n",
      "dtype: object\n"
     ]
    }
   ],
   "source": [
    "# давайте рассмотрим dtypes в students таблице. \n",
    "# распечатайте атрибут dtypes\n",
    "print(students.dtypes)"
   ]
  },
  {
   "cell_type": "code",
   "execution_count": 35,
   "metadata": {},
   "outputs": [
    {
     "ename": "TypeError",
     "evalue": "can only concatenate str (not \"int\") to str",
     "output_type": "error",
     "traceback": [
      "\u001b[1;31m---------------------------------------------------------------------------\u001b[0m",
      "\u001b[1;31mTypeError\u001b[0m                                 Traceback (most recent call last)",
      "Cell \u001b[1;32mIn[35], line 3\u001b[0m\n\u001b[0;32m      1\u001b[0m \u001b[38;5;66;03m# Если бы мы захотели построить диаграмму рассеяния age по сравнению со средним баллом за экзамен, смогли бы мы сделать это с помощью такого типа данных?\u001b[39;00m\n\u001b[0;32m      2\u001b[0m \u001b[38;5;66;03m# Попробуйте распечатать среднее значение score столбца students\u001b[39;00m\n\u001b[1;32m----> 3\u001b[0m \u001b[38;5;28mprint\u001b[39m(\u001b[43mstudents\u001b[49m\u001b[38;5;241;43m.\u001b[39;49m\u001b[43mscore\u001b[49m\u001b[38;5;241;43m.\u001b[39;49m\u001b[43mmean\u001b[49m\u001b[43m(\u001b[49m\u001b[43m)\u001b[49m)\n",
      "File \u001b[1;32mc:\\Users\\valeriyk1402\\AppData\\Local\\Programs\\Python\\Python312\\Lib\\site-packages\\pandas\\core\\series.py:6549\u001b[0m, in \u001b[0;36mSeries.mean\u001b[1;34m(self, axis, skipna, numeric_only, **kwargs)\u001b[0m\n\u001b[0;32m   6541\u001b[0m \u001b[38;5;129m@doc\u001b[39m(make_doc(\u001b[38;5;124m\"\u001b[39m\u001b[38;5;124mmean\u001b[39m\u001b[38;5;124m\"\u001b[39m, ndim\u001b[38;5;241m=\u001b[39m\u001b[38;5;241m1\u001b[39m))\n\u001b[0;32m   6542\u001b[0m \u001b[38;5;28;01mdef\u001b[39;00m \u001b[38;5;21mmean\u001b[39m(\n\u001b[0;32m   6543\u001b[0m     \u001b[38;5;28mself\u001b[39m,\n\u001b[1;32m   (...)\u001b[0m\n\u001b[0;32m   6547\u001b[0m     \u001b[38;5;241m*\u001b[39m\u001b[38;5;241m*\u001b[39mkwargs,\n\u001b[0;32m   6548\u001b[0m ):\n\u001b[1;32m-> 6549\u001b[0m     \u001b[38;5;28;01mreturn\u001b[39;00m \u001b[43mNDFrame\u001b[49m\u001b[38;5;241;43m.\u001b[39;49m\u001b[43mmean\u001b[49m\u001b[43m(\u001b[49m\u001b[38;5;28;43mself\u001b[39;49m\u001b[43m,\u001b[49m\u001b[43m \u001b[49m\u001b[43maxis\u001b[49m\u001b[43m,\u001b[49m\u001b[43m \u001b[49m\u001b[43mskipna\u001b[49m\u001b[43m,\u001b[49m\u001b[43m \u001b[49m\u001b[43mnumeric_only\u001b[49m\u001b[43m,\u001b[49m\u001b[43m \u001b[49m\u001b[38;5;241;43m*\u001b[39;49m\u001b[38;5;241;43m*\u001b[39;49m\u001b[43mkwargs\u001b[49m\u001b[43m)\u001b[49m\n",
      "File \u001b[1;32mc:\\Users\\valeriyk1402\\AppData\\Local\\Programs\\Python\\Python312\\Lib\\site-packages\\pandas\\core\\generic.py:12420\u001b[0m, in \u001b[0;36mNDFrame.mean\u001b[1;34m(self, axis, skipna, numeric_only, **kwargs)\u001b[0m\n\u001b[0;32m  12413\u001b[0m \u001b[38;5;28;01mdef\u001b[39;00m \u001b[38;5;21mmean\u001b[39m(\n\u001b[0;32m  12414\u001b[0m     \u001b[38;5;28mself\u001b[39m,\n\u001b[0;32m  12415\u001b[0m     axis: Axis \u001b[38;5;241m|\u001b[39m \u001b[38;5;28;01mNone\u001b[39;00m \u001b[38;5;241m=\u001b[39m \u001b[38;5;241m0\u001b[39m,\n\u001b[1;32m   (...)\u001b[0m\n\u001b[0;32m  12418\u001b[0m     \u001b[38;5;241m*\u001b[39m\u001b[38;5;241m*\u001b[39mkwargs,\n\u001b[0;32m  12419\u001b[0m ) \u001b[38;5;241m-\u001b[39m\u001b[38;5;241m>\u001b[39m Series \u001b[38;5;241m|\u001b[39m \u001b[38;5;28mfloat\u001b[39m:\n\u001b[1;32m> 12420\u001b[0m     \u001b[38;5;28;01mreturn\u001b[39;00m \u001b[38;5;28;43mself\u001b[39;49m\u001b[38;5;241;43m.\u001b[39;49m\u001b[43m_stat_function\u001b[49m\u001b[43m(\u001b[49m\n\u001b[0;32m  12421\u001b[0m \u001b[43m        \u001b[49m\u001b[38;5;124;43m\"\u001b[39;49m\u001b[38;5;124;43mmean\u001b[39;49m\u001b[38;5;124;43m\"\u001b[39;49m\u001b[43m,\u001b[49m\u001b[43m \u001b[49m\u001b[43mnanops\u001b[49m\u001b[38;5;241;43m.\u001b[39;49m\u001b[43mnanmean\u001b[49m\u001b[43m,\u001b[49m\u001b[43m \u001b[49m\u001b[43maxis\u001b[49m\u001b[43m,\u001b[49m\u001b[43m \u001b[49m\u001b[43mskipna\u001b[49m\u001b[43m,\u001b[49m\u001b[43m \u001b[49m\u001b[43mnumeric_only\u001b[49m\u001b[43m,\u001b[49m\u001b[43m \u001b[49m\u001b[38;5;241;43m*\u001b[39;49m\u001b[38;5;241;43m*\u001b[39;49m\u001b[43mkwargs\u001b[49m\n\u001b[0;32m  12422\u001b[0m \u001b[43m    \u001b[49m\u001b[43m)\u001b[49m\n",
      "File \u001b[1;32mc:\\Users\\valeriyk1402\\AppData\\Local\\Programs\\Python\\Python312\\Lib\\site-packages\\pandas\\core\\generic.py:12377\u001b[0m, in \u001b[0;36mNDFrame._stat_function\u001b[1;34m(self, name, func, axis, skipna, numeric_only, **kwargs)\u001b[0m\n\u001b[0;32m  12373\u001b[0m nv\u001b[38;5;241m.\u001b[39mvalidate_func(name, (), kwargs)\n\u001b[0;32m  12375\u001b[0m validate_bool_kwarg(skipna, \u001b[38;5;124m\"\u001b[39m\u001b[38;5;124mskipna\u001b[39m\u001b[38;5;124m\"\u001b[39m, none_allowed\u001b[38;5;241m=\u001b[39m\u001b[38;5;28;01mFalse\u001b[39;00m)\n\u001b[1;32m> 12377\u001b[0m \u001b[38;5;28;01mreturn\u001b[39;00m \u001b[38;5;28;43mself\u001b[39;49m\u001b[38;5;241;43m.\u001b[39;49m\u001b[43m_reduce\u001b[49m\u001b[43m(\u001b[49m\n\u001b[0;32m  12378\u001b[0m \u001b[43m    \u001b[49m\u001b[43mfunc\u001b[49m\u001b[43m,\u001b[49m\u001b[43m \u001b[49m\u001b[43mname\u001b[49m\u001b[38;5;241;43m=\u001b[39;49m\u001b[43mname\u001b[49m\u001b[43m,\u001b[49m\u001b[43m \u001b[49m\u001b[43maxis\u001b[49m\u001b[38;5;241;43m=\u001b[39;49m\u001b[43maxis\u001b[49m\u001b[43m,\u001b[49m\u001b[43m \u001b[49m\u001b[43mskipna\u001b[49m\u001b[38;5;241;43m=\u001b[39;49m\u001b[43mskipna\u001b[49m\u001b[43m,\u001b[49m\u001b[43m \u001b[49m\u001b[43mnumeric_only\u001b[49m\u001b[38;5;241;43m=\u001b[39;49m\u001b[43mnumeric_only\u001b[49m\n\u001b[0;32m  12379\u001b[0m \u001b[43m\u001b[49m\u001b[43m)\u001b[49m\n",
      "File \u001b[1;32mc:\\Users\\valeriyk1402\\AppData\\Local\\Programs\\Python\\Python312\\Lib\\site-packages\\pandas\\core\\series.py:6457\u001b[0m, in \u001b[0;36mSeries._reduce\u001b[1;34m(self, op, name, axis, skipna, numeric_only, filter_type, **kwds)\u001b[0m\n\u001b[0;32m   6452\u001b[0m     \u001b[38;5;66;03m# GH#47500 - change to TypeError to match other methods\u001b[39;00m\n\u001b[0;32m   6453\u001b[0m     \u001b[38;5;28;01mraise\u001b[39;00m \u001b[38;5;167;01mTypeError\u001b[39;00m(\n\u001b[0;32m   6454\u001b[0m         \u001b[38;5;124mf\u001b[39m\u001b[38;5;124m\"\u001b[39m\u001b[38;5;124mSeries.\u001b[39m\u001b[38;5;132;01m{\u001b[39;00mname\u001b[38;5;132;01m}\u001b[39;00m\u001b[38;5;124m does not allow \u001b[39m\u001b[38;5;132;01m{\u001b[39;00mkwd_name\u001b[38;5;132;01m}\u001b[39;00m\u001b[38;5;124m=\u001b[39m\u001b[38;5;132;01m{\u001b[39;00mnumeric_only\u001b[38;5;132;01m}\u001b[39;00m\u001b[38;5;124m \u001b[39m\u001b[38;5;124m\"\u001b[39m\n\u001b[0;32m   6455\u001b[0m         \u001b[38;5;124m\"\u001b[39m\u001b[38;5;124mwith non-numeric dtypes.\u001b[39m\u001b[38;5;124m\"\u001b[39m\n\u001b[0;32m   6456\u001b[0m     )\n\u001b[1;32m-> 6457\u001b[0m \u001b[38;5;28;01mreturn\u001b[39;00m \u001b[43mop\u001b[49m\u001b[43m(\u001b[49m\u001b[43mdelegate\u001b[49m\u001b[43m,\u001b[49m\u001b[43m \u001b[49m\u001b[43mskipna\u001b[49m\u001b[38;5;241;43m=\u001b[39;49m\u001b[43mskipna\u001b[49m\u001b[43m,\u001b[49m\u001b[43m \u001b[49m\u001b[38;5;241;43m*\u001b[39;49m\u001b[38;5;241;43m*\u001b[39;49m\u001b[43mkwds\u001b[49m\u001b[43m)\u001b[49m\n",
      "File \u001b[1;32mc:\\Users\\valeriyk1402\\AppData\\Local\\Programs\\Python\\Python312\\Lib\\site-packages\\pandas\\core\\nanops.py:147\u001b[0m, in \u001b[0;36mbottleneck_switch.__call__.<locals>.f\u001b[1;34m(values, axis, skipna, **kwds)\u001b[0m\n\u001b[0;32m    145\u001b[0m         result \u001b[38;5;241m=\u001b[39m alt(values, axis\u001b[38;5;241m=\u001b[39maxis, skipna\u001b[38;5;241m=\u001b[39mskipna, \u001b[38;5;241m*\u001b[39m\u001b[38;5;241m*\u001b[39mkwds)\n\u001b[0;32m    146\u001b[0m \u001b[38;5;28;01melse\u001b[39;00m:\n\u001b[1;32m--> 147\u001b[0m     result \u001b[38;5;241m=\u001b[39m \u001b[43malt\u001b[49m\u001b[43m(\u001b[49m\u001b[43mvalues\u001b[49m\u001b[43m,\u001b[49m\u001b[43m \u001b[49m\u001b[43maxis\u001b[49m\u001b[38;5;241;43m=\u001b[39;49m\u001b[43maxis\u001b[49m\u001b[43m,\u001b[49m\u001b[43m \u001b[49m\u001b[43mskipna\u001b[49m\u001b[38;5;241;43m=\u001b[39;49m\u001b[43mskipna\u001b[49m\u001b[43m,\u001b[49m\u001b[43m \u001b[49m\u001b[38;5;241;43m*\u001b[39;49m\u001b[38;5;241;43m*\u001b[39;49m\u001b[43mkwds\u001b[49m\u001b[43m)\u001b[49m\n\u001b[0;32m    149\u001b[0m \u001b[38;5;28;01mreturn\u001b[39;00m result\n",
      "File \u001b[1;32mc:\\Users\\valeriyk1402\\AppData\\Local\\Programs\\Python\\Python312\\Lib\\site-packages\\pandas\\core\\nanops.py:404\u001b[0m, in \u001b[0;36m_datetimelike_compat.<locals>.new_func\u001b[1;34m(values, axis, skipna, mask, **kwargs)\u001b[0m\n\u001b[0;32m    401\u001b[0m \u001b[38;5;28;01mif\u001b[39;00m datetimelike \u001b[38;5;129;01mand\u001b[39;00m mask \u001b[38;5;129;01mis\u001b[39;00m \u001b[38;5;28;01mNone\u001b[39;00m:\n\u001b[0;32m    402\u001b[0m     mask \u001b[38;5;241m=\u001b[39m isna(values)\n\u001b[1;32m--> 404\u001b[0m result \u001b[38;5;241m=\u001b[39m \u001b[43mfunc\u001b[49m\u001b[43m(\u001b[49m\u001b[43mvalues\u001b[49m\u001b[43m,\u001b[49m\u001b[43m \u001b[49m\u001b[43maxis\u001b[49m\u001b[38;5;241;43m=\u001b[39;49m\u001b[43maxis\u001b[49m\u001b[43m,\u001b[49m\u001b[43m \u001b[49m\u001b[43mskipna\u001b[49m\u001b[38;5;241;43m=\u001b[39;49m\u001b[43mskipna\u001b[49m\u001b[43m,\u001b[49m\u001b[43m \u001b[49m\u001b[43mmask\u001b[49m\u001b[38;5;241;43m=\u001b[39;49m\u001b[43mmask\u001b[49m\u001b[43m,\u001b[49m\u001b[43m \u001b[49m\u001b[38;5;241;43m*\u001b[39;49m\u001b[38;5;241;43m*\u001b[39;49m\u001b[43mkwargs\u001b[49m\u001b[43m)\u001b[49m\n\u001b[0;32m    406\u001b[0m \u001b[38;5;28;01mif\u001b[39;00m datetimelike:\n\u001b[0;32m    407\u001b[0m     result \u001b[38;5;241m=\u001b[39m _wrap_results(result, orig_values\u001b[38;5;241m.\u001b[39mdtype, fill_value\u001b[38;5;241m=\u001b[39miNaT)\n",
      "File \u001b[1;32mc:\\Users\\valeriyk1402\\AppData\\Local\\Programs\\Python\\Python312\\Lib\\site-packages\\pandas\\core\\nanops.py:719\u001b[0m, in \u001b[0;36mnanmean\u001b[1;34m(values, axis, skipna, mask)\u001b[0m\n\u001b[0;32m    716\u001b[0m     dtype_count \u001b[38;5;241m=\u001b[39m dtype\n\u001b[0;32m    718\u001b[0m count \u001b[38;5;241m=\u001b[39m _get_counts(values\u001b[38;5;241m.\u001b[39mshape, mask, axis, dtype\u001b[38;5;241m=\u001b[39mdtype_count)\n\u001b[1;32m--> 719\u001b[0m the_sum \u001b[38;5;241m=\u001b[39m \u001b[43mvalues\u001b[49m\u001b[38;5;241;43m.\u001b[39;49m\u001b[43msum\u001b[49m\u001b[43m(\u001b[49m\u001b[43maxis\u001b[49m\u001b[43m,\u001b[49m\u001b[43m \u001b[49m\u001b[43mdtype\u001b[49m\u001b[38;5;241;43m=\u001b[39;49m\u001b[43mdtype_sum\u001b[49m\u001b[43m)\u001b[49m\n\u001b[0;32m    720\u001b[0m the_sum \u001b[38;5;241m=\u001b[39m _ensure_numeric(the_sum)\n\u001b[0;32m    722\u001b[0m \u001b[38;5;28;01mif\u001b[39;00m axis \u001b[38;5;129;01mis\u001b[39;00m \u001b[38;5;129;01mnot\u001b[39;00m \u001b[38;5;28;01mNone\u001b[39;00m \u001b[38;5;129;01mand\u001b[39;00m \u001b[38;5;28mgetattr\u001b[39m(the_sum, \u001b[38;5;124m\"\u001b[39m\u001b[38;5;124mndim\u001b[39m\u001b[38;5;124m\"\u001b[39m, \u001b[38;5;28;01mFalse\u001b[39;00m):\n",
      "File \u001b[1;32mc:\\Users\\valeriyk1402\\AppData\\Local\\Programs\\Python\\Python312\\Lib\\site-packages\\numpy\\_core\\_methods.py:53\u001b[0m, in \u001b[0;36m_sum\u001b[1;34m(a, axis, dtype, out, keepdims, initial, where)\u001b[0m\n\u001b[0;32m     51\u001b[0m \u001b[38;5;28;01mdef\u001b[39;00m \u001b[38;5;21m_sum\u001b[39m(a, axis\u001b[38;5;241m=\u001b[39m\u001b[38;5;28;01mNone\u001b[39;00m, dtype\u001b[38;5;241m=\u001b[39m\u001b[38;5;28;01mNone\u001b[39;00m, out\u001b[38;5;241m=\u001b[39m\u001b[38;5;28;01mNone\u001b[39;00m, keepdims\u001b[38;5;241m=\u001b[39m\u001b[38;5;28;01mFalse\u001b[39;00m,\n\u001b[0;32m     52\u001b[0m          initial\u001b[38;5;241m=\u001b[39m_NoValue, where\u001b[38;5;241m=\u001b[39m\u001b[38;5;28;01mTrue\u001b[39;00m):\n\u001b[1;32m---> 53\u001b[0m     \u001b[38;5;28;01mreturn\u001b[39;00m \u001b[43mumr_sum\u001b[49m\u001b[43m(\u001b[49m\u001b[43ma\u001b[49m\u001b[43m,\u001b[49m\u001b[43m \u001b[49m\u001b[43maxis\u001b[49m\u001b[43m,\u001b[49m\u001b[43m \u001b[49m\u001b[43mdtype\u001b[49m\u001b[43m,\u001b[49m\u001b[43m \u001b[49m\u001b[43mout\u001b[49m\u001b[43m,\u001b[49m\u001b[43m \u001b[49m\u001b[43mkeepdims\u001b[49m\u001b[43m,\u001b[49m\u001b[43m \u001b[49m\u001b[43minitial\u001b[49m\u001b[43m,\u001b[49m\u001b[43m \u001b[49m\u001b[43mwhere\u001b[49m\u001b[43m)\u001b[49m\n",
      "\u001b[1;31mTypeError\u001b[0m: can only concatenate str (not \"int\") to str"
     ]
    }
   ],
   "source": [
    "# Если бы мы захотели построить диаграмму рассеяния age по сравнению со средним баллом за экзамен, смогли бы мы сделать это с помощью такого типа данных?\n",
    "# Попробуйте распечатать среднее значение score столбца students\n",
    "print(students.score.mean())"
   ]
  },
  {
   "cell_type": "markdown",
   "metadata": {},
   "source": [
    "## Анализ строк\n",
    "\n",
    "Иногда нам нужно изменить строки в наших DataFrames, чтобы преобразовать их в более значимые метрики. Например, в нашей таблице фруктов из предыдущего примера\n",
    "\n",
    "![](./img/1_15.png)\n",
    "\n",
    "Мы видим, что *`'price'`* столбец на самом деле состоит из строк, представляющих суммы в долларах. Этот столбец можно было бы гораздо лушче представить в числах с плавающей точкой, чтобы мы могли взять среднее значение, рассчитать другие соповкупные статистики или сравнить разные фрукты друг с другом по цене\n",
    "\n",
    "Во-первых, мы можем использовать то, что знаем о регулярных выражениях, чтобы избавиться от всех знаков доллара\n",
    "\n",
    "```python\n",
    "friut.price = fruit['price'].replace('[\\$,]', '', regex=True)\n",
    "```\n",
    "\n",
    "Затем мы можем спользовать функцию pandas *`.to_numeric()`* для преобразования строк, содержащих числовые значения, в целые числа или числа с плавающей точкой\n",
    "\n",
    "```python\n",
    "fruit.price = pd.to_numeric(fruit.price)\n",
    "```\n",
    "\n",
    "Теперь у нас есть DataFrame, который выглядит следующим образом\n",
    "\n",
    "![](./img/1_16.png)"
   ]
  },
  {
   "cell_type": "code",
   "execution_count": 36,
   "metadata": {},
   "outputs": [
    {
     "name": "stdout",
     "output_type": "stream",
     "text": [
      "0        69\n",
      "1        63\n",
      "2        69\n",
      "3       NaN\n",
      "4        72\n",
      "       ... \n",
      "1995     69\n",
      "1996     86\n",
      "1997     82\n",
      "1998     84\n",
      "1999     91\n",
      "Name: score, Length: 1976, dtype: object\n"
     ]
    }
   ],
   "source": [
    "# в последнем управжении мы увидели, что найти среднее значение столбца score сложно, если данные храняться в виде object символов, а не чисел.\n",
    "# Используйте регулярное выражения, чтобы убрать значи % из score столбца\n",
    "students.score = students['score'].replace('[%]', '', regex=True)\n",
    "print(students.score)"
   ]
  },
  {
   "cell_type": "code",
   "execution_count": null,
   "metadata": {},
   "outputs": [
    {
     "name": "stdout",
     "output_type": "stream",
     "text": [
      "           full_name       grade       exam  score gender age first_name  \\\n",
      "0     Moses Kirckman  11th grade  fractions   69.0      M  14      Moses   \n",
      "1    Timofei Strowan  11th grade  fractions   63.0      M  18    Timofei   \n",
      "2       Silvain Poll   9th grade  fractions   69.0      M  18    Silvain   \n",
      "3     Lezley Pinxton  11th grade  fractions    NaN      M  18     Lezley   \n",
      "4  Bernadene Saunper  11th grade  fractions   72.0      F  17  Bernadene   \n",
      "\n",
      "  last_name  \n",
      "0  Kirckman  \n",
      "1   Strowan  \n",
      "2      Poll  \n",
      "3   Pinxton  \n",
      "4   Saunper  \n"
     ]
    }
   ],
   "source": [
    "# преобразуйте score столбец в числовой тип с помощью pd.to_numeric() функции\n",
    "students.score = pd.to_numeric(students.score)\n",
    "\n",
    "print(students.head())"
   ]
  },
  {
   "cell_type": "markdown",
   "metadata": {},
   "source": [
    "## Больше разбора строк\n",
    "\n",
    "Иногда мы хотим провести анализ чисел, скрытых в строковых значениях. Мы можем использовать regex для извлечения этих числовых данных из строк, в которых они заключены. Предположим, у нас есть этот DataFrame, *`df`* представляющий режим тренировки\n",
    "\n",
    "![](./img/1_17.png)\n",
    "\n",
    "Было бы полезно разделить данные *`\"30 lunges\"`* на два столбца с кол-ом повторений, *`\"30\"`* и типом упражнения, *`\"lunges\"`*. Затем мы могли бы сравнить увеличение кол-ва выполненных выпадов с течением времени.\n",
    "\n",
    "Для извлечения чисел из строки мы можем использовать *`.str.split()`* функцию pandas:\n",
    "\n",
    "```python\n",
    "split_df = df['exerciseDescription'].str.split('(\\d+)', expand=True)\n",
    "```\n",
    "\n",
    "что приведет к такому DataFrame *`split_df`*:\n",
    "\n",
    "![](./img/1_18.png)\n",
    "\n",
    "Затем мы можем назначить столбцы из этого DataFrame исходному *`df`*:\n",
    "\n",
    "```python\n",
    "df.reps = pd.to_numeric(split_df[1])\n",
    "df.exercise = split_df[0].replace('[\\- ]', '', regex=True)\n",
    "```\n",
    "\n",
    "Теперь ваш *`df`* вид выглядит так\n",
    "\n",
    "![](./img/1_19.png)"
   ]
  },
  {
   "cell_type": "code",
   "execution_count": 38,
   "metadata": {},
   "outputs": [
    {
     "name": "stdout",
     "output_type": "stream",
     "text": [
      "0    11th grade\n",
      "1    11th grade\n",
      "2     9th grade\n",
      "3    11th grade\n",
      "4    11th grade\n",
      "Name: grade, dtype: object\n"
     ]
    }
   ],
   "source": [
    "# распечатайте первые несколько строк столбца grade students таблицы\n",
    "print(students.grade.head())"
   ]
  },
  {
   "cell_type": "code",
   "execution_count": 42,
   "metadata": {},
   "outputs": [
    {
     "name": "stdout",
     "output_type": "stream",
     "text": [
      "              full_name grade         exam  score gender age first_name  \\\n",
      "0        Moses Kirckman    11    fractions   69.0      M  14      Moses   \n",
      "1       Timofei Strowan    11    fractions   63.0      M  18    Timofei   \n",
      "2          Silvain Poll     9    fractions   69.0      M  18    Silvain   \n",
      "3        Lezley Pinxton    11    fractions    NaN      M  18     Lezley   \n",
      "4     Bernadene Saunper    11    fractions   72.0      F  17  Bernadene   \n",
      "...                 ...   ...          ...    ...    ...  ..        ...   \n",
      "1995     Wilie Stillert     9  probability   69.0      F  14      Wilie   \n",
      "1996     Gertie Flicker    11  probability   86.0      F  15     Gertie   \n",
      "1997       Yettie Labes    12  probability   82.0      F  14     Yettie   \n",
      "1998     Lock McGuinley    10  probability   84.0      M  18       Lock   \n",
      "1999       Bebe Lebbern    12  probability   91.0      F  15       Bebe   \n",
      "\n",
      "      last_name  \n",
      "0      Kirckman  \n",
      "1       Strowan  \n",
      "2          Poll  \n",
      "3       Pinxton  \n",
      "4       Saunper  \n",
      "...         ...  \n",
      "1995   Stillert  \n",
      "1996    Flicker  \n",
      "1997      Labes  \n",
      "1998  McGuinley  \n",
      "1999    Lebbern  \n",
      "\n",
      "[1976 rows x 8 columns]\n"
     ]
    },
    {
     "name": "stderr",
     "output_type": "stream",
     "text": [
      "<>:5: SyntaxWarning: invalid escape sequence '\\d'\n",
      "<>:5: SyntaxWarning: invalid escape sequence '\\d'\n",
      "C:\\Users\\valeriyk1402\\AppData\\Local\\Temp\\ipykernel_6004\\1905602869.py:5: SyntaxWarning: invalid escape sequence '\\d'\n",
      "  students['grade'] = students['grade'].str.split('(\\d+)', expand=True)[1]\n"
     ]
    }
   ],
   "source": [
    "# как можно заметить каждое значение столбца состоит из чисел и нескольких слов\n",
    "# давайте сократим это до простой числовой оценки. Возможно, мы хотим сделать линейную регрессию на этих данных, что потребует числовых входных данных.\n",
    "# Используйте регулярное выражение для извлечения числа из каждой строки grade и сохранения этих значений обратно в grade столбец.\n",
    "\n",
    "students['grade'] = students['grade'].str.split('(\\d+)', expand=True)[1]\n",
    "\n",
    "print(students)"
   ]
  },
  {
   "cell_type": "code",
   "execution_count": 43,
   "metadata": {},
   "outputs": [
    {
     "name": "stdout",
     "output_type": "stream",
     "text": [
      "full_name      object\n",
      "grade          object\n",
      "exam           object\n",
      "score         float64\n",
      "gender         object\n",
      "age            object\n",
      "first_name     object\n",
      "last_name      object\n",
      "dtype: object\n"
     ]
    }
   ],
   "source": [
    "# распечатайте типы данных таблицы students\n",
    "print(students.dtypes)"
   ]
  },
  {
   "cell_type": "code",
   "execution_count": 44,
   "metadata": {},
   "outputs": [],
   "source": [
    "# преобразуйте тип данных столбца grade в числовое представление\n",
    "students.grade = pd.to_numeric(students.grade)"
   ]
  },
  {
   "cell_type": "code",
   "execution_count": 45,
   "metadata": {},
   "outputs": [
    {
     "name": "stdout",
     "output_type": "stream",
     "text": [
      "10.620445344129555\n"
     ]
    }
   ],
   "source": [
    "# вычислите среднее значение столбца grade и сохраниете значение в переменную\n",
    "avg_grade = students.grade.mean()\n",
    "print(avg_grade)"
   ]
  },
  {
   "cell_type": "markdown",
   "metadata": {},
   "source": [
    "## Отсутствующие значения\n",
    "\n",
    "У нас часто есть данные с отсутствующими элементами, как результат проблемы с процессом сбора данных или ошибок в способе хранения данных. Отсутствующие элементы обычно отображаются как *`NaN`* (или не число) значения\n",
    "\n",
    "![](./img/1_20.png)\n",
    "\n",
    "Значение *`num_guests`* для 3-й строки отсутствует, а *`bill`* значение для 5-й строки. Некоторые вычисления, которые мы делаем, просто пропускают *`NaN`* значения, но некоторые вычисления или визуализации, которые мы пытаемся выоплнить, прерываются при обнаружении значения *`NaN`*\n",
    "\n",
    "В большинстве случаев мы используем один из двух методов для решения проблемы пропущенных значений\n",
    "\n",
    "### Метод 1: удалить все строки с отсутствующими\n",
    "\n",
    "*`.dropna()`* для этого мы можем использовать указанный метод\n",
    "\n",
    "```python\n",
    "bill_df = bill_df.gropna()\n",
    "```\n",
    "\n",
    "Это команда создаст DataFrame без неполных строк\n",
    "\n",
    "![](./img/1_21.png)\n",
    "\n",
    "Если бы мы хотели удалить все строки со *`NaN`* значеним только в столбце *`num_guests`*, мы могли бы указать *`subset`*\n",
    "\n",
    "```python\n",
    "bill_df = bill_df.dropna(subset=['num_guests'])\n",
    "```\n",
    "\n",
    "### Метод 2: заполните пропущенные значения средним значеним столбца или каким-либо другим сокупным значением\n",
    "\n",
    "*`.fillna()`* для этого используется такой метод\n",
    "\n",
    "```python\n",
    "bill_df = bill_df.fillna(value={'bill':bill_df.bill.mean(), 'num_guests':bill_df.num_guests.mean()})\n",
    "```\n",
    "\n",
    "Эта команда приведет к созданию DataFrame с соответствующим средним значеним столбца на месте исходного *`NaN`*\n",
    "\n",
    "![](./img/1_22.png)"
   ]
  },
  {
   "cell_type": "code",
   "execution_count": 46,
   "metadata": {},
   "outputs": [
    {
     "name": "stdout",
     "output_type": "stream",
     "text": [
      "77.69657422512235\n"
     ]
    }
   ],
   "source": [
    "# Получите среднее значение столбца оценок. Сохраните его score_mean и распечатайте\n",
    "score_mean = students.score.mean()\n",
    "\n",
    "print(score_mean)"
   ]
  },
  {
   "cell_type": "code",
   "execution_count": 48,
   "metadata": {},
   "outputs": [
    {
     "name": "stdout",
     "output_type": "stream",
     "text": [
      "              full_name  grade         exam  score gender age first_name  \\\n",
      "0        Moses Kirckman     11    fractions   69.0      M  14      Moses   \n",
      "1       Timofei Strowan     11    fractions   63.0      M  18    Timofei   \n",
      "2          Silvain Poll      9    fractions   69.0      M  18    Silvain   \n",
      "3        Lezley Pinxton     11    fractions    0.0      M  18     Lezley   \n",
      "4     Bernadene Saunper     11    fractions   72.0      F  17  Bernadene   \n",
      "...                 ...    ...          ...    ...    ...  ..        ...   \n",
      "1995     Wilie Stillert      9  probability   69.0      F  14      Wilie   \n",
      "1996     Gertie Flicker     11  probability   86.0      F  15     Gertie   \n",
      "1997       Yettie Labes     12  probability   82.0      F  14     Yettie   \n",
      "1998     Lock McGuinley     10  probability   84.0      M  18       Lock   \n",
      "1999       Bebe Lebbern     12  probability   91.0      F  15       Bebe   \n",
      "\n",
      "      last_name  \n",
      "0      Kirckman  \n",
      "1       Strowan  \n",
      "2          Poll  \n",
      "3       Pinxton  \n",
      "4       Saunper  \n",
      "...         ...  \n",
      "1995   Stillert  \n",
      "1996    Flicker  \n",
      "1997      Labes  \n",
      "1998  McGuinley  \n",
      "1999    Lebbern  \n",
      "\n",
      "[1976 rows x 8 columns]\n"
     ]
    }
   ],
   "source": [
    "# Предположим, что все, у кого нет баллов за экзамен, пропустили тест. Мы хотим заменить все NaN на балл 0. Давайте сделаем это со столбцов score\n",
    "\n",
    "students.score = students.score.fillna(value=0)\n",
    "\n",
    "print(students)"
   ]
  },
  {
   "cell_type": "code",
   "execution_count": 49,
   "metadata": {},
   "outputs": [
    {
     "name": "stdout",
     "output_type": "stream",
     "text": [
      "72.30971659919028\n"
     ]
    }
   ],
   "source": [
    "# снова расчитайте среднее значение и сохраните значение в переменную score_mean_2\n",
    "\n",
    "score_mean_2 = students.score.mean()\n",
    "\n",
    "print(score_mean_2)"
   ]
  }
 ],
 "metadata": {
  "kernelspec": {
   "display_name": "Python 3",
   "language": "python",
   "name": "python3"
  },
  "language_info": {
   "codemirror_mode": {
    "name": "ipython",
    "version": 3
   },
   "file_extension": ".py",
   "mimetype": "text/x-python",
   "name": "python",
   "nbconvert_exporter": "python",
   "pygments_lexer": "ipython3",
   "version": "3.12.5"
  }
 },
 "nbformat": 4,
 "nbformat_minor": 2
}
