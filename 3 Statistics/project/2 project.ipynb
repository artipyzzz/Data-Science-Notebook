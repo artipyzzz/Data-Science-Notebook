{
 "cells": [
  {
   "cell_type": "markdown",
   "metadata": {},
   "source": [
    "# Описание проекта\n",
    "## Исследование заболеваний сердца\n",
    "\n",
    "В этом проекте мы изучим некоторые данные из выборки пациентов, который были обследованы на предмет заболеваний сердца. Данные были загружены и затем очищены для анализа.\n",
    "\n",
    "../files/heart_disease.csv"
   ]
  },
  {
   "cell_type": "code",
   "execution_count": 1,
   "metadata": {},
   "outputs": [
    {
     "name": "stdout",
     "output_type": "stream",
     "text": [
      "    age     sex  trestbps   chol                cp  exang  fbs  thalach  \\\n",
      "0  63.0    male     145.0  233.0    typical angina    0.0  1.0    150.0   \n",
      "1  67.0    male     160.0  286.0      asymptomatic    1.0  0.0    108.0   \n",
      "2  67.0    male     120.0  229.0      asymptomatic    1.0  0.0    129.0   \n",
      "3  37.0    male     130.0  250.0  non-anginal pain    0.0  0.0    187.0   \n",
      "4  41.0  female     130.0  204.0   atypical angina    0.0  0.0    172.0   \n",
      "\n",
      "  heart_disease  \n",
      "0       absence  \n",
      "1      presence  \n",
      "2      presence  \n",
      "3       absence  \n",
      "4       absence  \n"
     ]
    }
   ],
   "source": [
    "import pandas as pd\n",
    "import numpy as np\n",
    "\n",
    "# загрузим данные в переменную heart\n",
    "heart = pd.read_csv('../files/heart_disease.csv')\n",
    "\n",
    "# выведем несколько строк данных\n",
    "print(heart.head())"
   ]
  },
  {
   "cell_type": "code",
   "execution_count": 2,
   "metadata": {},
   "outputs": [],
   "source": [
    "# разделите данные на две подгруппы\n",
    "# yes_hd и no_hd по колонке heart_disease\n",
    "yes_hd = heart[heart.heart_disease == 'presence']\n",
    "no_hd = heart[heart.heart_disease == 'absence']"
   ]
  },
  {
   "cell_type": "markdown",
   "metadata": {},
   "source": [
    "Немного информации о наборе данных\n",
    "- chol - сывороточный холестерин в мг/дл\n",
    "- fbs - индикатор того, превышает ли уровень сахара в крови натощак 120 мг/дл (1 = правда, 0 = ложь)"
   ]
  },
  {
   "cell_type": "code",
   "execution_count": null,
   "metadata": {},
   "outputs": [
    {
     "name": "stdout",
     "output_type": "stream",
     "text": [
      "251.4748201438849\n"
     ]
    }
   ],
   "source": [
    "# для начала исследуйте уровень холестерина у пациентов с сердечными заболеваниями. Используйте набор данных, yes_hd чтобы сохранить уровень холестерина у пациентов с сердечными заболеваниями в качестве переменной с именем chol_hd\n",
    "\n",
    "chol_hd = yes_hd.chol\n",
    "\n",
    "# рассчитайте средний уровень холестерина у пациентов с сердечными заболеваниями и выведите значение на экран\n",
    "print(np.mean(chol_hd))"
   ]
  },
  {
   "cell_type": "markdown",
   "metadata": {},
   "source": [
    "Высоки уровень холестерина в крови считается от уровня 240 мг/дл\n",
    "\n",
    "Судя по полученному результату среднее значение холестерина в крови у пациентов с сердечными заболеваниями больше порогового"
   ]
  },
  {
   "cell_type": "code",
   "execution_count": 7,
   "metadata": {},
   "outputs": [
    {
     "data": {
      "text/plain": [
       "TtestResult(statistic=np.float64(2.7337803003099808), pvalue=np.float64(0.0035411033905155707), df=np.int64(138))"
      ]
     },
     "execution_count": 7,
     "metadata": {},
     "output_type": "execute_result"
    }
   ],
   "source": [
    "# ответте на вопрос: имеют ли люди с сердечными заболеваниями в среднем высокий уровень холестерина (больше или равный 240 мг/дл)?\n",
    "# для того чтобы ответить на вопрос воспользуйтесь библиотекой scipy\n",
    "import scipy.stats as stats\n",
    "\n",
    "# Null: У людей с сердечными заболеваниями средний уровень холестерина составляет 240 мг/дл\n",
    "# Alter: у людей с заболеваниями сердца средний уровень холестерина превышает 240 мг/дл\n",
    "\n",
    "p_value = stats.ttest_1samp(chol_hd, 240, alternative='greater')\n",
    "p_value"
   ]
  },
  {
   "cell_type": "code",
   "execution_count": 8,
   "metadata": {},
   "outputs": [
    {
     "name": "stdout",
     "output_type": "stream",
     "text": [
      "TtestResult(statistic=np.float64(0.6325062182479374), pvalue=np.float64(0.26397120232220506), df=np.int64(163))\n"
     ]
    }
   ],
   "source": [
    "# рассчитайте тот же показатель для выборки данных из пациентов которые не имеют сердечных заболеваний\n",
    "p_value = stats.ttest_1samp(no_hd.chol, 240, alternative='greater')\n",
    "\n",
    "print(p_value)"
   ]
  },
  {
   "cell_type": "code",
   "execution_count": 9,
   "metadata": {},
   "outputs": [
    {
     "name": "stdout",
     "output_type": "stream",
     "text": [
      "303\n"
     ]
    }
   ],
   "source": [
    "# вернемся к полному набору данных heart\n",
    "# сколько пациентов в данном наборе сохраните значение в переменную num_patients и выведите на экран\n",
    "num_patients = len(heart)\n",
    "\n",
    "print(num_patients)"
   ]
  },
  {
   "cell_type": "code",
   "execution_count": 10,
   "metadata": {},
   "outputs": [
    {
     "name": "stdout",
     "output_type": "stream",
     "text": [
      "45\n"
     ]
    }
   ],
   "source": [
    "# Помните что колонка fbs показывает превышаел ли уровень сахара в крови пациента натощак 120 мг/дг.\n",
    "# 1 означает что сахар в крови на тощак был выше 120 мг/дл\n",
    "# 0 означает что сахар в крови на тощак был ниже 120 мг/дл\n",
    "\n",
    "# Посчитайте кол-во пациентов у которых уровень сахара в крови на тощак был больше 120 сохраните данное значение в переменной num_highfbs_patients\n",
    "num_highfbs_patients = np.sum(heart.fbs == 1)\n",
    "\n",
    "print(num_highfbs_patients)"
   ]
  },
  {
   "cell_type": "code",
   "execution_count": null,
   "metadata": {},
   "outputs": [
    {
     "name": "stdout",
     "output_type": "stream",
     "text": [
      "24.240000000000002\n"
     ]
    }
   ],
   "source": [
    "# если верить анализу на 1988 год то около 8% населения страны страдало диабетом\n",
    "# рассчитайте ожидаемое значение согласно анализу 1988 года и нашим данным выведите данное числоа на экран\n",
    "print(len(heart) * .08)"
   ]
  },
  {
   "cell_type": "markdown",
   "metadata": {},
   "source": [
    "Получается что ожидаемое значение согласно анализу 1988 года равно 24 людям из 303."
   ]
  },
  {
   "cell_type": "code",
   "execution_count": 12,
   "metadata": {},
   "outputs": [
    {
     "data": {
      "text/plain": [
       "BinomTestResult(k=45, n=303, alternative='greater', statistic=0.1485148514851485, pvalue=4.689471951448875e-05)"
      ]
     },
     "execution_count": 12,
     "metadata": {},
     "output_type": "execute_result"
    }
   ],
   "source": [
    "# проведите биноминальное тестирование\n",
    "stats.binomtest(num_highfbs_patients, num_patients, .08, alternative='greater')"
   ]
  }
 ],
 "metadata": {
  "kernelspec": {
   "display_name": "Python 3",
   "language": "python",
   "name": "python3"
  },
  "language_info": {
   "codemirror_mode": {
    "name": "ipython",
    "version": 3
   },
   "file_extension": ".py",
   "mimetype": "text/x-python",
   "name": "python",
   "nbconvert_exporter": "python",
   "pygments_lexer": "ipython3",
   "version": "3.12.5"
  }
 },
 "nbformat": 4,
 "nbformat_minor": 2
}
