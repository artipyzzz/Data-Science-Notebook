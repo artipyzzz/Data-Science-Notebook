{
 "cells": [
  {
   "cell_type": "markdown",
   "metadata": {},
   "source": [
    "# Описание\n",
    "\n",
    "Выполним проект на проверку усвоенных знаний\n",
    "\n",
    "Представьте что вы отвечаете за мониторинг кол-ва бракованной продукции с конкретного завода. Вам сказали, что кол-во дефектов в определенный день соответствует распределению Пуассона с параметром ламбда равной 7. Вы здесь новичок, поэтому хотите понять, что значит следовать распределению Пуассона(7). Вы помните что распределение Пуассона является особенным, поскольку параметр скорости представляет ожидаемое значение распределение.\n",
    "\n",
    "Для выполнения задания будет создан отдельный метод для формирования гистограм"
   ]
  },
  {
   "cell_type": "code",
   "execution_count": 2,
   "metadata": {},
   "outputs": [],
   "source": [
    "import matplotlib.pyplot as plt\n",
    "import numpy as np\n",
    "\n",
    "def histogram_function(rand_vars):\n",
    "    plt.hist(rand_vars, bins = np.arange(len(set(rand_vars)))-0.5, edgecolor = \"black\")\n",
    "    plt.xticks(list(range(rand_vars.max())))\n",
    "    plt.show()"
   ]
  },
  {
   "cell_type": "code",
   "execution_count": 3,
   "metadata": {},
   "outputs": [],
   "source": [
    "# создайте переменную lam которая будет представлять ожидаемое значение распределения Пуассона\n",
    "lam = 7"
   ]
  },
  {
   "cell_type": "code",
   "execution_count": 6,
   "metadata": {},
   "outputs": [
    {
     "name": "stdout",
     "output_type": "stream",
     "text": [
      "0.14900277967433773\n"
     ]
    }
   ],
   "source": [
    "# расчитайте вероятность обнаружения 7 деффектных деталей в определнный день\n",
    "import scipy.stats as st\n",
    "\n",
    "print(st.poisson.pmf(lam, lam))"
   ]
  },
  {
   "cell_type": "code",
   "execution_count": null,
   "metadata": {},
   "outputs": [
    {
     "name": "stdout",
     "output_type": "stream",
     "text": [
      "0.17299160788207146\n"
     ]
    }
   ],
   "source": [
    "# вам известно что если деталей будет 4 или меньше то такой день считается отличным днем\n",
    "# рассчитайте вероятность\n",
    "print(st.poisson.cdf(4, 7))"
   ]
  },
  {
   "cell_type": "code",
   "execution_count": 8,
   "metadata": {},
   "outputs": [
    {
     "name": "stdout",
     "output_type": "stream",
     "text": [
      "0.1695040627613268\n"
     ]
    }
   ],
   "source": [
    "# Если деталей 9 и более то такой день считается плохим\n",
    "print(1 - st.poisson.cdf(9, 7))"
   ]
  },
  {
   "cell_type": "code",
   "execution_count": 9,
   "metadata": {},
   "outputs": [],
   "source": [
    "# создайте переменную которая будет содержать набор случайных данных согласно распределению Пуассона с ожидаемым значением lam\n",
    "# сохраните данный набор в переменную year_defects\n",
    "\n",
    "year_defects = st.poisson.rvs(lam, size = 365)"
   ]
  },
  {
   "cell_type": "code",
   "execution_count": 10,
   "metadata": {},
   "outputs": [
    {
     "data": {
      "text/plain": [
       "array([ 6, 13,  6,  9,  5,  8,  5,  6,  7, 13,  2,  6,  5,  3,  8,  2, 10,\n",
       "        2,  5, 10])"
      ]
     },
     "execution_count": 10,
     "metadata": {},
     "output_type": "execute_result"
    }
   ],
   "source": [
    "# выведите на экран 20 значений нового набора\n",
    "year_defects[:20]"
   ]
  },
  {
   "cell_type": "code",
   "execution_count": 11,
   "metadata": {},
   "outputs": [
    {
     "name": "stdout",
     "output_type": "stream",
     "text": [
      "2493\n"
     ]
    }
   ],
   "source": [
    "# если ожадемое значение равно 7 то какое кол-во дефектов мы можем ожидать в течении всего года\n",
    "print(sum(year_defects))"
   ]
  },
  {
   "cell_type": "code",
   "execution_count": 12,
   "metadata": {},
   "outputs": [
    {
     "name": "stdout",
     "output_type": "stream",
     "text": [
      "6.83013698630137\n"
     ]
    }
   ],
   "source": [
    "# рассчитайте среднее кол-во дефектов\n",
    "print(year_defects.mean())"
   ]
  },
  {
   "cell_type": "code",
   "execution_count": 13,
   "metadata": {},
   "outputs": [
    {
     "name": "stdout",
     "output_type": "stream",
     "text": [
      "14\n"
     ]
    }
   ],
   "source": [
    "# выведите максимальное кол-во деффектов за один день\n",
    "print(year_defects.max())"
   ]
  },
  {
   "cell_type": "code",
   "execution_count": 14,
   "metadata": {},
   "outputs": [
    {
     "name": "stdout",
     "output_type": "stream",
     "text": [
      "0.005717202492495965\n"
     ]
    }
   ],
   "source": [
    "# рассчитайте вероятность наблюдения максимального значения и выше\n",
    "print(1 - st.poisson.cdf(14, 7))"
   ]
  }
 ],
 "metadata": {
  "kernelspec": {
   "display_name": "Python 3",
   "language": "python",
   "name": "python3"
  },
  "language_info": {
   "codemirror_mode": {
    "name": "ipython",
    "version": 3
   },
   "file_extension": ".py",
   "mimetype": "text/x-python",
   "name": "python",
   "nbconvert_exporter": "python",
   "pygments_lexer": "ipython3",
   "version": "3.12.5"
  }
 },
 "nbformat": 4,
 "nbformat_minor": 2
}
