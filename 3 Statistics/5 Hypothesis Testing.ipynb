{
 "cells": [
  {
   "cell_type": "markdown",
   "metadata": {},
   "source": [
    "# Тестирование Гипотез\n",
    "\n",
    "## Введение в тестирование гипотез (Моделирование One-Sample T-Test)\n",
    "## Simulating a One-Sample T-Test\n",
    "\n",
    "### Что такое тестирование гипотез?\n",
    "\n",
    "Тестирование гипотез это основа для вопросов направленных на набор данных и предоставление на эти вопросы ответы с утверждением с определенной долей вероятности. Существует множество различных тестирований гипотез которые могут быть использованы на полученые ответов на различные вопросы к данным.\n",
    "\n",
    "### Шаг 1: Задай вопрос\n",
    "\n",
    "IBMD (International Baccalaureate Degree Programme) это всемирная широко известная программа обучения. Каждый год студенты в различных школах могут пройти тестировагия для получения своей оценки. Общая оценка данного экзамена варьируется от 1 до 45. На основе собранных данных средняя оценка всех студентов которые сдавали экзамен в мае 2020 года составляла 29.92. Распределение оценок выглядела следующим образом.\n",
    "\n",
    "![](./img/5_1.png)\n",
    "\n",
    "Представьте гипотетическую онлайн школу, Академия Статистики, котора предлагает 5 недельную подготовку к выше указанному экзамену. Предположим что 100 случайных студентов которые сдавали экзамен в мае 2020, были первой группой которая прошла подготовительные курсы и набрала средний бал по экзамену 31.16. Действительно ли данные студенты лучше справились с экзаменом благодаря подготовительным курсам? Или это просто было случайностью?\n",
    "\n",
    "### Шаг 2 Определите нулевую (Null) и альтернативные гипотезы\n",
    "\n",
    "Прежде чем отвечать на появившиеся вопросы, очень полезно перефразировать их в тестируемые вопросы (другими словами в вопросы которые можно протестировать). В данный моменты наш вопрос не совсем четко понятен. Объективно, группа студентов из 100 человек справились с экзаменом лучше чем все студенты - но ответ \"да, они лучше остальных\" не ощущается удовлетворительным.\n",
    "\n",
    "Причина по которой ответ неудовлитворительный: если мы возьмем 100 случайных студентов из популяции и рассчитаем среднее значение оценки для данной выборки, существует 50% шанс что данный показатель будет вышей всей популяции. Наблюдение более высокого среднего значения выборки чем всей популяции не новость и не удивительное явление.\n",
    "\n",
    "Конечно, существовала бы огромная разица между значением всей популяции и студентами первой группы подготовительных курсов в случае если бы они все набрали по 45 баллов, в таком случае мы были бы явно убежденны в наличии огромного преимущества данных студентов. Хитрость в том, чтобы кол-но определить когда разница являются \"достаточно большой\", что убедило бы нас в наличии реального преимущества. Мы можем достичь этого путем изменения вопроса направив его на популяцию, нежели на отдельную выборку.\n",
    "\n",
    "Тестирование гипотезы начинается с двух соревнующихся гипотез о популяции откуда была произведена выборка - в данном случае, 100 студентов из Академии статистики\n",
    "- Гипотеза 1 (Технически называется Нулевой гипотезой (**Null Hypothesis**)): 100 студентов Академии Статистики выбраные случайно из всей популяции для стади экзамена, которая имеет среднее значение оценки 29.92. Если данная гипотеза правдива, то студенты Академии Статистики заработали выше средний бал случайным образом. Визуально это выглядело бы следующим образом\n",
    "\n",
    "![](./img/5_2.png)\n",
    "\n",
    "- Гипотеза 2 (Технически называтся альтернативная гипотеза): 100 студентов Академии статистики которые были взяты из популяции со средней оценкой которая отличается от средней оценки популяции. В данной гипотезе, нам следует представить две различные популяции которые по факту не существуют: одна где все студенты проходили курсы подготовки в академии статистики и другая где никто не проходил подготовительные курсы. Если альтернативная гипотеза верна то, наша выборка из 100 студентов академии статистики были взяты из различных популяций чем остальные остальные студенты сдававшие экзамен. Эту гипотезу можно визуально представить таким образом\n",
    "\n",
    "![](./img/5_3.png)\n",
    "\n",
    "Нам потребуется сделать еще одно разъяснение для полного понимания альтернативной гипотезы. Обратите внимание что, пока мы не говорили ничего о средней оценке \"популяции 1\" показанной на диаграмме выше, кроме того что она отличается от значеия 29.92. Мы имеем три варианта суждения о том что нам подтверждает альтернативная гипотеза:\n",
    "- среднее значение выше 29.92\n",
    "- не равно 29.92\n",
    "- меньше 29.92\n",
    "\n",
    "### Шаг 3 Определение нулевого распределения\n",
    "\n",
    "Теперь когда у нас есть нулевая гипотеза, мы можем сформировать нулевое распределение: это распределение статистического показателя который нам инетересен в случае если нулевая гипотеза окажется правдой. В примере с экзаменов IBDP, таким распределение является распределение среднего значения оценки повторяющихся выборов размером 100 из популяции средняя оценка которая составляется 29.92.\n",
    "\n",
    "Это может показаться очень знакомым после знакомства с CLT (Central Limit Theorem). Теория статистики позволяет нам получить форму данного распределения используя единственную выборку. Вы можете обучится этому если углубитесь в изучение CLT, но в случае нашего примера, давайте смоделируем нулевое распределение используя наше популяцию. Мы можем сделать это путем:\n",
    "- Брать большое кол-во выборок размером 100\n",
    "- Рассчитывать и сохраняться среднее значение каждой выборки\n",
    "- Сформировать гистограмму на основе полученных средних значений выборок\n",
    "\n",
    "![](./img/5_4.png)\n",
    "\n",
    "В случае если нулевая гипотеза правда, то средняя оценка 31.16 наблюдаемая у студентов Академии статистики является одной из возможных оценок из данного распределения. Давайте отобразим среднее значение нулевого распределения. Обратите внимание что данное значение находится в диапазоне нулевого распределения, но оно смещенно вправо там где плотность ниже.\n",
    "\n",
    "![](./img/5_5.png)\n",
    "\n",
    "### Шаг 4 Расчет показателя P (или Доверительный интервал)\n",
    "### Шаг 4 P-Value (or Confidence Interval)\n",
    "\n",
    "Вот базовый вопрос который задается в наших тестах гипотез:\n",
    "\n",
    "Если нулевая гипотеза верна, как получилось что их средняя оценка равна 31.16?\n",
    "\n",
    "Малая проблема этого вопроса заключается в том что пероятность что любое среднее значение очень мало, в таком случае мы действительно хотим рассчитать вероятность диапазона значений. Теперь давайте вернемся к нашим трем альтернативным гипотезам и посмотрим как вопрос и расчеты изменяются, в зависимости от того какую гипотезу мы выберем.\n",
    "\n",
    "#### Вариант 1\n",
    "\n",
    "Альтернативная гипотеза: Выборка из 100 студентов подтовленных по программе Академии Статистики были взяты из популяции средняя оценка которой выше 29.92.\n",
    "\n",
    "В данном случае, мы хотим знать вероятность наблюдения больше или равно среднее значение выборки из популяции 31.16, в таком случае нулевая гипотеза будет верна. Визуально это можно представить как пропорцию нулевого распределения значение которой выше или равно 31.16 (красная пунктирная линия на диаграмме ниже). Тут красная область составляет 3.1% от всего распределения. Данная пропорция, которая обычно записывается дробным числом называют **p-value**.\n",
    "\n",
    "![](./img/5_6.png)\n",
    "\n",
    "#### Вариант 2\n",
    "\n",
    "Альтернативная гипотеза: Выборка из 100 студентов которые проходили подготовительные курсы в Академии Статистики были выбраны из популяции среднее значение которой не равно 29.92 (больше или меньше этого значения).\n",
    "\n",
    "Мы наблюдаем среднее значение 31.16 студентов академии статистики, что на 1.24 пункта выше средней оценки всей популяции (если нулевая гипотеза верна). В первой версии тестирования гипотезы (Вариант 1), мы расчитали вероятность наблюдения того что средняя оценка случайно выборки будет как минимум выше средней оценки популяции на 1.24 пункта. Для альтернативной гипотезы описанной в Варианте 2, нам интересна веротяность наблюдения что средняя оценка случайной выборки будет как минимум отличаться на 1.24 пункта. Визуально это можно представить как области которые начинаются от среднего значение популяции + 1.24 и - 1.24, в таком случае областей окажется две и p-value будет равно 6.2%.\n",
    "\n",
    "![](./img/5_7.png)\n",
    "\n",
    "Пока Вариант 1 часто описывается как **One-Sided** или **One-Tailed** тестирование, данная версия описывается как **Two-Sided** или **Two-Tailed**. Это очень важное замечание так как в Python тестирование гипотез производится как Two-Tailed по умолчанию.\n",
    "\n",
    "#### Вариант 3\n",
    "\n",
    "Альтернативная гипотеза: Средняя оценка выборки из 100 студентов которые проходили подготовку в Академии Статистики которые были взяты из популяции ниже средней оценки популяции равно 29.92.\n",
    "\n",
    "В данном случае, мы хотим узнать вероятность наблюдения что средняя оценка случайной выборки размеров в 100 будет ниже или равно значению 31.16, в случае если нулевая гипотеза верна. Это также One-Side тестирование, только противоположно Варианту 1. Визуально это можно представить как пропорцию нулевого распределения значения которой ниже 31.16. Это очень большая область (почти 97% распределения), согласно значению p-value 0.969.\n",
    "\n",
    "![](./img/5_8.png)\n",
    "\n",
    "В данном случае, вы возможно думаете: почему кому то необходимо выбирать данный вариант альтернативной гипотезы? В действительности, если пред-тест прогрмма была спланирована на запуск строгого эксперимента, чтобы увидеть, набирают ли ученики другие баллые чем вся популяция, им следует выбрать альтернативную гипотезу до того как приступать к сбору данных. В этот момент они не будут знать, будет ли их выборка студентов иметь средний балл выше или ниже, чем средий балл по популяции, хотя они, вероятно, недуются, что он выше.\n",
    "\n",
    "### Шаг 5 Объяснение результатов\n",
    "\n",
    "В трех примерах выше, мы рассчитали три различных значения показателя p-value (0.031, 0.062, 0.969). Исходя из первого значения можно сделать заключение: Если 100 случайных студентов Академии Статистики из всей популяции (которая имеет средний балл 29.92), существует 3.1% шанса что их средний балл будет 31.16 или выше.\n",
    "\n",
    "Это значит что событие относительно маловероятно, но не невозможно, чтобы студенты Академии Статистики случайно набрали более высокие (в среднем) баллы, чем другие студенты, несмотря на отсутствие реальной разницы на уровне населения. Другими словами, наблюдаемые данные маловероятны, если нелвая гипотеза верна. Обратите внимание: мы напрямую проверили нулевую гипотезу, а не альтернативную! Поэтому на нужно быть немного осторожными в интерпретации этого теста: мы не можем сказать, что доказали, что альтернативная гипотеза верна - только то, что собранные нами данные были бы маловероятными при нулевой гипотезе, и поэтому мы считаем, что альтернативная гипотеза более согласуется с нашими наблюдениями.\n",
    "\n",
    "## Пороги значимости\n",
    "\n",
    "Хотя вполне разумно сообщать p-value, многие специалисты по данным используют предопределенный порог, чтобы решить, является ли конкретное p-value значимым или нет. P-value ниже выбранного порога обхявляются значимыми и приводят специалиста по данным к \"отвержению нулевой гипотезы в пользу альтернативной\". Обычный выбор для этого порога, который также иногда называют Alpha, составляет 0.05 - но это произвольный выбор. Использование более низкого порога означает, что вы с меньшей вероятность найдете значимые результаты, но также с меньшей вероятностью ошибочно сообщите о значимом результате, когда его нет.\n",
    "\n",
    "Используя первое p-value 0.031 и порог значимости 0.05, Академия Статистики смогла отвергнуть нулевую гипотезу и сделать вывод, что 100 студентов, принявших участиме в их программе, набрали значительно более высокие баллы по тесту, чем общая популяция.\n",
    "\n",
    "## Влияние альтернативных гипотез\n",
    "\n",
    "Обратите внимание, что различные альтернативные гипотезы могут привести к разным выводам. Например, односторонние тестирования, описанные выше (p = 0.031), приведет к тому, что специалист по данным отвергнет нулевую гипотезу на уровне значимости 0.05. Между тем, двусторонний тест на тех же данных приводит к p-value 0.062, что больше порогового значения 0.05. Таким образом, для двустороннего теста специалист по данным не может отвергнуть нулевую гипотезу. Это подчеркивает важность выбора альтернативной гипотезы заранее."
   ]
  },
  {
   "cell_type": "markdown",
   "metadata": {},
   "source": [
    "# ONE-SAMPLE T-TESTS in SCIPY\n",
    "\n",
    "One-Sample T-tests используются для формирования среднего значение выборки по гипотетической средней популяции. Например, one-sample t-test может быть использован для ответа такие вопросы как:\n",
    "- является ли данный средний показатель проведения веремени пользователя на сайте отличным от 5 минут?\n",
    "- является ли данный средний показатель потраченных денег которые покупатель тратит больше чем 10 долларов?\n",
    "\n",
    "Как пример, давайте представим фиктивный бизнес BuyPie, который отправляет ингридиенты для приготовления пирога прямо к порогу дома, что вы можете приготовить его самостоятельно. Предположим что продуктовый менеджер хочет чтобы средний чек онлайн заказа составлял 1000 рупий. В прошедший день, 50 человек сделали онлайн заказ и средний чек составлял меньше 1000 рупий. Действительно ли люди потратили меньше 1000 рупий в среднем? Или это результат вероятности малой выборки данных?"
   ]
  },
  {
   "cell_type": "code",
   "execution_count": 1,
   "metadata": {},
   "outputs": [],
   "source": [
    "# используйте набор данных по пути ./files/prices\n",
    "\n",
    "import numpy as np\n",
    "\n",
    "prices = np.genfromtxt('./files/prices.csv')"
   ]
  },
  {
   "cell_type": "code",
   "execution_count": 2,
   "metadata": {},
   "outputs": [
    {
     "name": "stdout",
     "output_type": "stream",
     "text": [
      "[ 978. 1080.  999.  855. 1105.  961.  899. 1061.  880. 1455.  505.  936.\n",
      " 1024.  982.  840.  930.  829.  504.  955. 1380. 1361. 1130.  946.  973.\n",
      " 1076. 1131.  810.  734. 1275.  867.  962.  865.  709. 1216.  735.  768.\n",
      "  757. 1060.  715.  839.  999. 1259. 1194. 1082. 1129. 1255.  931. 1236.\n",
      "  921.  907.]\n"
     ]
    }
   ],
   "source": [
    "# выведите содержимое переменной prices\n",
    "print(prices)"
   ]
  },
  {
   "cell_type": "code",
   "execution_count": 3,
   "metadata": {},
   "outputs": [
    {
     "name": "stdout",
     "output_type": "stream",
     "text": [
      "980.0\n"
     ]
    }
   ],
   "source": [
    "# рассчитайте среднее значение\n",
    "prices_mean = np.mean(prices)\n",
    "\n",
    "# выведите значение на экран\n",
    "print(prices_mean)"
   ]
  },
  {
   "cell_type": "markdown",
   "metadata": {},
   "source": [
    "# Реализация one-sample t-test\n",
    "\n",
    "Ранее мы изучили выборку из 50 чеков бизнеса BuyPie и получили среднее значение равное 980 рупий. Предположим что мы хотим провести one-sample t-test со следующими нулевой и альтернативной гипотезами:\n",
    "- Null: среднее значение чек равно 1000 рупий\n",
    "- Альтернатива: Среднее значение чека не равно 1000 рупий\n",
    "\n",
    "Библиотека SciPy имеет специальаную функцию **ttest_1samp()**, которая реализует one-sample t-test.\n",
    "\n",
    "Для данного метода необходимы два параметра\n",
    "- распределение выборки (данные выборки)\n",
    "- среднее значения для тестирования (среднее значение которое необходимо протестировать)\n",
    "\n",
    "Функция используется распределение выборки для определения размера выборки и расчета вариаций в популяции - которые используются для получения нулевого распределения. Метод возвращает два значения:\n",
    "- t-statistics\n",
    "- p-value"
   ]
  },
  {
   "cell_type": "code",
   "execution_count": 5,
   "metadata": {},
   "outputs": [
    {
     "name": "stdout",
     "output_type": "stream",
     "text": [
      "0.4920744804182786\n"
     ]
    }
   ],
   "source": [
    "import scipy.stats as stats\n",
    "\n",
    "tstat, pval = stats.ttest_1samp(prices, 1000)\n",
    "\n",
    "print(pval)"
   ]
  },
  {
   "cell_type": "markdown",
   "metadata": {},
   "source": [
    "## Предположение One-Sample t-test\n",
    "\n",
    "Когда запускаем любое тестирование гипотезы, очень важно знать и убеждаться в предположении тестов. Предположения one-sample t-test являются такими:\n",
    "- Выборка случайных значений из популяции\n",
    "    - Например, если вы собираете данные посетителей сайта которые согласны поделиться своей персональной информацией, данное подмножество посетителей не является случайно выбранным и может отличаться при выборке из большей популяции\n",
    "- Индивидуальные наблюдения независимы\n",
    "    - Например, если один посетитель BuyPie любит яблочные пироги, они купили их так много что они подтолкнули своих друзей купить один тоже, такое наблюдения не являются независимым.\n",
    "- Данные нормально распределены без outliers или размер выборки достаточно велик\n",
    "    - Не существует какого то определенного правила на \"достаточно великий\" размер выборки, но стандартный размер считается 40. Для выборки размером меньше чем 40, а вообще для выборок любого размера, это хорошая идея для того чтобы удостоверится в отсутствии outliers, мультимодальных распределений или скошенных распределений - построение диаграмм. Если вы заметите один из пунктов то считается что размер выборки мал."
   ]
  },
  {
   "cell_type": "code",
   "execution_count": 6,
   "metadata": {},
   "outputs": [
    {
     "data": {
      "image/png": "[encoded data removed]",
      "text/plain": [
       "<Figure size 640x480 with 1 Axes>"
      ]
     },
     "metadata": {},
     "output_type": "display_data"
    }
   ],
   "source": [
    "import matplotlib.pyplot as plt\n",
    "\n",
    "plt.hist(prices)\n",
    "plt.show()\n",
    "plt.close()"
   ]
  }
 ],
 "metadata": {
  "kernelspec": {
   "display_name": "Python 3",
   "language": "python",
   "name": "python3"
  },
  "language_info": {
   "codemirror_mode": {
    "name": "ipython",
    "version": 3
   },
   "file_extension": ".py",
   "mimetype": "text/x-python",
   "name": "python",
   "nbconvert_exporter": "python",
   "pygments_lexer": "ipython3",
   "version": "3.12.5"
  }
 },
 "nbformat": 4,
 "nbformat_minor": 2
}
