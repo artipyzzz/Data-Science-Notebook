{
 "cells": [
  {
   "cell_type": "markdown",
   "metadata": {},
   "source": [
    "# Биноминальное тестирование\n",
    "\n",
    "Биноминальное тестирование полезно при сопоставлении частоты некоторого результата в выборке к ожидаемой вероятности данного результата. Например, если мы ожидаем что 90% пассажиров с билетами прибудут на своей рейс но только 80 из 100 пассажиров пришло по факту, в таком случае мы можем использовать биноминальное тестирование для понимания значительности различия 80 от 90.\n",
    "\n",
    "Биноминальное тестирование схоже с one-sample t-test в том что они тестируют статистику выборки вместо некоторого уровня ожидания популяции. Различия в том что:\n",
    "- биноминальное тестирование используется в бинарных категорийных данных для сравнения частоты выборки с ожидаемым уровнем вероятности популяции\n",
    "- one-sample t-test используется для числовых данных для сравнения среднего значения выборки с ожидаемым средним значением популяции\n",
    "\n",
    "Для практической работы используется набор данных ./files/monthly_report.csv"
   ]
  },
  {
   "cell_type": "code",
   "execution_count": 2,
   "metadata": {},
   "outputs": [
    {
     "name": "stdout",
     "output_type": "stream",
     "text": [
      "             timestamp purchase                       item\n",
      "0  2020-01-17 17:23:06        y  cue cards - love actually\n",
      "1  2020-01-25 17:09:39        n                        NaN\n",
      "2  2020-01-25 05:22:01        n                        NaN\n",
      "3  2020-01-18 04:33:40        y      t-rex - jurassic park\n",
      "4  2020-01-24 17:24:52        n                        NaN\n"
     ]
    }
   ],
   "source": [
    "import pandas as pd\n",
    "\n",
    "# загрузим данные из файла\n",
    "monthly_report = pd.read_csv('./files/monthly_report.csv')\n",
    "\n",
    "# выведем несколько строк данных\n",
    "print(monthly_report.head())"
   ]
  },
  {
   "cell_type": "markdown",
   "metadata": {},
   "source": [
    "## Сводная таблица выборки\n",
    "\n",
    "Данные в файлах описывают продажи компании Live-it-LIVE.\n",
    "\n",
    "Департамент маркетинга предоставила отчет о том что, в настоящий момент в этом году, около 10% посетителей сайта делают покупку.\n",
    "\n",
    "Месячный отчет показывает каждого посетителя сайта и делал или не делал ли он покупку. Данный вебсайт по подтверждению покупки имеет небольшой баг в этом месяце, таким образом департамент бизнеса хочет знать сильно ли уровень покупок опустился ниже ождаемого. Они попросили нас заняться данным вопросом.\n",
    "\n",
    "Прежде чем приступать к тестирование гипотезы, для начала нам необходимо знать две вещи о данных:\n",
    "- Кол-во людей посетивших сайт\n",
    "- Кол-во людей совершивших покупку на сайте\n",
    "\n",
    "Предположим что каждая строка данных представляет собой уникального посетителя, мы можем посчитать кол-во людей которые посетили сайт путем подсчета строк в наборе данных. Далее мы можем посчитать кол-во пользователей которые сделали покупку используя условия и суммирование."
   ]
  },
  {
   "cell_type": "code",
   "execution_count": 3,
   "metadata": {},
   "outputs": [
    {
     "name": "stdout",
     "output_type": "stream",
     "text": [
      "500\n"
     ]
    }
   ],
   "source": [
    "# рассчитайте кол-во строк в наборе данных\n",
    "sample_size = len(monthly_report)\n",
    "\n",
    "print(sample_size)"
   ]
  },
  {
   "cell_type": "code",
   "execution_count": 4,
   "metadata": {},
   "outputs": [
    {
     "name": "stdout",
     "output_type": "stream",
     "text": [
      "41\n"
     ]
    }
   ],
   "source": [
    "# рассчитайте кол-во пользователей совершивших покупку\n",
    "num_purchased = len(monthly_report[monthly_report.purchase == 'y'])\n",
    "\n",
    "print(num_purchased)"
   ]
  },
  {
   "cell_type": "markdown",
   "metadata": {},
   "source": [
    "## Моделирование случайности\n",
    "\n",
    "Исходя из данных об ожидаемых покупках (10%) получаем что на 500 пользователей должно быть совершенно 50 покупок.\n",
    "\n",
    "Сильно ли показатель 41 отличается от 50?\n",
    "\n",
    "Чтобы понять почему наше ожидаемое значение (50) и наблюдаемое значение (41) могут быть не равны - даже если не было падения вероятности покупки - давайте обратимся к обычному примеру вероятности: подбрасыванию монеты. Мы можем смоделировать подбрасывание монеты используя функцию **numpy.random.choice()**\n",
    "\n",
    "Если мы подбрасываем монетку 10 раз подряд, мы ожидаем что 5 результатов будет \"орел\". По той причине что это случайны процесс, мы не можем гарантировать что абсолютно точно половина подбросов монеты будет \"орлом\". Применяя данное правило к нашему примеру ожидаемое значение в 10% не говорит о том что мы получим абсолютно 10% процентов продаж на выборку."
   ]
  },
  {
   "cell_type": "code",
   "execution_count": 5,
   "metadata": {},
   "outputs": [
    {
     "name": "stdout",
     "output_type": "stream",
     "text": [
      "['n']\n"
     ]
    }
   ],
   "source": [
    "# по средствам специальной функции смоделируйте ситуацию продаж с шансов в 10% и присвоейте результат перевенной one_visitor\n",
    "import numpy as np\n",
    "\n",
    "one_visitor = np.random.choice(['y','n'], size =1 , p=[0.1, 0.9])\n",
    "\n",
    "print(one_visitor)"
   ]
  },
  {
   "cell_type": "code",
   "execution_count": 6,
   "metadata": {},
   "outputs": [
    {
     "name": "stdout",
     "output_type": "stream",
     "text": [
      "['n' 'n' 'n' 'n' 'n' 'n' 'n' 'n' 'n' 'n' 'y' 'n' 'n' 'n' 'n' 'n' 'n' 'n'\n",
      " 'n' 'y' 'n' 'y' 'y' 'n' 'n' 'y' 'n' 'n' 'n' 'n' 'n' 'n' 'n' 'n' 'n' 'n'\n",
      " 'n' 'n' 'n' 'y' 'n' 'y' 'n' 'n' 'n' 'n' 'n' 'n' 'n' 'n' 'n' 'n' 'n' 'n'\n",
      " 'n' 'n' 'n' 'n' 'n' 'n' 'n' 'n' 'n' 'n' 'n' 'n' 'y' 'n' 'n' 'n' 'n' 'n'\n",
      " 'n' 'n' 'n' 'y' 'n' 'n' 'n' 'n' 'n' 'n' 'n' 'n' 'n' 'n' 'n' 'n' 'n' 'n'\n",
      " 'n' 'n' 'n' 'n' 'y' 'n' 'n' 'n' 'n' 'n' 'y' 'n' 'n' 'n' 'n' 'n' 'n' 'n'\n",
      " 'n' 'n' 'n' 'n' 'n' 'n' 'n' 'n' 'n' 'n' 'n' 'n' 'n' 'n' 'n' 'n' 'y' 'n'\n",
      " 'n' 'n' 'n' 'n' 'n' 'n' 'y' 'n' 'n' 'n' 'n' 'n' 'n' 'n' 'y' 'n' 'n' 'n'\n",
      " 'n' 'n' 'n' 'n' 'y' 'n' 'n' 'n' 'n' 'n' 'n' 'n' 'n' 'n' 'n' 'n' 'n' 'n'\n",
      " 'y' 'n' 'n' 'n' 'y' 'n' 'n' 'y' 'y' 'y' 'n' 'n' 'n' 'n' 'n' 'n' 'n' 'n'\n",
      " 'n' 'n' 'n' 'n' 'n' 'n' 'n' 'n' 'n' 'n' 'n' 'n' 'n' 'n' 'n' 'n' 'n' 'n'\n",
      " 'n' 'n' 'n' 'n' 'n' 'n' 'n' 'n' 'n' 'n' 'y' 'n' 'y' 'n' 'n' 'y' 'n' 'n'\n",
      " 'n' 'n' 'n' 'n' 'n' 'n' 'n' 'n' 'n' 'n' 'n' 'n' 'y' 'n' 'n' 'n' 'y' 'n'\n",
      " 'n' 'n' 'n' 'n' 'n' 'n' 'y' 'n' 'n' 'n' 'n' 'n' 'n' 'n' 'n' 'n' 'n' 'n'\n",
      " 'n' 'n' 'n' 'n' 'n' 'n' 'n' 'n' 'y' 'n' 'n' 'n' 'n' 'n' 'n' 'n' 'n' 'n'\n",
      " 'n' 'n' 'y' 'n' 'n' 'y' 'n' 'n' 'n' 'n' 'y' 'n' 'n' 'n' 'y' 'n' 'n' 'n'\n",
      " 'n' 'n' 'n' 'n' 'n' 'n' 'n' 'n' 'n' 'n' 'n' 'n' 'n' 'n' 'n' 'n' 'n' 'n'\n",
      " 'n' 'n' 'n' 'n' 'n' 'n' 'n' 'y' 'n' 'n' 'n' 'n' 'n' 'y' 'n' 'n' 'n' 'n'\n",
      " 'n' 'n' 'n' 'n' 'n' 'n' 'n' 'n' 'n' 'y' 'n' 'n' 'n' 'n' 'n' 'n' 'n' 'n'\n",
      " 'n' 'n' 'n' 'n' 'n' 'y' 'n' 'n' 'n' 'n' 'n' 'n' 'n' 'n' 'n' 'n' 'y' 'n'\n",
      " 'n' 'n' 'n' 'n' 'n' 'n' 'n' 'n' 'n' 'n' 'n' 'y' 'y' 'n' 'n' 'n' 'n' 'n'\n",
      " 'y' 'n' 'n' 'n' 'n' 'n' 'n' 'n' 'n' 'n' 'n' 'n' 'n' 'n' 'n' 'n' 'y' 'n'\n",
      " 'y' 'n' 'n' 'n' 'n' 'n' 'n' 'n' 'n' 'n' 'y' 'y' 'y' 'n' 'n' 'n' 'n' 'n'\n",
      " 'n' 'y' 'n' 'n' 'n' 'n' 'n' 'n' 'n' 'n' 'n' 'n' 'n' 'n' 'n' 'n' 'n' 'y'\n",
      " 'n' 'n' 'n' 'n' 'n' 'n' 'n' 'n' 'n' 'n' 'n' 'n' 'n' 'n' 'n' 'y' 'n' 'n'\n",
      " 'n' 'n' 'n' 'n' 'n' 'n' 'n' 'y' 'n' 'n' 'n' 'n' 'n' 'n' 'n' 'n' 'y' 'n'\n",
      " 'n' 'n' 'n' 'n' 'y' 'n' 'y' 'n' 'n' 'n' 'y' 'y' 'n' 'y' 'n' 'y' 'n' 'n'\n",
      " 'n' 'n' 'n' 'n' 'n' 'n' 'n' 'n' 'n' 'n' 'n' 'n' 'n' 'y']\n"
     ]
    }
   ],
   "source": [
    "# теперь смоделируйте список из случайных значений величиной 500 элементов по примеру выше и присвоейте результат переменной simulated_monthly_visitors\n",
    "simulated_monthly_visitors = np.random.choice(['y','n'], size=500, p=[.1, .9])\n",
    "\n",
    "print(simulated_monthly_visitors)"
   ]
  },
  {
   "cell_type": "markdown",
   "metadata": {},
   "source": [
    "## Моделирование нулевого распределения\n",
    "\n",
    "Первыш шагом для тестирования гипотезы это формирования нулевой гипотезы. Для вопроса насколько отличается уровень продаж компании от 10% в этом месяце, нулевая гипотеза описывает мир в которого верна вероятность что точно 10% посетителей совершают покупки, но используя случайный шанс, мы наблюдаем что только 41 посетитель (8.2%) совершают покупку.\n",
    "\n",
    "Давайте вернемся к примеру с подбросом монеты. Мы можем смоделировать 10 подбросов монеты и вывести на экран кол-во \"орлов\" из этих 10 подбросов. Если запускать один и тот же код несколько раз, мы увидем что каждый раз результат различный. Это даст нам ощущение что существует диапазон кол-ва значений которые могут появится случайным образом, даже если это простая монета."
   ]
  },
  {
   "cell_type": "code",
   "execution_count": 7,
   "metadata": {},
   "outputs": [
    {
     "name": "stdout",
     "output_type": "stream",
     "text": [
      "31\n"
     ]
    }
   ],
   "source": [
    "# используя блок кода выше посчитайте кол-во покупок и запишите данное значение в переменную num_purchased\n",
    "simulated_monthly_visitors = np.random.choice(['y','n'], size=500, p=[.1, .9])\n",
    "\n",
    "num_purchased = np.sum(simulated_monthly_visitors == 'y')\n",
    "\n",
    "print(num_purchased)"
   ]
  },
  {
   "cell_type": "code",
   "execution_count": 8,
   "metadata": {},
   "outputs": [
    {
     "name": "stdout",
     "output_type": "stream",
     "text": [
      "28 79\n"
     ]
    }
   ],
   "source": [
    "# используя цикл и блок кода выше вычислите кол-во пользователей которые совершили покупку 10000 раз и записывайте каждый результат в переменную null_outcomes методом append\n",
    "null_outcomes = []\n",
    "\n",
    "for i in range(10000):\n",
    "    simulated_monthly_visitors = np.random.choice(['y','n'], size=500, p=[.1, .9])\n",
    "\n",
    "    num_purchased = np.sum(simulated_monthly_visitors == 'y')\n",
    "\n",
    "    null_outcomes.append(num_purchased)\n",
    "\n",
    "# вычислите минимальное и максимальное значения списка null_outcomes\n",
    "null_min = np.min(null_outcomes)\n",
    "null_max = np.max(null_outcomes)\n",
    "\n",
    "print(null_min, null_max)"
   ]
  },
  {
   "cell_type": "markdown",
   "metadata": {},
   "source": [
    "## Исследование нулевого распределения"
   ]
  },
  {
   "cell_type": "code",
   "execution_count": 9,
   "metadata": {},
   "outputs": [
    {
     "data": {
      "image/png": "[encoded data removed]",
      "text/plain": [
       "<Figure size 640x480 with 1 Axes>"
      ]
     },
     "metadata": {},
     "output_type": "display_data"
    },
    {
     "data": {
      "text/plain": [
       "<Figure size 640x480 with 0 Axes>"
      ]
     },
     "metadata": {},
     "output_type": "display_data"
    }
   ],
   "source": [
    "# составьте диаграмму нулевого распределения\n",
    "import matplotlib.pyplot as plt\n",
    "\n",
    "plt.hist(null_outcomes)\n",
    "plt.show()\n",
    "plt.clf()"
   ]
  },
  {
   "cell_type": "code",
   "execution_count": 10,
   "metadata": {},
   "outputs": [
    {
     "data": {
      "image/png": "[encoded data removed]",
      "text/plain": [
       "<Figure size 640x480 with 1 Axes>"
      ]
     },
     "metadata": {},
     "output_type": "display_data"
    }
   ],
   "source": [
    "# используя метод plt.axvline() отобразите на диаграмме среднее значение набора данных компании (41)\n",
    "plt.hist(null_outcomes)\n",
    "plt.axvline(41, color='r')\n",
    "plt.show()\n",
    "plt.close()"
   ]
  },
  {
   "cell_type": "markdown",
   "metadata": {},
   "source": [
    "## Доверительный интервал\n",
    "\n",
    "Недавно мы рассчитали что значение варьируются в диапазоне от 24 до 76 покупок на 500 посетителей, но экстремальные значения случались очень редко.\n",
    "\n",
    "Сообщая об интервале, охватывающем 95% значений вместо полного диапазона, мы можем сказать что-то вроде: \"мы на 95% уверены, что если каждый посетитель имеет 10%-ую вероятность совершить покупку, случайная выборка из 500 посетителей совершит от 37 до 63 покупок\". Мы можем использовать функцию np.percentile() для расчета этого 95%-го интервала следующим образом\n",
    "\n",
    "`np.percentile(outcomes, [2.5, 97.5])`\n",
    "\n",
    "Мы рассчитали 2.5-й и 97.5-й процентили так, чтобы ровно 5% данных выпадало за пределы этих процентилей (2.5% выше 97.5-ого процентиля и 2.5% ниже 2.5-го процентиля). Это дает нам диапазон, охватывающий 95% данных.\n",
    "\n",
    "Если наша наблюдаемая статистика выходит за пределы этого интервала, мы можем заключить, что нулвая гипотеза маловероятна. В этом примере, поскольку 41 попадает в интервал 95%, по-прежнему вполне вероятно, что мы наблюдали более низкую скорость покупок по случайности, даже если нулвая гипотеза была верна."
   ]
  },
  {
   "cell_type": "code",
   "execution_count": 11,
   "metadata": {},
   "outputs": [
    {
     "name": "stdout",
     "output_type": "stream",
     "text": [
      "[39. 62.]\n"
     ]
    }
   ],
   "source": [
    "# рассчитайте интервал покарывающий 90% результатов переменной null_outcomes\n",
    "# запишите значение в переменную null_90CI\n",
    "null_90CI = np.percentile(null_outcomes, [5, 95])\n",
    "\n",
    "print(null_90CI)"
   ]
  },
  {
   "cell_type": "markdown",
   "metadata": {},
   "source": [
    "## Расчет One-Sided P-Value "
   ]
  },
  {
   "cell_type": "code",
   "execution_count": 12,
   "metadata": {},
   "outputs": [
    {
     "name": "stdout",
     "output_type": "stream",
     "text": [
      "0.1033\n"
     ]
    }
   ],
   "source": [
    "# на основе рассчитанных данных получите значение вероятности того что значение будет равно или ниже 41\n",
    "# запишите данное значение в переменную p_value\n",
    "null_outcomes = np.array(null_outcomes)\n",
    "p_value = np.sum(null_outcomes <= 41) / len(null_outcomes)\n",
    "\n",
    "print(p_value)"
   ]
  },
  {
   "cell_type": "markdown",
   "metadata": {},
   "source": [
    "# Расчет Two-Sided P-value"
   ]
  },
  {
   "cell_type": "code",
   "execution_count": null,
   "metadata": {},
   "outputs": [
    {
     "name": "stdout",
     "output_type": "stream",
     "text": [
      "0.2077\n"
     ]
    }
   ],
   "source": [
    "# на основе полученных ранее данных null_outcomes рассчитайте значение two-sided p-value\n",
    "# с ожидаемым значением в 10% (50) фактическое значение продаж которое было полученно 41\n",
    "# следовательно нам необходимо расчитать пропорцию суммы значений ниже или равному 41 и выше равному 50 + (50-41) = 59\n",
    "# сохраните значение в переменной p-value и выведите его значение\n",
    "\n",
    "p_value = np.sum((null_outcomes <= 41) | (null_outcomes >= 59)) / len(null_outcomes)\n",
    "\n",
    "print(p_value)\n",
    "# обратите внимание что значение в данном случае в два раза больше предыдущего и это легко объяснить тем что мы взяли два равных диапазона с двух разных концов\n",
    "# также прошу обратить внимание что каждое условие обрамляется круглыми скобками а знак pipeline | заменяет условный оператор OR (ИЛИ)"
   ]
  },
  {
   "cell_type": "markdown",
   "metadata": {},
   "source": [
    "# Написание функции биноминального тестирования\n",
    "\n",
    "На данный момент мы провели смоделированную проверку биноминальной гипотезы для компании. Воспользовавшись блоками кода выше напишем собственную функцию биноминального тестирования.\n",
    "\n",
    "Наша функция будет использовать моделирование, поэтому она будет оценивать (хоть и довольно точно) те же p-values, которые мы получили бы, используя гораздо более сложные математические уравнения."
   ]
  },
  {
   "cell_type": "code",
   "execution_count": null,
   "metadata": {},
   "outputs": [
    {
     "name": "stdout",
     "output_type": "stream",
     "text": [
      "0.1055 0.10011352697567102\n"
     ]
    }
   ],
   "source": [
    "# функция создана в файле my_funcs.py\n",
    "from scipy.stats import binomtest\n",
    "import my_funcs as mf\n",
    "\n",
    "\n",
    "# воспользовавшись нашей функцией указав теже параметры что и в коде выше\n",
    "my_func_result = mf.simulation_binomial_test(41, 500, 0.1)\n",
    "\n",
    "# воспользовавшись встроенным методом из библиотеки scipy сверте ответы\n",
    "binom_result = binomtest(41, 500, 0.1,alternative='less')\n",
    "\n",
    "print(my_func_result, binom_result.pvalue)"
   ]
  },
  {
   "cell_type": "markdown",
   "metadata": {},
   "source": [
    "Значения получились очень близкими"
   ]
  },
  {
   "cell_type": "markdown",
   "metadata": {},
   "source": [
    "# Биноминальное тестирование с использование библиотеки SciPy"
   ]
  },
  {
   "cell_type": "code",
   "execution_count": 24,
   "metadata": {},
   "outputs": [
    {
     "name": "stdout",
     "output_type": "stream",
     "text": [
      "0.10011352697567102\n",
      "0.20456397700682577\n"
     ]
    }
   ],
   "source": [
    "# используя библиотеку и его специальный метод рассчитайте и выведите результат\n",
    "# one-sided и two-sided p-values\n",
    "one_sided = binomtest(41, 500, .1, alternative='less')\n",
    "two_sided = binomtest(41, 500, .1)\n",
    "\n",
    "print(one_sided.pvalue, two_sided.pvalue, sep='\\n')"
   ]
  }
 ],
 "metadata": {
  "kernelspec": {
   "display_name": "Python 3",
   "language": "python",
   "name": "python3"
  },
  "language_info": {
   "codemirror_mode": {
    "name": "ipython",
    "version": 3
   },
   "file_extension": ".py",
   "mimetype": "text/x-python",
   "name": "python",
   "nbconvert_exporter": "python",
   "pygments_lexer": "ipython3",
   "version": "3.12.5"
  }
 },
 "nbformat": 4,
 "nbformat_minor": 2
}
